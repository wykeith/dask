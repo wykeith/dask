{
 "cells": [
  {
   "cell_type": "code",
   "execution_count": 1,
   "metadata": {},
   "outputs": [],
   "source": [
    "import urllib.request as urllib"
   ]
  },
  {
   "cell_type": "code",
   "execution_count": 5,
   "metadata": {},
   "outputs": [],
   "source": [
    "fetch = {\n",
    "    'URL': \"https://audiblecdns3prod-vh.akamaihd.net/i/295894/audiblewords/content/bk/bbca/001052/V$000001$V/aax/bk_bbca_001052_22_32.mp4/segment1_0_a.ts?null=0&hdntl=exp=1585229638~acl=/i/295894/audiblewords/content/bk/bbca/001052/V$000001$V/aax/bk_bbca_001052_22_32.mp4/*~data=hdntl~hmac=b0fc4a32da1c002dcdfb849c4b8a3edffa6ae8ef7cdde74d00ec7dc29daad9b7\",\n",
    "    \"credentials\": \"omit\",\n",
    "    \"headers\": {\n",
    "        \"User-Agent\": \"Mozilla/5.0 (X11; Ubuntu; Linux x86_64; rv:72.0) Gecko/20100101 Firefox/72.0\",\n",
    "        \"Accept\": \"*/*\",\n",
    "        \"Accept-Language\": \"en-US,en;q=0.5\"\n",
    "    },\n",
    "    \"referrer\": \"https://stories.audible.com/\",\n",
    "    \"method\": \"GET\",\n",
    "    \"mode\": \"cors\"\n",
    "}"
   ]
  },
  {
   "cell_type": "code",
   "execution_count": 6,
   "metadata": {},
   "outputs": [],
   "source": [
    "limit = 222"
   ]
  },
  {
   "cell_type": "code",
   "execution_count": 6,
   "metadata": {},
   "outputs": [
    {
     "data": {
      "text/plain": [
       "\"curl 'https://audiblecdns3prod-vh.akamaihd.net/i/295890/audiblewords/content/bk/adbl/004153/V$172544$V/aax/bk_adbl_004153_22_32.mp4/segment1_0_a.ts?null=0&hdntl=exp=1585320536~acl=/i/295890/audiblewords/content/bk/adbl/004153/V$172544$V/aax/bk_adbl_004153_22_32.mp4/*~data=hdntl~hmac=665e791952af124122f0b92ed7c808745cc472dbaff78a3e4e59b38ef23ee69d' -H 'User-Agent: Mozilla/5.0 (X11; Ubuntu; Linux x86_64; rv:72.0) Gecko/20100101 Firefox/72.0' -H 'Accept: */*' -H 'Accept-Language: en-US,en;q=0.5' --compressed -H 'Origin: https://stories.audible.com' -H 'DNT: 1' -H 'Connection: keep-alive' -H 'Referer: https://stories.audible.com/pdp/B007BFCGPY?ref=adbl_ent_anon_ds_pdp_pc_pg-1-cntr-0-1' -o jap-1.ts \\n\""
      ]
     },
     "execution_count": 6,
     "metadata": {},
     "output_type": "execute_result"
    }
   ],
   "source": []
  },
  {
   "cell_type": "code",
   "execution_count": 8,
   "metadata": {},
   "outputs": [],
   "source": [
    "with open('test.sh', 'w') as file:\n",
    "    for i in range(1,limit):\n",
    "        file.write('''curl 'https://audiblecdns3prod-vh.akamaihd.net/i/295890/audiblewords/content/bk/adbl/019671/V$053988$V/aax/bk_adbl_019671_22_32.mp4/segment1_0_a.ts?null=0&hdntl=exp=1585324337~acl=/i/295890/audiblewords/content/bk/adbl/019671/V$053988$V/aax/bk_adbl_019671_22_32.mp4/*~data=hdntl~hmac=e896605647e5cf631d948fc8bc68ec6eea1da056377e13c264bef9753eb48119' -H 'User-Agent: Mozilla/5.0 (X11; Ubuntu; Linux x86_64; rv:72.0) Gecko/20100101 Firefox/72.0' -H 'Accept: */*' -H 'Accept-Language: en-US,en;q=0.5' --compressed -H 'Origin: https://stories.audible.com' -H 'DNT: 1' -H 'Connection: keep-alive' -H 'Referer: https://stories.audible.com/pdp/B00LPMDSLU?ref=adbl_ent_anon_ds_pdp_pc_pg-1-cntr-0-3' -o {number}.ts -s\\n''' \\\n",
    "                    .replace('segment1','segment{number}') \\\n",
    "                    .format(number=i))"
   ]
  },
  {
   "cell_type": "code",
   "execution_count": 9,
   "metadata": {
    "scrolled": true
   },
   "outputs": [],
   "source": [
    "!bash ./test.sh"
   ]
  },
  {
   "cell_type": "code",
   "execution_count": 10,
   "metadata": {},
   "outputs": [],
   "source": [
    "filename = 'The_Too_Clever_Fox'\n",
    "with open('join.sh', 'w') as fp:\n",
    "  fp.write('cat {} > {}.mp4'.format(\" \".join(['{}.ts'.format(i) for i in range(1,limit)]),filename))"
   ]
  },
  {
   "cell_type": "code",
   "execution_count": 11,
   "metadata": {
    "scrolled": false
   },
   "outputs": [],
   "source": [
    "! bash join.sh"
   ]
  },
  {
   "cell_type": "code",
   "execution_count": 12,
   "metadata": {},
   "outputs": [],
   "source": [
    "! rm *.ts"
   ]
  },
  {
   "cell_type": "code",
   "execution_count": 13,
   "metadata": {},
   "outputs": [
    {
     "name": "stdout",
     "output_type": "stream",
     "text": [
      "Writing The_Too_Clever_Fox.txt\n"
     ]
    }
   ],
   "source": [
    "%%writefile The_Too_Clever_Fox.txt\n",
    "In Ravka, just because you avoid one trap, it doesn't mean you'll escape the next. This story is a companion folk tale to Leigh Bardugo's upcoming book, Siege and Storm, the second book in the Grisha Trilogy."
   ]
  },
  {
   "cell_type": "code",
   "execution_count": null,
   "metadata": {},
   "outputs": [],
   "source": []
  }
 ],
 "metadata": {
  "kernelspec": {
   "display_name": "Python 3",
   "language": "python",
   "name": "python3"
  },
  "language_info": {
   "codemirror_mode": {
    "name": "ipython",
    "version": 3
   },
   "file_extension": ".py",
   "mimetype": "text/x-python",
   "name": "python",
   "nbconvert_exporter": "python",
   "pygments_lexer": "ipython3",
   "version": "3.8.1"
  }
 },
 "nbformat": 4,
 "nbformat_minor": 4
}
