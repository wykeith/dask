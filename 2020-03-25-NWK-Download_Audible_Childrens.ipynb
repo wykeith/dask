{
 "cells": [
  {
   "cell_type": "code",
   "execution_count": 1,
   "metadata": {},
   "outputs": [],
   "source": [
    "import urllib.request as urllib"
   ]
  },
  {
   "cell_type": "code",
   "execution_count": 5,
   "metadata": {},
   "outputs": [],
   "source": [
    "fetch = {\n",
    "    'URL': \"https://audiblecdns3prod-vh.akamaihd.net/i/295894/audiblewords/content/bk/bbca/001052/V$000001$V/aax/bk_bbca_001052_22_32.mp4/segment1_0_a.ts?null=0&hdntl=exp=1585229638~acl=/i/295894/audiblewords/content/bk/bbca/001052/V$000001$V/aax/bk_bbca_001052_22_32.mp4/*~data=hdntl~hmac=b0fc4a32da1c002dcdfb849c4b8a3edffa6ae8ef7cdde74d00ec7dc29daad9b7\",\n",
    "    \"credentials\": \"omit\",\n",
    "    \"headers\": {\n",
    "        \"User-Agent\": \"Mozilla/5.0 (X11; Ubuntu; Linux x86_64; rv:72.0) Gecko/20100101 Firefox/72.0\",\n",
    "        \"Accept\": \"*/*\",\n",
    "        \"Accept-Language\": \"en-US,en;q=0.5\"\n",
    "    },\n",
    "    \"referrer\": \"https://stories.audible.com/\",\n",
    "    \"method\": \"GET\",\n",
    "    \"mode\": \"cors\"\n",
    "}"
   ]
  },
  {
   "cell_type": "code",
   "execution_count": null,
   "metadata": {},
   "outputs": [],
   "source": []
  },
  {
   "cell_type": "code",
   "execution_count": 27,
   "metadata": {},
   "outputs": [],
   "source": [
    "with open('test.sh', 'w') as file:\n",
    "    for i in range(1,2359):\n",
    "        file.write('''curl 'https://audiblecdns3prod-vh.akamaihd.net/i/295890/audiblewords/content/bk/adbl/003855/V$000002$V/aax/bk_adbl_003855_22_32.mp4/segment{number}_0_a.ts?null=0&hdntl=exp=1585235804~acl=/i/295890/audiblewords/content/bk/adbl/003855/V$000002$V/aax/bk_adbl_003855_22_32.mp4/*~data=hdntl~hmac=bd0bb05fecd864372838846107c6dc210d4f51f12adf524d5004bae65cd41bf7' -H 'User-Agent: Mozilla/5.0 (X11; Ubuntu; Linux x86_64; rv:72.0) Gecko/20100101 Firefox/72.0' -H 'Accept: */*' -H 'Accept-Language: en-US,en;q=0.5' --compressed -H 'Origin: https://stories.audible.com' -H 'DNT: 1' -H 'Connection: keep-alive' -H 'Referer: https://stories.audible.com/' -o jap-{number}.ts \\n'''.format(number=i))"
   ]
  },
  {
   "cell_type": "code",
   "execution_count": 28,
   "metadata": {},
   "outputs": [
    {
     "ename": "KeyboardInterrupt",
     "evalue": "",
     "output_type": "error",
     "traceback": [
      "\u001b[0;31m---------------------------------------------------------------------------\u001b[0m",
      "\u001b[0;31mKeyboardInterrupt\u001b[0m                         Traceback (most recent call last)",
      "\u001b[0;32m<ipython-input-28-921c95f9d66f>\u001b[0m in \u001b[0;36m<module>\u001b[0;34m\u001b[0m\n\u001b[1;32m      3\u001b[0m \u001b[0;32mfor\u001b[0m \u001b[0mfn\u001b[0m \u001b[0;32min\u001b[0m \u001b[0mfiles\u001b[0m\u001b[0;34m:\u001b[0m\u001b[0;34m\u001b[0m\u001b[0;34m\u001b[0m\u001b[0m\n\u001b[1;32m      4\u001b[0m   \u001b[0;32mwith\u001b[0m \u001b[0mopen\u001b[0m\u001b[0;34m(\u001b[0m\u001b[0mfn\u001b[0m\u001b[0;34m,\u001b[0m \u001b[0;34m'rb'\u001b[0m\u001b[0;34m)\u001b[0m \u001b[0;32mas\u001b[0m \u001b[0mfp\u001b[0m\u001b[0;34m:\u001b[0m\u001b[0;34m\u001b[0m\u001b[0;34m\u001b[0m\u001b[0m\n\u001b[0;32m----> 5\u001b[0;31m     \u001b[0mout_data\u001b[0m \u001b[0;34m+=\u001b[0m \u001b[0mfp\u001b[0m\u001b[0;34m.\u001b[0m\u001b[0mread\u001b[0m\u001b[0;34m(\u001b[0m\u001b[0;34m)\u001b[0m\u001b[0;34m\u001b[0m\u001b[0;34m\u001b[0m\u001b[0m\n\u001b[0m\u001b[1;32m      6\u001b[0m \u001b[0;32mwith\u001b[0m \u001b[0mopen\u001b[0m\u001b[0;34m(\u001b[0m\u001b[0;34m'jap.mp4'\u001b[0m\u001b[0;34m,\u001b[0m \u001b[0;34m'wb'\u001b[0m\u001b[0;34m)\u001b[0m \u001b[0;32mas\u001b[0m \u001b[0mfp\u001b[0m\u001b[0;34m:\u001b[0m\u001b[0;34m\u001b[0m\u001b[0;34m\u001b[0m\u001b[0m\n\u001b[1;32m      7\u001b[0m   \u001b[0mfp\u001b[0m\u001b[0;34m.\u001b[0m\u001b[0mwrite\u001b[0m\u001b[0;34m(\u001b[0m\u001b[0mout_data\u001b[0m\u001b[0;34m)\u001b[0m\u001b[0;34m\u001b[0m\u001b[0;34m\u001b[0m\u001b[0m\n",
      "\u001b[0;31mKeyboardInterrupt\u001b[0m: "
     ]
    }
   ],
   "source": [
    "files = ['jap-{}.ts'.format(i) for i in range(1,2359)]\n",
    "out_data = b''\n",
    "for fn in files:\n",
    "  with open(fn, 'rb') as fp:\n",
    "    out_data += fp.read()\n",
    "with open('jap.mp4', 'wb') as fp:\n",
    "  fp.write(out_data)"
   ]
  },
  {
   "cell_type": "code",
   "execution_count": 39,
   "metadata": {},
   "outputs": [],
   "source": [
    "with open('jap.sh', 'w') as fp:\n",
    "  fp.write('cat {} > jap.mp4'.format(\" \".join(['jap-{}.ts'.format(i) for i in range(1,2359)])))"
   ]
  },
  {
   "cell_type": "code",
   "execution_count": null,
   "metadata": {
    "scrolled": false
   },
   "outputs": [],
   "source": [
    "! bash jap.sh"
   ]
  },
  {
   "cell_type": "code",
   "execution_count": null,
   "metadata": {},
   "outputs": [],
   "source": []
  }
 ],
 "metadata": {
  "kernelspec": {
   "display_name": "Python 3",
   "language": "python",
   "name": "python3"
  },
  "language_info": {
   "codemirror_mode": {
    "name": "ipython",
    "version": 3
   },
   "file_extension": ".py",
   "mimetype": "text/x-python",
   "name": "python",
   "nbconvert_exporter": "python",
   "pygments_lexer": "ipython3",
   "version": "3.8.1"
  }
 },
 "nbformat": 4,
 "nbformat_minor": 4
}
