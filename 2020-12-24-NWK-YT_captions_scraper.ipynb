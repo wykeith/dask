{
 "cells": [
  {
   "cell_type": "code",
   "execution_count": 62,
   "metadata": {},
   "outputs": [
    {
     "name": "stdout",
     "output_type": "stream",
     "text": [
      "Collecting lxml\n",
      "  Downloading lxml-4.6.2-cp38-cp38-manylinux1_x86_64.whl (5.4 MB)\n",
      "\u001b[K     |████████████████████████████████| 5.4 MB 4.4 MB/s eta 0:00:01\n",
      "\u001b[?25hInstalling collected packages: lxml\n",
      "Successfully installed lxml-4.6.2\n"
     ]
    }
   ],
   "source": [
    "!pip install lxml"
   ]
  },
  {
   "cell_type": "code",
   "execution_count": null,
   "metadata": {},
   "outputs": [],
   "source": [
    "# Version 67\n",
    "# From https://ungoogled-software.github.io/ungoogled-chromium-binaries/releases/linux_portable/64bit/\n",
    "!wget -q https://github.com/Eloston/ungoogled-chromium-binaries/releases/download/67.0.3396.87-2/ungoogled-chromium_67.0.3396.87-2_linux.tar.xz\n",
    "!tar -xf ungoogled-chromium_67.0.3396.87-2_linux.tar.xz\n",
    "\n",
    "# From https://chromedriver.storage.googleapis.com/index.html\n",
    "!wget -q https://chromedriver.storage.googleapis.com/2.41/chromedriver_linux64.zip\n",
    "!unzip -o chromedriver_linux64.zip -d ./ungoogled-chromium_67.0.3396.87-1_linux"
   ]
  },
  {
   "cell_type": "code",
   "execution_count": 121,
   "metadata": {
    "scrolled": false
   },
   "outputs": [
    {
     "data": {
      "text/plain": [
       "\"A storm is coming. Oh kid: what you gon na do now: [ Music, ] yeah! You got a monster: [ Music, ], [ Applause, ], [, Music, ], the ashes Susan called this great and stop now. Well, I'm sorry [ Music ]! What you do! It's all! [, Music, ] [, Music, ], [ Applause, ], [, Music, ], [, Music, ], [, Music, ], [, Music ]. We are [ Music, ], [, Music, ], [, Music, ], [, Music, ], [, Music, ], [, Music, ], [, Music, ], so sorry, [, Music, ], [, Music, ], [, Music, ], [, Music, ], Oh [, Music, ], [, Music, ], [ Applause, ], [, Music, ] [ Music, ], [, Music, ], [, Music, ], [, Music, ], honey, [, Music ], just oh, this think, [, Music, ], [, Music ], give me out Brogan's and start fights, Angela's percodans, [, Music, ] yeah. It'S fine to me justifies Oh [, Music, ], [, Music, ], [, Music, ], [, Music, ], [ Applause, ], [, Music, ], [ Applause, ], [, Music, ], [ Applause, ], [, Music, ], [, Music, ], [, Music, ], [ Applause, ], [, Music, ], [ Applause, ] [, Music, ], [ Applause, ], [, Music, ], [ Applause, ], [ Applause, ], [, Music, ], [, Music, ], just like the straight can be. We got this one: [ Music, ], [, Music, ], [, Music, ], [ Applause, ], [, Music, ], [, Music, ], [, Music, ], [, Music, ], [, Laughter, ], [ Applause, ], [, Music, ], I'm free until the guy get away; [, Music, ], [, Music; ], don't look behind your back Jesus when the world is getting darker, I will dream who loves the only side. [ Music ] is [ Music, ], [ Applause, ], [, Music, ], [, Music, ], [, Music, ], [ Applause, ], [, Music, ], [, Music, ], [ Applause, ], [, Music, ], [, Music, ], giving Hollywood; Oh [, Music, ], [, Music, ], [, Music, ] [ Music, ] [, Music, ], [, Music, ], [, Music, ], [, Music, ], [, Music, ], [, Music, ], [, Music, ], [ Applause, ], [, Music, ]. Oh me in [ Applause, ], [, Music, ], [ Applause, ]. It'S a so dark out here in Spain and so long so long since I've seen a face: the linens [ Music, ], [ Applause, ], [, Music, ], [, Music, ], calling out [ Music, ], [ Applause, ], [, Music, ], [, Music, ]. You! Let me decorate, I don't know about [ Music ], [, Music, ], [, Music ], my buddy [, Music, ], [, Music, ], [, Music, ], [, Music, ], [, Music ]. I share it with you: [ Music, ], [, Music, ], [, Music ]. I [ Music, ] glass, [, Music, ], [, Music, ] [, Music, ] [, Music, ] [, Music, ] [ Music ]. My rages around like an ocean [ Music ], [, Music, ], [, Music, ], [, Music, ], [ Applause, ], [, Music, ], [, Music, ], don't sales women. I have ever before m'kay in no to win this fight, [ Music, ] or you can. I just fell in never [ Music, ], [, Music ] lines are blurred. I love it when you call me up, sir, got yourself to believe causing all this [ Music ] [ Music ], not your baby, [, Music, ], [, Music, ] it'd be easy, but we took a train of the sea nyaah. All my feelings. Don'T wake me up from the street? I'Ve got a one-way ticket to space. Let'S get out of here. I heard you put is nice out in the wilds I don't eat, let's see a while [ Music ], [ Music, ], [ Applause, ], [, Music, ], [, Music, ], [ Applause, ], [, Music, ], [ Applause, ], [, Music, ], [, Music, ], nice, [, Music ] [ Applause, ], [, Music, ], [ Applause, ], [, Music, ], [ Applause, ], [, Music, ], [ Applause, ], [, Music, ], [ Applause, ], [, Music, ], [ Applause, ], [, Music, ], [ Applause, ], [, Music, ], [ Applause, ], [, Music, ] [ Applause, ], [, Music, ], [ Applause, ], [, Music, ], [, Music, ], [ Applause, ], [, Music, ], [, Music, ], [ Applause, ], [, Music, ], [ Applause, ], [, Music, ], [ Applause, ], [, Music, ], [ Applause, ], [, Music, ], Yeah [, Music ]. I know brain live into fine, I'm saying, but all the line. Sanja manipulator, [, Music, ], father conversations, but he's got a you go ahead and wait to see me: [ Music, ], [, Music, ] yeah. My life is lovely now focused on me and said you. Everybody died in the car eight but see I need the trip, because I just chose to believe that somebody don't come around and give me just what I need. I don't want to see. You find it so you're looking down and now come into me, Christ and you miss having me around any chances that you do and you so easily influenced all the time. Just on me. Beating now you got ta face the music [ Music, ] [, Music, ], [, Music, ], [ Applause, ], [, Music ]. You can be intoxicating, [, Music ] after he [ Music, ] move, [, Music, ], [, Music, ], [, Music, ], like this [ Music. ] [ Music, ], [, Music, ] every day; [, Music, ], [, Music, ], [ Applause, ], [, Music, ], [ Applause, ], [, Music, ], [ Applause, ], [, Music, ], [, Music, ], [ Applause, ], [, Music, ], [, Music, ], [, Music, ], [, Music ] [ Music, ], [, Music, ], [, Music, ], [, Music, ], [, Music, ], [ Applause, ], [, Music, ], [, Music, ], [ Applause, ], [, Music, ] Mariola Friday downtown of a new way. I swear [ Applause, ] [, Music, ], [, Music, ] concrete so pretty, but I can do it: [ Music, ], [, Music, ], [, Music, ], there's cocaine, so pretty [, Music, ] \""
      ]
     },
     "execution_count": 121,
     "metadata": {},
     "output_type": "execute_result"
    }
   ],
   "source": [
    "import requests\n",
    "\n",
    "def transcript(id='c-7YqBrtuNQ'):\n",
    "    resp = requests.get(f'https://hierogly.ph/api/transcribe?v={id}',headers={'User-Agent':'Mozilla/5.0'})\n",
    "    return resp.json()['text']\n",
    "\n",
    "transcript('GZ7xHi8AIjM')"
   ]
  },
  {
   "cell_type": "code",
   "execution_count": 40,
   "metadata": {},
   "outputs": [],
   "source": [
    "from selenium import webdriver\n",
    "import os\n",
    "chrome_options = webdriver.ChromeOptions()\n",
    "chrome_options.add_argument('--headless')\n",
    "chrome_options.add_argument('--disable-gpu')\n",
    "chrome_options.add_argument('--incognito')\n",
    "chrome_options.add_argument('log-level=3')\n",
    "chrome_options.add_argument(\"--disable-dev-shm-usage\")\n",
    "chrome_options.add_argument(\"--no-sandbox\")\n",
    "chrome_driver = os.getcwd() +\"/ungoogled-chromium_67.0.3396.87-1_linux/chromedriver\"\n",
    "browser = webdriver.Chrome(options=chrome_options, executable_path=chrome_driver)"
   ]
  },
  {
   "cell_type": "code",
   "execution_count": 156,
   "metadata": {},
   "outputs": [],
   "source": [
    "class youtube(object):\n",
    "    driver = None\n",
    "\n",
    "    def __init__(self,driver):\n",
    "        self.driver = driver\n",
    "        \n",
    "    def getrecom(self, id):\n",
    "        self.driver.get(f'https://www.youtube.com/watch?v={id}')\n",
    "        return self.driver.page_source\n",
    "    \n",
    "    def getscreenshot(self):\n",
    "        self.driver.save_screenshot('test.png')\n",
    "        return None"
   ]
  },
  {
   "cell_type": "code",
   "execution_count": 157,
   "metadata": {},
   "outputs": [],
   "source": [
    "yt = youtube(browser)"
   ]
  },
  {
   "cell_type": "code",
   "execution_count": 63,
   "metadata": {},
   "outputs": [],
   "source": [
    "from lxml import etree"
   ]
  },
  {
   "cell_type": "code",
   "execution_count": 158,
   "metadata": {},
   "outputs": [],
   "source": [
    "html = etree.HTML(yt.getrecom('cYtSEj1v0ew'))"
   ]
  },
  {
   "cell_type": "code",
   "execution_count": 160,
   "metadata": {},
   "outputs": [],
   "source": [
    "yt.getscreenshot()"
   ]
  },
  {
   "cell_type": "code",
   "execution_count": 159,
   "metadata": {},
   "outputs": [
    {
     "data": {
      "text/plain": [
       "[]"
      ]
     },
     "execution_count": 159,
     "metadata": {},
     "output_type": "execute_result"
    }
   ],
   "source": [
    "## Get the IDs from all the anchors\n",
    "[str.split(x.attrib['href'],'=')[1] for x in html.findall(\".//a[@id='thumbnail']\") if ('href' in x.attrib.keys())]"
   ]
  },
  {
   "cell_type": "code",
   "execution_count": 155,
   "metadata": {},
   "outputs": [
    {
     "data": {
      "text/plain": [
       "['https://www.youtube.com',\n",
       " '',\n",
       " '/',\n",
       " '/',\n",
       " 'https://www.youtube.com/about/',\n",
       " 'https://www.youtube.com/about/press/',\n",
       " 'https://www.youtube.com/about/copyright/',\n",
       " '/t/contact_us/',\n",
       " 'https://www.youtube.com/creators/',\n",
       " 'https://www.youtube.com/ads/',\n",
       " 'https://developers.google.com/youtube',\n",
       " '/t/terms',\n",
       " 'https://policies.google.com/privacy?hl=en',\n",
       " 'https://www.youtube.com/about/policies/',\n",
       " 'https://www.youtube.com/howyoutubeworks?utm_campaign=ytgen&utm_source=ythp&utm_medium=LeftNav&utm_content=txt&u=https%3A%2F%2Fwww.youtube.com%2Fhowyoutubeworks%3Futm_source%3Dythp%26utm_medium%3DLeftNav%26utm_campaign%3Dytgen',\n",
       " '/new']"
      ]
     },
     "execution_count": 155,
     "metadata": {},
     "output_type": "execute_result"
    }
   ],
   "source": [
    "[x.attrib['href'] for x in html.findall(\".//a\") if ('href' in x.attrib.keys())]"
   ]
  },
  {
   "cell_type": "code",
   "execution_count": 139,
   "metadata": {
    "scrolled": true
   },
   "outputs": [
    {
     "data": {
      "text/plain": [
       "\"Both of us, we plant a lot of strawberries la on each other's lands. What * screams * Hi, I'm Bolin, I'm Qing, I'm Peps Hi, I'm Leah, and this is Zula ChickChats. Okay, hi guys welcome to today's episode of ChickChats. Why Are you all very nervous? Yes, this is my first time on ChickChats Welcome And today's episode we'll be talking about being in the grey area as much requested from the comments section below. Ah So we hear you okay, we will do this episode for you guys. So my first question to you guys, then, is what happened. Okay, whoever wants can share first la What happened. Bolin, Let's start with Bolin. No Qing should start because she's the new person. Why me? Oh my god? Yes, What happened. I met the person through an app Okay, So we hit off like we talk, then after that move to Telegram. But the thing right we went out for so many times right. The places we go to right were like-, not the kind of place that you and your friends would go to. For example, For example, I need to say where Yes, for example - Oh my god Wah, I nervous - I can see her mouth shaking eh. What is happening? You'Ll go the-, I know The shopping centre, the handicapped toilet. No, Oh my god! You go right. You go! That's why you know right Walao, eh! No, I think too far. Sorry! Okay, we like go picnic. We go like Christmas. Wonderland, Like a lot of date, places Right, But the thing is like nothing happened out of it, So it became from like having feelings to become a little bit more like annoyed and like frustrated of what is happening between the both of us. Like till a point where, okay, if nothing is going to happen, then like-, I don't want to waste your time. Neither should I waste my time So like I ended it la Huh. You never attack. No, I won't So that's the thing I won't When you go out with this person right. Did you all do anything Like hold hands la or like all these kind of thing. We only got hug when we leave that's the thing Walao eh, So it's very-, Don't walao eh You're in this panel. Also, okay Shut the fuck up. How did you end it? So I ended it through text. Wait. The funniest thing is that you ended it as if it was something you know what I mean. No so the thing was- She closed the chapter. For that What did say to close said chapter Like um ``. I don't know where this is going. .'' ``. I don't know what are we .'' ``? Let'S just not waste each other's times, .'' Yeah, something like that ``, So like-''. The reply from him was `` Yeah. I also feel the same way .'' Then some of my friends' perspective is like a bit different. It'S like is it because you showed him this way. That'S why he too scared to like say his real feelings and then ran away, Or it's like he really might have felt the same way, and then nobody said it If he had said that actually like he treats me more than just a friend, then I won't Like just let it go like that- because I feel like after spending like so many months together, hanging out and talking everyday to me, it's more than just a friend la Yeah, Or maybe he tried to attack but but then, like you too, dumb already, Maybe eh. No wait: Okay, wait! So I'm someone who's damn- Like blur, Ah yeah So like if this person hint something right, I might not get it Aiya, you don't know how to attack la walao, eh Bolin. How about you teach me how to- Yeah? How about Bolin? You explain your story. Tell me about the guy's point of view. No, you explain you story. First Bolin, then we see whether you know how to attack or not, Ah correct. What are you doing on this episode? Can you tell me Er, Okay, so uh So like about 5 years ago, I studied in Taiwan for like one year plus One of my classmate she's, like an asian french. So we just call her the French girl Everytime after class right. We will go. Makan ( eat ). Together then, after that she will come over to my dorm, then we study, Oh, Is it really `` study''? Really, You know like the 日久生情? No, I don't understand. Okay, English call the. If you work together for a very long time, then suddenly got the- got the feeling Spark I'll keep asking her to come over la and study. Ah, even though got some days, she didn't ask for help, So this is this'bam' isit Like a'boop' like that, Then I increase my attack a bit. So I'm like `` There's a bar nearby. Quite nice, Want to go together. ?'' Then she's like ``, Okay. Ah, let's go !'' For guys right when you jio a girl out. Ah then the girl is like ``. Should we call the rest ?''? Ah, then you know the attack fail. She say ``, It's just us right! ?'', I'm like ``, Yes, .'', ``! Okay, let's go !'', It became like a norm thing Then one night she drink. She a bit drunk She's, actually hanging out with a group of French people, her classmates la But her classmates like don't know that she keep coming to my place. That'S when I start to confuse already Like if we got- slowly got something you should tell your friends So, okay back to the drunk story, So that night she tell me that ``. Can I sleep at your dorm ?'', Ladies and gentlemen, don't think too far. First, okay, I'm like ``, Okay, you sleep on my bed. Then I sleep outside .'' The next day. I wake up. Ah she sleeping beside me. You know on the sofa, Then I'm like ``. Oh my god, What happened? ?''? No, we didn't do anything. We didn't. Do anything, Then she tell me that she lonely she want to sleep with me. That means if I- say my feelings ah confirm 100 %. We together already, Then, when u suka ( like ) each other and you keep drinking what will happen next? No, they like'BAM' already. Oh okay. Sorry la Our'BAM' ah, is not the'BAM BAM', It's like a- -'BABABABAM'. Is it No * screams *, So we didn't'BAM BAM', Then you'bam bam' We'BAM'. What That means. We never go all the way, Then hor the last month of her internship. Ah then, I confess already I'm like ``. Actually I, like you .'', Then she a bit shocked. Then I'm like `` Wah, siao liao. You shocked. That means not a good reaction already .''. Then she tell me that actually, the French group of friends - ah one of them, is actually sort of seeing her Nani. Okay, Then I'm like what the f- Before she go to Paris. She will fly to Hong Kong. First Then, I booked a flight to Hong Kong and find her Okay. I think this one stupid already Sorry. I know I stupid, I agree, So I went to her hotel and want to like try my last try already. Ah Then, it ended very badly. She changed to another hotel, then I don't know where to go. Then I alone at Shenzhen kena dump. Then she delete me everywhere. She blocked me everywhere: Okay, Peps, your turn, So it was when I was in poly year, one He was in my class, but we started getting close- because we took the same bus to school. Then I started like questioning myself like `` Eh. Is it friends always like that ?'' Because he started getting physically affectionate towards me, So I have this thing right. Okay, all my friends know that- He will like `` Eh. You can touch mine .'', That kind, So the bus ride will be like that. That kind, Obviously our friends started, asking like `` Eh are y'all like dating ?''. That was when I know I was in the grey area, because I didn't know how to answer. Then my friends were like `` Huh. Then you don't want to like ask him about it, meh ?'', But then at the same time I'm also like her I'm like ``. No thank you .''. It went on for like one whole semester. I think. But basically what happened was we just started drifting apart? Okay, so Peps is labelled queen of grey areas for a reason By the entire office by the way. So how many other times has this happened with other people? Qing will know When I know her la I think like around 5. Oh, my god, I forgot Wait. So the other ones also end up like the just drift for no reason or what Just end Just end or like we just became good friends Like did you try anything different after learning your lesson from the first one? No okay! So because after this 18-year-old Peps right after the first grey, I got into a relationship And then after that relationship I got into a second relationship And then after this relationship, then I was really single for like one entire year. Then, when I started like getting back into the arena of dating right, then I'm back to the square one. Then the square one Peps was when this shenanigan happen. So obviously I didn't learn from that la I feel like for both of us right when it comes to this kind of things. It'S like. If the person don't say anything, we will just leave it hanging and then we are very comfortable with hanging one to one. So maybe to the other person, it's like `` Aiya. I think she's, just comfortable hanging with me as a friend .'', As in like some of them is not because I'm waiting for their answer. You know It's like. I think then I realise I don't want After awhile I realised that like `` Eh, I don't really have to wait for their answer. I can ownself answer myself and then just go on from there la .'' Like it can go two ways. What Like- Can I ask one question Because for both of you right, your grey area, hor, the guy, never really attack attack. You know What, if, ah you guys- you and the guy hor, like you, * slurps, sound *, already Damn gross leh. Why every episode you slurping noodles, one Bolin, Okay, do more than just like hold hands, And then they still don't want to confirm anything. Would you tak buleh tahan ( cannot stand it ) already `` Eh, what the fuck man .'' Okay and then you go and confront .'' `` Eh, you kiss me already. So what is it ?''? I have self respect So when they coming to me right-. They already coming, I'm just like `` Woah, okay, what is this .'' Eh mai, lai (? Don'T like that? ) la Aiya, all talk cock, one la you I feel like. I will also When the planter want to plant the strawberry. You will let him plant one. No, That's what you think, Because, like I'm not going to give you boyfriend privilege- when you're, just like that, Damn girl, Okay, a lot of my relationships start with grey area- and the grey area, usually very long one, Because I'm the kind of person that, like you, Don'T want to say anything, I don't really care because to me it's like `` Woohoo party. I don't care about you Whatever. I don't need this guy in my life, .'', Okay, so this is with my ex boyfriend. Okay, but before he was my ex boyfriend, we were just friends and we met through mutual friends because we work at the same work place And then because my friends are the kind that they- keep want to party. So after work, they always like `` Eh Leah. We go this bar drink, .'', `` Leah. We go here and drink .'', So he always happens to be there, also la because he very free that period. It happened a few times- and then every time we go club. It'S always like the same thing Like we will dance to each other or whatever, then what That's about it Like? We never really do anything else. So this period of like the clubbing or the meet with group of friends- and then we just like- act like we are a thing. But not a thing happened for like a few months to one year Like a few months to one year kind: The heck Yeah, but then everybody like question mark at us that kind. So that's why I consider it like grey area la The turning point was when-. This one time I went back in a cab with his close friend this girl, Okay, my friends always ask `` Eh you and him how ah .'', Then I say ``, Nothing, nothing, .'', It's always very casual. They never ask me seriously Only in the cab, then the girl ask me seriously like `` Eh, what are y'all. Ah ?'', Then I say `` I don't know leh .'', Then she like ``. I think u should ask leh .'' `` Like y'all already so long already like that, then never do anything .'' Then I think about it. Then I say: ``: Okay, lor. What'S the harm in asking Just ask lor .'', So I just text that night in the cab, then I said He read then the next day he reply, then it was like something about like ``. Oh, I don't really want .'' Like something something Blah blah. Then I just like, Like I okay, that kind of thing, But then ah after that, still want to continue, And the worse thing is that after that thing it wasn't just clubbing. It'S like he ask me out individually, then we go out one-on-one. Only Then he want to hold my hand all this kind of thing in public. Also, When I asked him was like maybe a few months in like 8 months in already Then the next year like in the middle of the year, then he asked me to be his girlfriend. It was a one and a half year period of like-. We just never establish what are we, So it was just like this person in my life and that's about it. So I think when the grey areas becomes very serious right, it's always when you start to communicate a lot more with the person- and like talk one-on-one with the person, I think we didn't reach that point until later on. I think I guess we talked a bit about our stories already right. Do you all think that being in a grey area has its pros and cons, Or do you feel like it's just like? No, like you don't even want to be in this grey area? I think it depends on how much you're willing to tolerate For me right. I think the pros usually last like within the early stages-, so it will last for very short only Before I catch feelings, I'll be like ``, Okay, this seems fun, .'', `` And I'm getting to know you .'', But then once it gets confusing. Usually, that's when I already catch feelings And then, like I realise, like I question, every single thing that he does right I'll, be like ``. Oh my god does this mean that he likes me ?'' ``. Does this mean something ?''? I feel like once you already like the person right. There are a lot more cons than there are pros. I think it changes the feeling from `` I like you'', to become like- ``, What the heck are we'' like angry. I think- Okay la it's, a very clear pros and cons in that sense la, But I think what our audience would like to know right is like how to handle these kinds of situations. So we posted up a Q & A on our Zula Instagram la For people who you know are not sure about certain things when they are in the grey area. So I'm gon na pull it out now and then see whether you can answer these questions. Oh okay, this person say- they fuck on the first date, Wah Good job Because he's supposed to be FWB, ( Friends With Benefits ) because he's supposed to be FWB, that's what she said, But then catch feelings and dating Then she say-. This wasn't meant to be a commitment thing, but I want to give it a shot anyway. So the question is how I feel like hor 80 %. Don'T try Why, When you are FWB with someone you don't care whether the person got red flag or whether she got do this got. Do that or whether you like this or like that You don't care one, what correct Confirm got chance also, but high chance. Is it won't end? Well, one, You know, Okay, I think know yourself. First, la Like know what kind of person you are because like for me right, I think if let's say I have feelings for the person, I wouldn't do all those things, because it will confuse me and my decisions Exactly So. This might be confusing your decision. I would say you can give it a period of X number of months right At the end of X number of months. You see whether your feelings for the person is real feelings for the person or you just like infatuated. That kind of thing So by the deadline. If I feel that I, like the person even more, that kind of thing, then I'll make it clear. If not right, then it will just make you very upset in the long run, Hanging out and being all touchy with each other-, and yet he hangs out with many other girls-. Despite knowing my feelings for him Before you drop right, maybe you ask first No, but he knows about the feelings. What But, okay, how explicit were you with your feelings? Did you say like ``, I want you to be my boyfriend ?''. I think it's more of like clearing it with him Like ``. Oh who are they ?''? That kind of thing Like ask it very casually, instead of like guessing that it's like-, Don't assume Yeah, don't assume Someone said ``. I feel like it's just an excuse for the other party to not commit or be responsible for their actions .''. I dont necessarily think that it's an excuse, eh, I don't think so also Because I feel sometimes it takes time for people to get to know the other party right- and in dating it never jumps straight into like ``, Okay, we're dating .''. You know what I mean As a girl. You guys also paiseh, to ask right, I mean I'm pretty sure out. There got a lot of guys, also paiseh, to ask Of course, So this one, you must really see how one Like, okay, you can think to yourself la. Do you want this to progress further? If you want it to progress further, then just take the freaking shot and ask The worst thing he's going to say is ``. I don't really feel the same way. .'' Then move on la, because the thing is that if you don't ask- and you just like Qing decide to like `` - Oh, I think it's not going anywhere So like yeah .'', Then the person may just assume that like ``. Oh, I guess it's not going anywhere so I'll just say no also .''. I agree. I think a lot of people think that it's on the guys to say something- but actually like in this day and age. I don't think girls should wait for the guys. Also. So, like girls can also say, If it will make your mind more clearer, right- and like not so confused right, then like just do it la You changed a lot. You know, I think so. Also You changed a lot Eh. Thank you, leh, No serious, because it's like not based on what they want. Also It's based on what you want. Also what Okay, I feel like right, grey areas right inevitably will happen with any relationships at the start. Okay, But it's not for you to see. Who cares less It's for you to see whether you all are compatible So in a sense? Why you're questioning yourself about ``, Should I care more ?'' ``? Should I text this person ?'' ``? What if the person never reply me should I continue texting ?''. That kind of thing right, It's an indicator of the interest of the other party, actually Because it's very normal for people to play hard to get It's fun like I get it trust me, I get it To me. You cannot fault the other person for playing because that's their own choice. You can only trust yourself to do the best response to their actions. I hope we covered everyone's concerns in the comments below. Hopefully, our video has directed you in some sense Yeah, And if you liked this video leave in the comments down below what you liked about it- and tell us what to talk about next time And don't forget to like share and subscribe Bye. Why you never say bye, Bye, \""
      ]
     },
     "execution_count": 139,
     "metadata": {},
     "output_type": "execute_result"
    }
   ],
   "source": [
    "transcript('rb_adz0tkOw')"
   ]
  },
  {
   "cell_type": "code",
   "execution_count": 122,
   "metadata": {
    "scrolled": true
   },
   "outputs": [
    {
     "data": {
      "text/plain": [
       "\"On one of the days um, we were supposed to have a date .... He came to my house like downstairs. Then I no time to draw eyebrows no time to draw anything right. Then we [ sat ] at the lamp post. There [, I made ] sure to choose the dimmest lamppost Hi. I ’ m Julian Hi. I ’ m Amanda Hi. I ’ m John Hi. I ’ m Leah and this is Zula ChickChats Hi guys welcome to today. ’ s, episode of Zula ChickChats And today we ’ re gon na be talking about- the honeymoon phase in relationships. We have 3 people over here to share uh- their honeymoon phases in their relationships. So…. The first Can you: why Can you explain what the honeymoon phase is I ...? What do you mean You don, ’ t know I ’ m married. I forgot about it. It ’ s been a long time ago. Okay, so the honeymoon phase, I guess, would be the period before your relationship starts getting serious, All the butterflies, all the romantic gestures, Oh ..., For the first question: maybe we ’ ll, let the audience know for you guys. How long have you been in your relationships? Almost 6 years You know almost 6 years. Mine is uh. 3 years plus Mine is 7 months. Ooo! Okay, Mine is about 2 years, So the honeymoon phase for y. ’ all was it very like? Was it a very long period for you guys, or I would say a few months, like maybe 2 to 3 months? Strangely enough, I did ask my boyfriend this question recently. Then he said that he still feels like [. We ’ re in the ] honeymoon phase. Now, But for me when I see him now it ’ s like a calm and like “, Oh, I know this person very well And I can be safe with this person. ” Not that it went downhill after that lah. But you know the whole. It stagnated Ya the whole like “ ehh, ” thing was about 2 to 3 months. I would say that it ’ s similar to mine. Personally right, I feel, like I ’ m, a very chill person So like the “ ehh, ” phase. Didn, ’ t! Last! Very long also, I know he was in his honeymoon phase when we were in Mongolia. Oh really, I remember Cause What happened in Mongolia because we didn ’ t we didn. ’ t have reception right when we were in Mongolia, But when, when we came back to the like, the lodging place right ..., He was like. I was like giggly and everything. Oh, my god ... And then I like, send video message all and I ’ m, like “ Hehehe., ” I mean that ’ s, that ’ s. Basically, the like the more intense you know like every moment is like… Ya. Must text Is like excitement, Butterflies? Is it coming back to you, Julian Yea, ...? Okay, what Share It? ’ s the entire first year, Because when we started dating she didn, ’ t she put me on hold for like 3 months, Damn MJ The 3 months were kind of like the test. You know Like the first month, I ’ ll, go to her office and I ’ ll, be like “ Uh, hey MJ, um .... Do you want me to drive you home, ” It? ’! S like this is point A point B. This is my house. This is her office [ And it ’ s ] like this, But you ’ re like “, Ya, ya, ya, It ’ s on the way. ”, But I still insisted For my relationship. The the honeymoon period right is like before we got together. We were already friends, then we already dated before, But then cause he like flew overseas and stuff. So we didn, ’ t continue. So when he came back then we started dating again. I think I remember that period. Why why you were like excited and very happy to meet him Got that energy. I think I also saw Leah once also [ at ] Boon, Keng MRT. Then I ’ m, like “ Eh Leah, who ’ s, that Your boyfriend? Ah ”. Then she ’ s. Like What the fuck, where got act like that sia, Which is totally not her right, Can you imagine me doing that It? ’ s so different? I never do that. Okay, It's so different! The story is that I bought him tickets to go, see Odesza. I ask him cause, I know his favourite DJ, So I asked him “ Eh, My friends got lobang for these tickets. Do you want to go ” I didn? ’ t say anything after that: [ and ]. He was like “. Oh, Can you buy the tickets? ” Then I just like `` Huh. Why you want me to buy the tickets ?''? Then he was like `` Huh, Not going with you meh ?'', Then I like, then I just Yea, but that ’ s about it. My next question is that when was the point, you realised you know your honeymoon phase like a bit ending already right…, Then what are some things that you did, then you realised “, Oh shit Like should I be doing this ” Then you like question yourself a Bit When she finally farted in front of me, Oh yea, Like shit like that, I was waiting man. She only farted like 3 years 3 years worth of fart Into the relationship. Oh, That means she like she control Wah, That ’ s how you know when the honeymoon phase is over. I think also, like the I think, for girls, it ’ s like you know you put on your appearance when you meet them Or meet someone new right, Then, at home you are a bit different, So it ’ s like [ when ] they stay over. The first time you ’ re, like fucking, stressed Cause you ’ re like “, Oh my god later I take out my makeup. They ’ re. Gon na think I ’ m fucking cui (, not so presentable. ). I need to wear my specs eh. Then I need to wear my sleeping T-shirt and all Like, oh my gosh GG. ”. So the thing is right: you just don, ’ t address it. Yea You just remove right. Then you just pretend nothing happened. Then you go out and just continue talking like nothing happened. If they want to say something about it, then they will say Yea. If I remember correctly, Justin saw me without makeup. Even before we were officially together On one of the days um, we were supposed to have a date He came to my house downstairs. Then I no time to draw eyebrows no time to draw anything right. So I just go down “ Huh shen me shi (. What happened )? What happened? ?'', Then we [ sat ] at the lamp post. There [ I made ] sure to choose the dimmest. Lamppost cannot see properly Then [. He said ] “! Oh You! ’ re! Very beautiful, today.! ”! Thank you. So, for the guys, what ’ s your…, If y ’ all had to meet somebody from her side, what ’ s the most that y? ’ all would do. For the first time I met her parents. I I definitely dressed up a bit like more presentable, Something like what I would wear to work, but not the not the James Rainier. ’ s! Spectrum! You wore this to work. Ah so so it ’ s like me like that, and then there ’ s. James Rainer And then there ’ s another spectrum, which is the jeans and normal shirt that y ’ all, never see. Ah it ’ s towards that direction. Okay, ...! I think the also like you say the first time meeting parents and everything right For me is like the first time I meet like the friends right…. Then I fucking stressed eh Yea, Like oh, my gosh. What are his friends going to think of me? Huh? Really? Ah And then they ’ re going to say, like I, ’ m, not good enough for him all this kind of thing. What if they think I damn cui looking What if they say, “ Uh Wah last time your girlfriend prettier. ” Ya Ours. Is we? ’ re just going out Ya Ya, some more. Like I ’ m meeting my childhood friend Yea cool man. Are we drinking Another thing aside from meeting all these, like friends and everything right, which I think is a very significant part of the honeymoon phase? There is the um…: What ’ s that called Like the quirks come out in the relationship? Okay, so like for me right, she likes it when I exercise She wants me to exercise If let's say that there are weeks that I never exercise right Last time she will just like “. So when [ are ] you exercising ?'', You know that kind. Then I ’ ll be just like “ Orh, okay, I ’ ll, try to do this. ”. Then she ’ ll, just “ Okay.. ” Now is the like. “, You everytime say only lorh. You say only You say, but you never do. ” In the end. Right, it becomes a lot of Basically. The crux of the argument is the like: I promise you Yea…, you say something and then you never deliver. So what are some quirks [ that ], like appeared after the honeymoon? I think it? ’ s more of my peeve because, like during the honeymoon period, you tend to be a bit more huggy huggy that kind of thing. But after the honeymoon period I feel a bit like “ Mmm. Don, ’ t need to hug so much lah. Don! ’ t touch me .'', But his his love language is physical touch, Yea, so ..., Not that I hate hugging, But on the MRT, sometimes like he will like like bear hug like that a bit, Then I ’ ll, be like “ Aiya, Uhh, ”, Okay, Julian! For you, Mine is um… Our size difference is so much that she hates she hates it. When I horse play Because there ’ s a high chance, she ’ s, either injured or like got bruised Correct. There was one time right. We were watching a movie. She was like leaning on my on my shoulder. Then I laughed like this “ Hahaha !'', So I crushed her face behind my back and then her nose was like this, the entire night. This is like after honeymoon And she was like. Oh she fucking raged already. She straight away: [ take ] the knife “. Can you be more careful next time? ?'' Can not let go one, these kind of thing. It's true It! ’ s like you know my boyfriend also like he will last time it ’ s like he annoy me. Then he will like ... Cause. I got say before, like “. If you act cute, then it ’ s my weakness. ”, But now it ’ s like he will. He will just say like “. Oh sorry, Hehehe… ” that kind. Then I like “, Sorry mean anything meh You. Never even you ’ re not going to change. ” Immunity. Then he like “, Oh fuck, ” Then he just lets the day passed. Okay, so umm… We asked on our Zula. ’ s! Ig! If people have any questions about like relationship [ during ], the honeymoon phase, So I ’ m going to read it now and maybe y ’ all can give some advice. Oh, Should I feel guilty for asking my partner to take more initiative in the relationship In order for a relationship to work right. There must be communication and compromise, So you want like “ Why you never give me roses anymore, ” Say it. Don! ’ t expect the person to read your mind, Always make sure you over-deliver in the relationship, Although I know that there ’ s a phase where you feel like “ Aiya bochup Anyway, this person will stick around and things like that. ”. Someone asked What, if my partner doesn't like how I look after-, I reveal my face and true colours, Okay. Firstly, this one is Breakup. This one is Wait. Breakup Breakup Wait. So this question is, like I mean superficial the partner don ’ t like after remove. Ah, ... Or ... Haven: ’ t remove yet scared to remove. No it ’ s like what if They scared Oh…, They scared what, if Cause, if remove already, and they don ’ t like right. The answer Amanda provide already. So if you ’ re questioning it now, maybe give it a bit more time Because yea But like at the same time right this episode right. We have provided the model answer on how to react For girls right when y, ’ all remove your makeup. They already say already: don, ’ t acknowledge Just appear: Yea, don't acknowledge, Appear like the goddess. You are and then just like “, What ’ s different, ” And then, as you can see, Instant from this conversation, also right, the guys we don ’ t know anything. One Yea guys are not as observant or like as critical as you think about your appearance. Someone has [. Also ] asked this question, which I think a lot of people face. My parents hate my boyfriend, but his parents are so accepting of me. What should I do Wah? I think this is something that a lot of people face Yea. Actually it ’ s, something ... Ya, it! ’ s very, very common. I face it on a daily basis, Not really not very accepting lah, because I think I ’ m. Not… Not traditional Because of your gongjiao ( tattoo ) lah. I think the most important thing still is your partner. Yes, If your partner really likes, you then like…, Because I think if your partner is on the fence, then all the more your opposite side will be. It becomes difficult, very insecure. You must reassure If your parents - don ’ t really like right, then you must reassure your partner that you are all for this relationship lah. Maybe another active step that you can do as the not facing conflict partner is to be the one that keeps nurturing this relationship between your partner and your parents Yea .... So I think, with that said, is like we have come to the end of the episode, But it ’ s just one last question, which is the advice to couples on having a healthy relationship even after the honeymoon period Like how do you still maintain that strong Relationship The honeymoon period should never end. Actually, it should be like popping up here and there once in a while And of course, communication is key. Umm, do not sleep without fixing an issue That will develop a bad habit of keeping problems and making them bigger than it should be, Or you sleep one day, lah at least the next morning. Ah, okay Maximum one day, But you got to solve it within the next day. Lah confirm Yea, don, ’ t, let it um ... Fester Linger for too long Yea. As what Julian said, you need to have a lot of patience. Uh. You need to have a lot of commitment When you don, ’ t have the butterflies there and when everything becomes too comfortable right .... That is when the true test of the relationship starts. Personally, I just feel that, like you just need a lot of honesty with each other, You don, ’ t want to expect your partner to understand and read your mind all the time It never ever hurts to be. To be honest about your needs, I think also it ’ s, just small things like, for example, you go out. Then you see like “ Wah, the sunset very nice.. ”. Then you just text them like “, Eh, sunset, very nice. You want, we can go, watch sunset, together. ”, So it ’ s like small things like that. The other party will like really appreciate it. I feel If they, if someone said that I ’ m, like “. Oh my god, okay lets go now. ”. So today we talked about the honeymoon phase in relationships, and we kind of concluded that you know just just have to be comfortable in front of your partner That ’ s the most important thing. So thank you. Bifesta for making this video possible And Bifesta has just launched their new sebum micellar wipes For ladies, that are looking for a convenient and refreshing makeup. Remover. If you want to find out more about the product click, the link in our description And you're also be able to try out a sample there, And let us know also in the comments what else you want us to talk about in future episodes of ChickChats And Don, ’ t forget to ... Like share and subscribe Bye. \""
      ]
     },
     "execution_count": 122,
     "metadata": {},
     "output_type": "execute_result"
    }
   ],
   "source": [
    "transcript('5L31Wbrg7tE')"
   ]
  },
  {
   "cell_type": "code",
   "execution_count": 140,
   "metadata": {},
   "outputs": [
    {
     "data": {
      "text/plain": [
       "\"This is John and Jill. They are about to get married and start a family, but first they have to plan for their future and it's not buying the perfect home. Both John and Jill are working polygraph and the earn a combined monthly salary of $ 4,000. Ideally, they would like to live near their parents in the ground, so many options is easy to get confused now. Do you know what options you have, how welcome number option? 1, a 3-bedroom easy in some balance, a 3-bedroom easy and the balance will cost you about. Seven hundred ninety thousand dollars there's a monthly household income of four thousand dollars. You will be able to take a bank loan of up to two hundred and twenty thousand dollars. Next, let's start by it, you can receive a CPF housing grant releases of up to $ 30,000. This review is four hundred ninety thousand dollars, which has to be paid up front and and resupply suspend for thirty. Nine thousand five hundred dollars has to be paid cash, while the rest can be covered by CPM. I can see there your concern with the figures and EC may not be the most financially sound option. Don'T worry? Here's another option option to a foreign refill in Samoa. The price of a forum, resale flat in Subang, is about three hundred sixty thousand dollars, but lucky you. The government has just announced that the CCS housing grants will be raised from $ 30,000 to $ 50,000 for couples to purchase for room, flash or smaller from the retail market and in forty thousand dollars for those who fight black. There are five groups or figures. This means, as first-time buyers, buying a forum initial plan in a non mature estate. You will receive up to fifty five thousand dollars in grants because you are buying a hope to list on unity apparent. You will receive an additional $ 20,000 in proximity. Housing run these make up a total up to eighty five thousand dollars in grant. So you're left with a sum of $ 275,000 after the initial ten percent of $ 36,000 that you can change using TANF. You can pick up an HPV load for the balance of around two hundred and thirty-nine thousand dollars to financial. Oh, you will need to make monthly installments of about one thousand and ninety dollars on which about nine hundred and twenty dollars can be paid. Yes, this means you need to fork out a total of a hundred and seventy dollars in cash monthly and better. Yet resale flats are available in many locations around Singapore and you can move into your home immediately that it's not too bad right, but I have an even more affordable option if you are able to plan ahead and wait a little longer, a forum GTO flat in Shambhala, the cost of the BPO is two hundred seventy thousand dollars, but because you are a first-time buyer and the bow is in a non mature estate, you'll receive $ 55,000 in grunts. The down payment for the home is twenty-seven thousand dollars, which is fully deductible from the CPF after housing grants for $ 55,000, there will be a balance, purchase price off $ 188,000 city finance to housing, learn from PCB. This will mean a monthly installment of $ 850, but fret not. This is also fully payable through your PBS. This means that you be without zeros on half or your home. Now this sounds more manageable right. So have you made your decision? Yet home is a big ticket purchase and you have to consider all your cash. We ask yourself if you need to move in illegally or are you evil plan ahead? See me in the private property of Irish Life in a location from the city center? Why not choose a small flat that houses the family come up with? Why not stay in non-maturity, because as well connected and equipped with amenities that you will need for some clever planning, you can get a great home and the flexibility using extra savings in any way. You like thank you for watching head over to APD jobs or SD for more details. \""
      ]
     },
     "execution_count": 140,
     "metadata": {},
     "output_type": "execute_result"
    }
   ],
   "source": [
    "transcript('cYtSEj1v0ew')"
   ]
  },
  {
   "cell_type": "code",
   "execution_count": 145,
   "metadata": {},
   "outputs": [
    {
     "data": {
      "text/plain": [
       "\"My name is I've been working for about two years. My name is Rob. I'Ve been working for about two years, six years, plus I think five years plus I'm very sure, let's see God my location off just nice kata-kata and they realize okay might as well. We just did I just graduated. Yes, I think two years ago yeah - and I guess it just seemed like a natural information from that February. For the column, one poet a key numbers, a thousand by hello, I'm Hansel - I just graduated from in yet last year, and now I'm doing an internship of jewelry come and your student, your tree, we have been together what six? Yes, I think with us always day. Video, what does the you need to be married before you can apply for the blueblack all controller? I mean you're gon na collect the key. Oh boss, you don't need to be married, like yeah, you can apply first, then you get true or false. It is possible to play pain, zero cash yeah. You can actually go share without paying any cash. It wasn't actually, when we first up like right like she just after working and I was do study, so the total income was like very good because we had 30,000. You can, and by the time we to make the down payment both head, like some cpsf, so you have to pay any cash for the down payment, like all the loans. That is true. I don't know there are two types of crimes for bigger place in SGA. Skgg, what these acronyms represent Loa is additional special appearance. Alexey Rachel just applied for foreign teeth locally in woodland anonymity arrested. They earn a combined money income of $ 4,000. How much grants will they be usable for married seem to be very alert? Is another side? Are you using HPV evil? Yes, yes, after visible eh, geez, fifteen thousand forty thousand, then, if you had urgent housing me what options, I think you just buy the XFL condo. If I got a money, you very much Quinn find out more when you want to do your video, because, like I've heard that we do research, but you know there was there things that we also, then she really wanted mr. Clement yeah. Are we supposed to? You? Have to pay for a house right, you don't have to that's greatly find out what grunts you're eligible its recoil of my usual video, yeah yeah. Everybody alike, applied your parents better chance of getting it. [, Music, ], \""
      ]
     },
     "execution_count": 145,
     "metadata": {},
     "output_type": "execute_result"
    }
   ],
   "source": [
    "transcript('mPHGGxZwICI')"
   ]
  },
  {
   "cell_type": "code",
   "execution_count": null,
   "metadata": {},
   "outputs": [],
   "source": []
  }
 ],
 "metadata": {
  "kernelspec": {
   "display_name": "Python 3",
   "language": "python",
   "name": "python3"
  },
  "language_info": {
   "codemirror_mode": {
    "name": "ipython",
    "version": 3
   },
   "file_extension": ".py",
   "mimetype": "text/x-python",
   "name": "python",
   "nbconvert_exporter": "python",
   "pygments_lexer": "ipython3",
   "version": "3.8.2"
  }
 },
 "nbformat": 4,
 "nbformat_minor": 4
}
