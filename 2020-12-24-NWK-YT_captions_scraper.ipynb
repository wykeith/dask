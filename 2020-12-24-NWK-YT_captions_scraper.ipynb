{
 "cells": [
  {
   "cell_type": "code",
   "execution_count": 1,
   "metadata": {
    "scrolled": true
   },
   "outputs": [],
   "source": [
    "!pip -q install lxml"
   ]
  },
  {
   "cell_type": "code",
   "execution_count": 2,
   "metadata": {},
   "outputs": [
    {
     "name": "stdout",
     "output_type": "stream",
     "text": [
      "Archive:  chromedriver_linux64.zip\n",
      "  inflating: ./ungoogled-chromium_67.0.3396.87-1_linux/chromedriver  \n"
     ]
    }
   ],
   "source": [
    "# Version 67\n",
    "# From https://ungoogled-software.github.io/ungoogled-chromium-binaries/releases/linux_portable/64bit/\n",
    "!wget -q https://github.com/Eloston/ungoogled-chromium-binaries/releases/download/67.0.3396.87-2/ungoogled-chromium_67.0.3396.87-2_linux.tar.xz\n",
    "!tar -xf ungoogled-chromium_67.0.3396.87-2_linux.tar.xz\n",
    "\n",
    "# From https://chromedriver.storage.googleapis.com/index.html\n",
    "!wget -q https://chromedriver.storage.googleapis.com/2.41/chromedriver_linux64.zip\n",
    "!unzip -o chromedriver_linux64.zip -d ./ungoogled-chromium_67.0.3396.87-1_linux"
   ]
  },
  {
   "cell_type": "code",
   "execution_count": 2,
   "metadata": {},
   "outputs": [
    {
     "data": {
      "text/plain": [
       "'\\nchrome_options = webdriver.ChromeOptions()\\nchrome_options.add_argument(\\'--headless\\')\\nchrome_options.add_argument(\\'--disable-gpu\\')\\nchrome_options.add_argument(\\'--incognito\\')\\nchrome_options.add_argument(\\'log-level=3\\')\\nchrome_options.add_argument(\"--disable-dev-shm-usage\")\\nchrome_options.add_argument(\"--no-sandbox\")\\nchrome_driver = os.getcwd() +\"/ungoogled-chromium_67.0.3396.87-1_linux/chromedriver\"\\nchrome_options.add_argument(\"--width=2560\")\\nchrome_options.add_argument(\"--height=1440\")\\nbrowser = webdriver.Chrome(options=chrome_options, executable_path=chrome_driver)\\n'"
      ]
     },
     "execution_count": 2,
     "metadata": {},
     "output_type": "execute_result"
    }
   ],
   "source": [
    "import requests\n",
    "from selenium import webdriver\n",
    "from selenium.webdriver.common.by import By\n",
    "from selenium.webdriver.support.ui import WebDriverWait\n",
    "from selenium.webdriver.support import expected_conditions as EC\n",
    "\n",
    "import re\n",
    "import os\n",
    "from lxml import etree\n",
    "import pandas as pd\n",
    "import numpy as np\n",
    "\n",
    "'''\n",
    "chrome_options = webdriver.ChromeOptions()\n",
    "chrome_options.add_argument('--headless')\n",
    "chrome_options.add_argument('--disable-gpu')\n",
    "chrome_options.add_argument('--incognito')\n",
    "chrome_options.add_argument('log-level=3')\n",
    "chrome_options.add_argument(\"--disable-dev-shm-usage\")\n",
    "chrome_options.add_argument(\"--no-sandbox\")\n",
    "chrome_driver = os.getcwd() +\"/ungoogled-chromium_67.0.3396.87-1_linux/chromedriver\"\n",
    "chrome_options.add_argument(\"--width=2560\")\n",
    "chrome_options.add_argument(\"--height=1440\")\n",
    "browser = webdriver.Chrome(options=chrome_options, executable_path=chrome_driver)\n",
    "'''"
   ]
  },
  {
   "cell_type": "code",
   "execution_count": null,
   "metadata": {},
   "outputs": [],
   "source": []
  },
  {
   "cell_type": "code",
   "execution_count": 3,
   "metadata": {},
   "outputs": [],
   "source": [
    "class youtube(object):\n",
    "    # init variables\n",
    "    driver = None\n",
    "    source = None\n",
    "    element = None\n",
    "\n",
    "    def __init__(self):\n",
    "        chrome_options = webdriver.ChromeOptions()\n",
    "        chrome_options.add_argument('--headless')\n",
    "        chrome_options.add_argument('--disable-gpu')\n",
    "        chrome_options.add_argument('--incognito')\n",
    "        chrome_options.add_argument('log-level=3')\n",
    "        chrome_options.add_argument(\"--disable-dev-shm-usage\")\n",
    "        chrome_options.add_argument(\"--no-sandbox\")\n",
    "        chrome_driver = os.getcwd() +\"/ungoogled-chromium_67.0.3396.87-1_linux/chromedriver\"\n",
    "        self.driver = webdriver.Chrome(options=chrome_options, executable_path=chrome_driver)\n",
    "        self.driver.set_window_position(0, 0)\n",
    "        self.driver.set_window_size(1968, 600)\n",
    "        \n",
    "    def fetch(self, id):\n",
    "        # Ask browser to go to url\n",
    "        self.driver.execute_script(\"window.open('');\")\n",
    "        self.driver.switch_to.window(self.driver.window_handles[1])\n",
    "        self.driver.get(f'https://www.youtube.com/watch?v={id}')\n",
    "        #self.driver.switch_to.window(driver.window_handles[1])\n",
    "        # Wait until we have the recommendation panel\n",
    "        self.element = WebDriverWait(self.driver, 10).until(\n",
    "            EC.presence_of_element_located((By.CSS_SELECTOR, 'ytd-watch-next-secondary-results-renderer')))\n",
    "        self.source = self.driver.page_source\n",
    "        self.driver.close()\n",
    "        self.driver.switch_to.window(self.driver.window_handles[0])\n",
    "        return self.element is not None\n",
    "    \n",
    "    def getsource(self):\n",
    "        if self.source:\n",
    "            return self.source\n",
    "        else:\n",
    "            return 'Empty buffer'#self.driver.page_source\n",
    "    \n",
    "    def getscreenshot(self):\n",
    "        self.driver.save_screenshot('test.png')\n",
    "        return 'Done'\n",
    "  \n",
    "    def getrecommend(self):\n",
    "        html = etree.HTML(self.driver.page_source)\n",
    "        id = [str.split(x.attrib['href'],'=')[1] for x in html.findall(\".//a[@id='thumbnail']\") if ('href' in x.attrib.keys())]\n",
    "        title = [x.attrib['title'] for x in html.findall(\".//span[@id='video-title']\")]\n",
    "        channel = [x.text for x in html.findall(\".//div[@id='metadata']/div/ytd-channel-name/div/div/yt-formatted-string\")]\n",
    "        result = pd.DataFrame(zip(id,title,channel),columns=['ID','TITLE','CHANNEL'])\n",
    "        return result\n",
    "    \n",
    "    def transcript(self,id='c-7YqBrtuNQ'):\n",
    "        resp = requests.get(f'https://hierogly.ph/api/transcribe?v={id}',headers={'User-Agent':'Mozilla/5.0'})\n",
    "        result = re.sub(r'\\[[a-zA-Z0-9,.:\\s]*\\]','',resp.json()['text'])\n",
    "        return result\n"
   ]
  },
  {
   "cell_type": "code",
   "execution_count": 4,
   "metadata": {},
   "outputs": [],
   "source": [
    "yt = youtube()"
   ]
  },
  {
   "cell_type": "code",
   "execution_count": 7,
   "metadata": {},
   "outputs": [
    {
     "ename": "NoSuchWindowException",
     "evalue": "Message: no such window: target window already closed\nfrom unknown error: web view not found\n  (Session info: headless chrome=67.0.3396.87)\n  (Driver info: chromedriver=2.41.578700 (2f1ed5f9343c13f73144538f15c00b370eda6706),platform=Linux 4.19.112+ x86_64)\n",
     "output_type": "error",
     "traceback": [
      "\u001b[0;31m---------------------------------------------------------------------------\u001b[0m",
      "\u001b[0;31mNoSuchWindowException\u001b[0m                     Traceback (most recent call last)",
      "\u001b[0;32m<ipython-input-7-45733adb2a2c>\u001b[0m in \u001b[0;36m<module>\u001b[0;34m\u001b[0m\n\u001b[0;32m----> 1\u001b[0;31m \u001b[0myt\u001b[0m\u001b[0;34m.\u001b[0m\u001b[0mfetch\u001b[0m\u001b[0;34m(\u001b[0m\u001b[0;34m'zUgpqM0ifZ4'\u001b[0m\u001b[0;34m)\u001b[0m\u001b[0;34m\u001b[0m\u001b[0;34m\u001b[0m\u001b[0m\n\u001b[0m",
      "\u001b[0;32m<ipython-input-3-1db8701a0207>\u001b[0m in \u001b[0;36mfetch\u001b[0;34m(self, id)\u001b[0m\n\u001b[1;32m     20\u001b[0m     \u001b[0;32mdef\u001b[0m \u001b[0mfetch\u001b[0m\u001b[0;34m(\u001b[0m\u001b[0mself\u001b[0m\u001b[0;34m,\u001b[0m \u001b[0mid\u001b[0m\u001b[0;34m)\u001b[0m\u001b[0;34m:\u001b[0m\u001b[0;34m\u001b[0m\u001b[0;34m\u001b[0m\u001b[0m\n\u001b[1;32m     21\u001b[0m         \u001b[0;31m# Ask browser to go to url\u001b[0m\u001b[0;34m\u001b[0m\u001b[0;34m\u001b[0m\u001b[0;34m\u001b[0m\u001b[0m\n\u001b[0;32m---> 22\u001b[0;31m         \u001b[0mself\u001b[0m\u001b[0;34m.\u001b[0m\u001b[0mdriver\u001b[0m\u001b[0;34m.\u001b[0m\u001b[0mexecute_script\u001b[0m\u001b[0;34m(\u001b[0m\u001b[0;34m\"window.open('');\"\u001b[0m\u001b[0;34m)\u001b[0m\u001b[0;34m\u001b[0m\u001b[0;34m\u001b[0m\u001b[0m\n\u001b[0m\u001b[1;32m     23\u001b[0m         \u001b[0mself\u001b[0m\u001b[0;34m.\u001b[0m\u001b[0mdriver\u001b[0m\u001b[0;34m.\u001b[0m\u001b[0mswitch_to\u001b[0m\u001b[0;34m.\u001b[0m\u001b[0mwindow\u001b[0m\u001b[0;34m(\u001b[0m\u001b[0mself\u001b[0m\u001b[0;34m.\u001b[0m\u001b[0mdriver\u001b[0m\u001b[0;34m.\u001b[0m\u001b[0mwindow_handles\u001b[0m\u001b[0;34m[\u001b[0m\u001b[0;36m1\u001b[0m\u001b[0;34m]\u001b[0m\u001b[0;34m)\u001b[0m\u001b[0;34m\u001b[0m\u001b[0;34m\u001b[0m\u001b[0m\n\u001b[1;32m     24\u001b[0m         \u001b[0mself\u001b[0m\u001b[0;34m.\u001b[0m\u001b[0mdriver\u001b[0m\u001b[0;34m.\u001b[0m\u001b[0mget\u001b[0m\u001b[0;34m(\u001b[0m\u001b[0;34mf'https://www.youtube.com/watch?v={id}'\u001b[0m\u001b[0;34m)\u001b[0m\u001b[0;34m\u001b[0m\u001b[0;34m\u001b[0m\u001b[0m\n",
      "\u001b[0;32m/srv/conda/envs/notebook/lib/python3.8/site-packages/selenium/webdriver/remote/webdriver.py\u001b[0m in \u001b[0;36mexecute_script\u001b[0;34m(self, script, *args)\u001b[0m\n\u001b[1;32m    632\u001b[0m             \u001b[0mcommand\u001b[0m \u001b[0;34m=\u001b[0m \u001b[0mCommand\u001b[0m\u001b[0;34m.\u001b[0m\u001b[0mEXECUTE_SCRIPT\u001b[0m\u001b[0;34m\u001b[0m\u001b[0;34m\u001b[0m\u001b[0m\n\u001b[1;32m    633\u001b[0m \u001b[0;34m\u001b[0m\u001b[0m\n\u001b[0;32m--> 634\u001b[0;31m         return self.execute(command, {\n\u001b[0m\u001b[1;32m    635\u001b[0m             \u001b[0;34m'script'\u001b[0m\u001b[0;34m:\u001b[0m \u001b[0mscript\u001b[0m\u001b[0;34m,\u001b[0m\u001b[0;34m\u001b[0m\u001b[0;34m\u001b[0m\u001b[0m\n\u001b[1;32m    636\u001b[0m             'args': converted_args})['value']\n",
      "\u001b[0;32m/srv/conda/envs/notebook/lib/python3.8/site-packages/selenium/webdriver/remote/webdriver.py\u001b[0m in \u001b[0;36mexecute\u001b[0;34m(self, driver_command, params)\u001b[0m\n\u001b[1;32m    319\u001b[0m         \u001b[0mresponse\u001b[0m \u001b[0;34m=\u001b[0m \u001b[0mself\u001b[0m\u001b[0;34m.\u001b[0m\u001b[0mcommand_executor\u001b[0m\u001b[0;34m.\u001b[0m\u001b[0mexecute\u001b[0m\u001b[0;34m(\u001b[0m\u001b[0mdriver_command\u001b[0m\u001b[0;34m,\u001b[0m \u001b[0mparams\u001b[0m\u001b[0;34m)\u001b[0m\u001b[0;34m\u001b[0m\u001b[0;34m\u001b[0m\u001b[0m\n\u001b[1;32m    320\u001b[0m         \u001b[0;32mif\u001b[0m \u001b[0mresponse\u001b[0m\u001b[0;34m:\u001b[0m\u001b[0;34m\u001b[0m\u001b[0;34m\u001b[0m\u001b[0m\n\u001b[0;32m--> 321\u001b[0;31m             \u001b[0mself\u001b[0m\u001b[0;34m.\u001b[0m\u001b[0merror_handler\u001b[0m\u001b[0;34m.\u001b[0m\u001b[0mcheck_response\u001b[0m\u001b[0;34m(\u001b[0m\u001b[0mresponse\u001b[0m\u001b[0;34m)\u001b[0m\u001b[0;34m\u001b[0m\u001b[0;34m\u001b[0m\u001b[0m\n\u001b[0m\u001b[1;32m    322\u001b[0m             response['value'] = self._unwrap_value(\n\u001b[1;32m    323\u001b[0m                 response.get('value', None))\n",
      "\u001b[0;32m/srv/conda/envs/notebook/lib/python3.8/site-packages/selenium/webdriver/remote/errorhandler.py\u001b[0m in \u001b[0;36mcheck_response\u001b[0;34m(self, response)\u001b[0m\n\u001b[1;32m    240\u001b[0m                 \u001b[0malert_text\u001b[0m \u001b[0;34m=\u001b[0m \u001b[0mvalue\u001b[0m\u001b[0;34m[\u001b[0m\u001b[0;34m'alert'\u001b[0m\u001b[0;34m]\u001b[0m\u001b[0;34m.\u001b[0m\u001b[0mget\u001b[0m\u001b[0;34m(\u001b[0m\u001b[0;34m'text'\u001b[0m\u001b[0;34m)\u001b[0m\u001b[0;34m\u001b[0m\u001b[0;34m\u001b[0m\u001b[0m\n\u001b[1;32m    241\u001b[0m             \u001b[0;32mraise\u001b[0m \u001b[0mexception_class\u001b[0m\u001b[0;34m(\u001b[0m\u001b[0mmessage\u001b[0m\u001b[0;34m,\u001b[0m \u001b[0mscreen\u001b[0m\u001b[0;34m,\u001b[0m \u001b[0mstacktrace\u001b[0m\u001b[0;34m,\u001b[0m \u001b[0malert_text\u001b[0m\u001b[0;34m)\u001b[0m\u001b[0;34m\u001b[0m\u001b[0;34m\u001b[0m\u001b[0m\n\u001b[0;32m--> 242\u001b[0;31m         \u001b[0;32mraise\u001b[0m \u001b[0mexception_class\u001b[0m\u001b[0;34m(\u001b[0m\u001b[0mmessage\u001b[0m\u001b[0;34m,\u001b[0m \u001b[0mscreen\u001b[0m\u001b[0;34m,\u001b[0m \u001b[0mstacktrace\u001b[0m\u001b[0;34m)\u001b[0m\u001b[0;34m\u001b[0m\u001b[0;34m\u001b[0m\u001b[0m\n\u001b[0m\u001b[1;32m    243\u001b[0m \u001b[0;34m\u001b[0m\u001b[0m\n\u001b[1;32m    244\u001b[0m     \u001b[0;32mdef\u001b[0m \u001b[0m_value_or_default\u001b[0m\u001b[0;34m(\u001b[0m\u001b[0mself\u001b[0m\u001b[0;34m,\u001b[0m \u001b[0mobj\u001b[0m\u001b[0;34m,\u001b[0m \u001b[0mkey\u001b[0m\u001b[0;34m,\u001b[0m \u001b[0mdefault\u001b[0m\u001b[0;34m)\u001b[0m\u001b[0;34m:\u001b[0m\u001b[0;34m\u001b[0m\u001b[0;34m\u001b[0m\u001b[0m\n",
      "\u001b[0;31mNoSuchWindowException\u001b[0m: Message: no such window: target window already closed\nfrom unknown error: web view not found\n  (Session info: headless chrome=67.0.3396.87)\n  (Driver info: chromedriver=2.41.578700 (2f1ed5f9343c13f73144538f15c00b370eda6706),platform=Linux 4.19.112+ x86_64)\n"
     ]
    }
   ],
   "source": [
    "yt.fetch('zUgpqM0ifZ4')"
   ]
  },
  {
   "cell_type": "code",
   "execution_count": 6,
   "metadata": {},
   "outputs": [
    {
     "ename": "NoSuchWindowException",
     "evalue": "Message: no such window: target window already closed\nfrom unknown error: web view not found\n  (Session info: headless chrome=67.0.3396.87)\n  (Driver info: chromedriver=2.41.578700 (2f1ed5f9343c13f73144538f15c00b370eda6706),platform=Linux 4.19.112+ x86_64)\n",
     "output_type": "error",
     "traceback": [
      "\u001b[0;31m---------------------------------------------------------------------------\u001b[0m",
      "\u001b[0;31mNoSuchWindowException\u001b[0m                     Traceback (most recent call last)",
      "\u001b[0;32m<ipython-input-6-0811517228c5>\u001b[0m in \u001b[0;36m<module>\u001b[0;34m\u001b[0m\n\u001b[1;32m      1\u001b[0m \u001b[0;32mfrom\u001b[0m \u001b[0mIPython\u001b[0m\u001b[0;34m.\u001b[0m\u001b[0mdisplay\u001b[0m \u001b[0;32mimport\u001b[0m \u001b[0mImage\u001b[0m\u001b[0;34m,\u001b[0m \u001b[0mHTML\u001b[0m\u001b[0;34m\u001b[0m\u001b[0;34m\u001b[0m\u001b[0m\n\u001b[0;32m----> 2\u001b[0;31m \u001b[0myt\u001b[0m\u001b[0;34m.\u001b[0m\u001b[0mgetscreenshot\u001b[0m\u001b[0;34m(\u001b[0m\u001b[0;34m)\u001b[0m\u001b[0;34m\u001b[0m\u001b[0;34m\u001b[0m\u001b[0m\n\u001b[0m\u001b[1;32m      3\u001b[0m \u001b[0mImage\u001b[0m\u001b[0;34m(\u001b[0m\u001b[0;34m'test.png'\u001b[0m\u001b[0;34m)\u001b[0m\u001b[0;34m\u001b[0m\u001b[0;34m\u001b[0m\u001b[0m\n",
      "\u001b[0;32m<ipython-input-3-1db8701a0207>\u001b[0m in \u001b[0;36mgetscreenshot\u001b[0;34m(self)\u001b[0m\n\u001b[1;32m     39\u001b[0m \u001b[0;34m\u001b[0m\u001b[0m\n\u001b[1;32m     40\u001b[0m     \u001b[0;32mdef\u001b[0m \u001b[0mgetscreenshot\u001b[0m\u001b[0;34m(\u001b[0m\u001b[0mself\u001b[0m\u001b[0;34m)\u001b[0m\u001b[0;34m:\u001b[0m\u001b[0;34m\u001b[0m\u001b[0;34m\u001b[0m\u001b[0m\n\u001b[0;32m---> 41\u001b[0;31m         \u001b[0mself\u001b[0m\u001b[0;34m.\u001b[0m\u001b[0mdriver\u001b[0m\u001b[0;34m.\u001b[0m\u001b[0msave_screenshot\u001b[0m\u001b[0;34m(\u001b[0m\u001b[0;34m'test.png'\u001b[0m\u001b[0;34m)\u001b[0m\u001b[0;34m\u001b[0m\u001b[0;34m\u001b[0m\u001b[0m\n\u001b[0m\u001b[1;32m     42\u001b[0m         \u001b[0;32mreturn\u001b[0m \u001b[0;34m'Done'\u001b[0m\u001b[0;34m\u001b[0m\u001b[0;34m\u001b[0m\u001b[0m\n\u001b[1;32m     43\u001b[0m \u001b[0;34m\u001b[0m\u001b[0m\n",
      "\u001b[0;32m/srv/conda/envs/notebook/lib/python3.8/site-packages/selenium/webdriver/remote/webdriver.py\u001b[0m in \u001b[0;36msave_screenshot\u001b[0;34m(self, filename)\u001b[0m\n\u001b[1;32m   1053\u001b[0m             \u001b[0mdriver\u001b[0m\u001b[0;34m.\u001b[0m\u001b[0msave_screenshot\u001b[0m\u001b[0;34m(\u001b[0m\u001b[0;34m'/Screenshots/foo.png'\u001b[0m\u001b[0;34m)\u001b[0m\u001b[0;34m\u001b[0m\u001b[0;34m\u001b[0m\u001b[0m\n\u001b[1;32m   1054\u001b[0m         \"\"\"\n\u001b[0;32m-> 1055\u001b[0;31m         \u001b[0;32mreturn\u001b[0m \u001b[0mself\u001b[0m\u001b[0;34m.\u001b[0m\u001b[0mget_screenshot_as_file\u001b[0m\u001b[0;34m(\u001b[0m\u001b[0mfilename\u001b[0m\u001b[0;34m)\u001b[0m\u001b[0;34m\u001b[0m\u001b[0;34m\u001b[0m\u001b[0m\n\u001b[0m\u001b[1;32m   1056\u001b[0m \u001b[0;34m\u001b[0m\u001b[0m\n\u001b[1;32m   1057\u001b[0m     \u001b[0;32mdef\u001b[0m \u001b[0mget_screenshot_as_png\u001b[0m\u001b[0;34m(\u001b[0m\u001b[0mself\u001b[0m\u001b[0;34m)\u001b[0m\u001b[0;34m:\u001b[0m\u001b[0;34m\u001b[0m\u001b[0;34m\u001b[0m\u001b[0m\n",
      "\u001b[0;32m/srv/conda/envs/notebook/lib/python3.8/site-packages/selenium/webdriver/remote/webdriver.py\u001b[0m in \u001b[0;36mget_screenshot_as_file\u001b[0;34m(self, filename)\u001b[0m\n\u001b[1;32m   1030\u001b[0m             warnings.warn(\"name used for saved screenshot does not match file \"\n\u001b[1;32m   1031\u001b[0m                           \"type. It should end with a `.png` extension\", UserWarning)\n\u001b[0;32m-> 1032\u001b[0;31m         \u001b[0mpng\u001b[0m \u001b[0;34m=\u001b[0m \u001b[0mself\u001b[0m\u001b[0;34m.\u001b[0m\u001b[0mget_screenshot_as_png\u001b[0m\u001b[0;34m(\u001b[0m\u001b[0;34m)\u001b[0m\u001b[0;34m\u001b[0m\u001b[0;34m\u001b[0m\u001b[0m\n\u001b[0m\u001b[1;32m   1033\u001b[0m         \u001b[0;32mtry\u001b[0m\u001b[0;34m:\u001b[0m\u001b[0;34m\u001b[0m\u001b[0;34m\u001b[0m\u001b[0m\n\u001b[1;32m   1034\u001b[0m             \u001b[0;32mwith\u001b[0m \u001b[0mopen\u001b[0m\u001b[0;34m(\u001b[0m\u001b[0mfilename\u001b[0m\u001b[0;34m,\u001b[0m \u001b[0;34m'wb'\u001b[0m\u001b[0;34m)\u001b[0m \u001b[0;32mas\u001b[0m \u001b[0mf\u001b[0m\u001b[0;34m:\u001b[0m\u001b[0;34m\u001b[0m\u001b[0;34m\u001b[0m\u001b[0m\n",
      "\u001b[0;32m/srv/conda/envs/notebook/lib/python3.8/site-packages/selenium/webdriver/remote/webdriver.py\u001b[0m in \u001b[0;36mget_screenshot_as_png\u001b[0;34m(self)\u001b[0m\n\u001b[1;32m   1062\u001b[0m             \u001b[0mdriver\u001b[0m\u001b[0;34m.\u001b[0m\u001b[0mget_screenshot_as_png\u001b[0m\u001b[0;34m(\u001b[0m\u001b[0;34m)\u001b[0m\u001b[0;34m\u001b[0m\u001b[0;34m\u001b[0m\u001b[0m\n\u001b[1;32m   1063\u001b[0m         \"\"\"\n\u001b[0;32m-> 1064\u001b[0;31m         \u001b[0;32mreturn\u001b[0m \u001b[0mbase64\u001b[0m\u001b[0;34m.\u001b[0m\u001b[0mb64decode\u001b[0m\u001b[0;34m(\u001b[0m\u001b[0mself\u001b[0m\u001b[0;34m.\u001b[0m\u001b[0mget_screenshot_as_base64\u001b[0m\u001b[0;34m(\u001b[0m\u001b[0;34m)\u001b[0m\u001b[0;34m.\u001b[0m\u001b[0mencode\u001b[0m\u001b[0;34m(\u001b[0m\u001b[0;34m'ascii'\u001b[0m\u001b[0;34m)\u001b[0m\u001b[0;34m)\u001b[0m\u001b[0;34m\u001b[0m\u001b[0;34m\u001b[0m\u001b[0m\n\u001b[0m\u001b[1;32m   1065\u001b[0m \u001b[0;34m\u001b[0m\u001b[0m\n\u001b[1;32m   1066\u001b[0m     \u001b[0;32mdef\u001b[0m \u001b[0mget_screenshot_as_base64\u001b[0m\u001b[0;34m(\u001b[0m\u001b[0mself\u001b[0m\u001b[0;34m)\u001b[0m\u001b[0;34m:\u001b[0m\u001b[0;34m\u001b[0m\u001b[0;34m\u001b[0m\u001b[0m\n",
      "\u001b[0;32m/srv/conda/envs/notebook/lib/python3.8/site-packages/selenium/webdriver/remote/webdriver.py\u001b[0m in \u001b[0;36mget_screenshot_as_base64\u001b[0;34m(self)\u001b[0m\n\u001b[1;32m   1072\u001b[0m             \u001b[0mdriver\u001b[0m\u001b[0;34m.\u001b[0m\u001b[0mget_screenshot_as_base64\u001b[0m\u001b[0;34m(\u001b[0m\u001b[0;34m)\u001b[0m\u001b[0;34m\u001b[0m\u001b[0;34m\u001b[0m\u001b[0m\n\u001b[1;32m   1073\u001b[0m         \"\"\"\n\u001b[0;32m-> 1074\u001b[0;31m         \u001b[0;32mreturn\u001b[0m \u001b[0mself\u001b[0m\u001b[0;34m.\u001b[0m\u001b[0mexecute\u001b[0m\u001b[0;34m(\u001b[0m\u001b[0mCommand\u001b[0m\u001b[0;34m.\u001b[0m\u001b[0mSCREENSHOT\u001b[0m\u001b[0;34m)\u001b[0m\u001b[0;34m[\u001b[0m\u001b[0;34m'value'\u001b[0m\u001b[0;34m]\u001b[0m\u001b[0;34m\u001b[0m\u001b[0;34m\u001b[0m\u001b[0m\n\u001b[0m\u001b[1;32m   1075\u001b[0m \u001b[0;34m\u001b[0m\u001b[0m\n\u001b[1;32m   1076\u001b[0m     \u001b[0;32mdef\u001b[0m \u001b[0mset_window_size\u001b[0m\u001b[0;34m(\u001b[0m\u001b[0mself\u001b[0m\u001b[0;34m,\u001b[0m \u001b[0mwidth\u001b[0m\u001b[0;34m,\u001b[0m \u001b[0mheight\u001b[0m\u001b[0;34m,\u001b[0m \u001b[0mwindowHandle\u001b[0m\u001b[0;34m=\u001b[0m\u001b[0;34m'current'\u001b[0m\u001b[0;34m)\u001b[0m\u001b[0;34m:\u001b[0m\u001b[0;34m\u001b[0m\u001b[0;34m\u001b[0m\u001b[0m\n",
      "\u001b[0;32m/srv/conda/envs/notebook/lib/python3.8/site-packages/selenium/webdriver/remote/webdriver.py\u001b[0m in \u001b[0;36mexecute\u001b[0;34m(self, driver_command, params)\u001b[0m\n\u001b[1;32m    319\u001b[0m         \u001b[0mresponse\u001b[0m \u001b[0;34m=\u001b[0m \u001b[0mself\u001b[0m\u001b[0;34m.\u001b[0m\u001b[0mcommand_executor\u001b[0m\u001b[0;34m.\u001b[0m\u001b[0mexecute\u001b[0m\u001b[0;34m(\u001b[0m\u001b[0mdriver_command\u001b[0m\u001b[0;34m,\u001b[0m \u001b[0mparams\u001b[0m\u001b[0;34m)\u001b[0m\u001b[0;34m\u001b[0m\u001b[0;34m\u001b[0m\u001b[0m\n\u001b[1;32m    320\u001b[0m         \u001b[0;32mif\u001b[0m \u001b[0mresponse\u001b[0m\u001b[0;34m:\u001b[0m\u001b[0;34m\u001b[0m\u001b[0;34m\u001b[0m\u001b[0m\n\u001b[0;32m--> 321\u001b[0;31m             \u001b[0mself\u001b[0m\u001b[0;34m.\u001b[0m\u001b[0merror_handler\u001b[0m\u001b[0;34m.\u001b[0m\u001b[0mcheck_response\u001b[0m\u001b[0;34m(\u001b[0m\u001b[0mresponse\u001b[0m\u001b[0;34m)\u001b[0m\u001b[0;34m\u001b[0m\u001b[0;34m\u001b[0m\u001b[0m\n\u001b[0m\u001b[1;32m    322\u001b[0m             response['value'] = self._unwrap_value(\n\u001b[1;32m    323\u001b[0m                 response.get('value', None))\n",
      "\u001b[0;32m/srv/conda/envs/notebook/lib/python3.8/site-packages/selenium/webdriver/remote/errorhandler.py\u001b[0m in \u001b[0;36mcheck_response\u001b[0;34m(self, response)\u001b[0m\n\u001b[1;32m    240\u001b[0m                 \u001b[0malert_text\u001b[0m \u001b[0;34m=\u001b[0m \u001b[0mvalue\u001b[0m\u001b[0;34m[\u001b[0m\u001b[0;34m'alert'\u001b[0m\u001b[0;34m]\u001b[0m\u001b[0;34m.\u001b[0m\u001b[0mget\u001b[0m\u001b[0;34m(\u001b[0m\u001b[0;34m'text'\u001b[0m\u001b[0;34m)\u001b[0m\u001b[0;34m\u001b[0m\u001b[0;34m\u001b[0m\u001b[0m\n\u001b[1;32m    241\u001b[0m             \u001b[0;32mraise\u001b[0m \u001b[0mexception_class\u001b[0m\u001b[0;34m(\u001b[0m\u001b[0mmessage\u001b[0m\u001b[0;34m,\u001b[0m \u001b[0mscreen\u001b[0m\u001b[0;34m,\u001b[0m \u001b[0mstacktrace\u001b[0m\u001b[0;34m,\u001b[0m \u001b[0malert_text\u001b[0m\u001b[0;34m)\u001b[0m\u001b[0;34m\u001b[0m\u001b[0;34m\u001b[0m\u001b[0m\n\u001b[0;32m--> 242\u001b[0;31m         \u001b[0;32mraise\u001b[0m \u001b[0mexception_class\u001b[0m\u001b[0;34m(\u001b[0m\u001b[0mmessage\u001b[0m\u001b[0;34m,\u001b[0m \u001b[0mscreen\u001b[0m\u001b[0;34m,\u001b[0m \u001b[0mstacktrace\u001b[0m\u001b[0;34m)\u001b[0m\u001b[0;34m\u001b[0m\u001b[0;34m\u001b[0m\u001b[0m\n\u001b[0m\u001b[1;32m    243\u001b[0m \u001b[0;34m\u001b[0m\u001b[0m\n\u001b[1;32m    244\u001b[0m     \u001b[0;32mdef\u001b[0m \u001b[0m_value_or_default\u001b[0m\u001b[0;34m(\u001b[0m\u001b[0mself\u001b[0m\u001b[0;34m,\u001b[0m \u001b[0mobj\u001b[0m\u001b[0;34m,\u001b[0m \u001b[0mkey\u001b[0m\u001b[0;34m,\u001b[0m \u001b[0mdefault\u001b[0m\u001b[0;34m)\u001b[0m\u001b[0;34m:\u001b[0m\u001b[0;34m\u001b[0m\u001b[0;34m\u001b[0m\u001b[0m\n",
      "\u001b[0;31mNoSuchWindowException\u001b[0m: Message: no such window: target window already closed\nfrom unknown error: web view not found\n  (Session info: headless chrome=67.0.3396.87)\n  (Driver info: chromedriver=2.41.578700 (2f1ed5f9343c13f73144538f15c00b370eda6706),platform=Linux 4.19.112+ x86_64)\n"
     ]
    }
   ],
   "source": [
    "from IPython.display import Image, HTML\n",
    "yt.getscreenshot()\n",
    "Image('test.png')"
   ]
  },
  {
   "cell_type": "code",
   "execution_count": 14,
   "metadata": {},
   "outputs": [
    {
     "data": {
      "text/html": [
       "<div>\n",
       "<style scoped>\n",
       "    .dataframe tbody tr th:only-of-type {\n",
       "        vertical-align: middle;\n",
       "    }\n",
       "\n",
       "    .dataframe tbody tr th {\n",
       "        vertical-align: top;\n",
       "    }\n",
       "\n",
       "    .dataframe thead th {\n",
       "        text-align: right;\n",
       "    }\n",
       "</style>\n",
       "<table border=\"1\" class=\"dataframe\">\n",
       "  <thead>\n",
       "    <tr style=\"text-align: right;\">\n",
       "      <th></th>\n",
       "      <th>ID</th>\n",
       "      <th>TITLE</th>\n",
       "      <th>CHANNEL</th>\n",
       "    </tr>\n",
       "  </thead>\n",
       "  <tbody>\n",
       "    <tr>\n",
       "      <th>0</th>\n",
       "      <td>zUgpqM0ifZ4</td>\n",
       "      <td>劉德華經典歌曲30首</td>\n",
       "      <td>那些好听的歌</td>\n",
       "    </tr>\n",
       "    <tr>\n",
       "      <th>1</th>\n",
       "      <td>sv0CE-Vo00g&amp;list</td>\n",
       "      <td>Mix - 2020不能不聽的100首歌 ( 少年 - 夢然 , 說好不哭 Won't Cr...</td>\n",
       "      <td>YouTube</td>\n",
       "    </tr>\n",
       "    <tr>\n",
       "      <th>2</th>\n",
       "      <td>DcHS3_A__Wg</td>\n",
       "      <td>中國古典音樂 古琴輕音樂 安靜音樂 放鬆音樂 心靈音樂 冥想音樂 睡眠音樂 - Hermos...</td>\n",
       "      <td>古典音樂 - Chinese Music</td>\n",
       "    </tr>\n",
       "    <tr>\n",
       "      <th>3</th>\n",
       "      <td>ymvUlfZCrbw&amp;list</td>\n",
       "      <td>Mandopop Hotlist</td>\n",
       "      <td>YouTube Music</td>\n",
       "    </tr>\n",
       "    <tr>\n",
       "      <th>4</th>\n",
       "      <td>S-gxNYXogKU</td>\n",
       "      <td>Winter Night Jazz Music - Stress relief - Rela...</td>\n",
       "      <td>Cafe Music BGM channel</td>\n",
       "    </tr>\n",
       "    <tr>\n",
       "      <th>5</th>\n",
       "      <td>UJkS26Pn1cs</td>\n",
       "      <td>20首寶麗金經典粵語歌曲 | 張學友《祗想一生跟你走》| 李克勤 《月半小夜曲》| 陳慧嫻 ...</td>\n",
       "      <td>PolyGram 寶麗金</td>\n",
       "    </tr>\n",
       "    <tr>\n",
       "      <th>6</th>\n",
       "      <td>xIEhVH7wQw4</td>\n",
       "      <td>Top English Acoustic Love Songs 2020 - Greates...</td>\n",
       "      <td>Acoustic Songs Collection</td>\n",
       "    </tr>\n",
       "    <tr>\n",
       "      <th>7</th>\n",
       "      <td>ncjuqj0WN6s</td>\n",
       "      <td>Instrumental Christmas Music: Christmas Piano ...</td>\n",
       "      <td>Soothing Relaxation</td>\n",
       "    </tr>\n",
       "    <tr>\n",
       "      <th>8</th>\n",
       "      <td>kPcu_5RkJpU</td>\n",
       "      <td>🤠周杰倫歌曲🎧40首精選集🎼年份順序【可自選歌曲】Songs of the Most Pop...</td>\n",
       "      <td>大俠人生旅途Hero's Life Travelling</td>\n",
       "    </tr>\n",
       "    <tr>\n",
       "      <th>9</th>\n",
       "      <td>Qz6XNSB0F3E</td>\n",
       "      <td>Dua Lipa, Coldplay, Martin Garrix &amp; Kygo, The ...</td>\n",
       "      <td>Miracle Music</td>\n",
       "    </tr>\n",
       "    <tr>\n",
       "      <th>10</th>\n",
       "      <td>jgDe-6WovPw</td>\n",
       "      <td>Best Music Mix 2020 ♫ Best Of No Copyright ♫ G...</td>\n",
       "      <td>7even Cloud</td>\n",
       "    </tr>\n",
       "    <tr>\n",
       "      <th>11</th>\n",
       "      <td>7XaSva2zQ0g</td>\n",
       "      <td>#2020不能不聽的100首歌 ( #少年 , Ice Paper - 心如止水 , 音闕詩...</td>\n",
       "      <td>kkbox- 最佳歌曲2020</td>\n",
       "    </tr>\n",
       "    <tr>\n",
       "      <th>12</th>\n",
       "      <td>kLBxjzYF37c</td>\n",
       "      <td>2020 KKBOX 華語單曲排行月榜 - 2020快手上最火的歌曲: G.E.M鄧紫棋、A...</td>\n",
       "      <td>KKBOX 華語流行歌曲</td>\n",
       "    </tr>\n",
       "    <tr>\n",
       "      <th>13</th>\n",
       "      <td>9uIk_91GQYI</td>\n",
       "      <td>Beautiful Relaxing Music - Calm Piano Music &amp; ...</td>\n",
       "      <td>Soothing Relaxation</td>\n",
       "    </tr>\n",
       "    <tr>\n",
       "      <th>14</th>\n",
       "      <td>A8tl4cZq7V0</td>\n",
       "      <td>陳奕迅精選歌曲30首</td>\n",
       "      <td>那些好听的歌</td>\n",
       "    </tr>\n",
       "    <tr>\n",
       "      <th>15</th>\n",
       "      <td>oPVte6aMprI</td>\n",
       "      <td>Deep Focus - Music For Studying, Concentration...</td>\n",
       "      <td>Quiet Quest - Study Music</td>\n",
       "    </tr>\n",
       "    <tr>\n",
       "      <th>16</th>\n",
       "      <td>c8ijHgTvv9I</td>\n",
       "      <td>Dua Lipa, Coldplay, Martin Garrix &amp; Kygo, The ...</td>\n",
       "      <td>Miracle Music</td>\n",
       "    </tr>\n",
       "    <tr>\n",
       "      <th>17</th>\n",
       "      <td>6SRbA97EaEk</td>\n",
       "      <td>2021不能不聽的100首歌 ( 少年 - 夢然 , 說好不哭 Won't Cry, 阿冗 ...</td>\n",
       "      <td>KKBOX 華語新歌 2020</td>\n",
       "    </tr>\n",
       "    <tr>\n",
       "      <th>18</th>\n",
       "      <td>XMgxfkwZL4k</td>\n",
       "      <td>O Holy Night (Looped Album) • Instrumental Chr...</td>\n",
       "      <td>Soothing Relaxation</td>\n",
       "    </tr>\n",
       "    <tr>\n",
       "      <th>19</th>\n",
       "      <td>ptWv5AnUCyc</td>\n",
       "      <td>3小時50首特選最佳抒情歌   阿冗   你的答案 , 少年   夢然 , 大泫   靜悄悄...</td>\n",
       "      <td>Love kkbox. 甜美的旋律</td>\n",
       "    </tr>\n",
       "  </tbody>\n",
       "</table>\n",
       "</div>"
      ],
      "text/plain": [
       "                  ID                                              TITLE  \\\n",
       "0        zUgpqM0ifZ4                                         劉德華經典歌曲30首   \n",
       "1   sv0CE-Vo00g&list  Mix - 2020不能不聽的100首歌 ( 少年 - 夢然 , 說好不哭 Won't Cr...   \n",
       "2        DcHS3_A__Wg  中國古典音樂 古琴輕音樂 安靜音樂 放鬆音樂 心靈音樂 冥想音樂 睡眠音樂 - Hermos...   \n",
       "3   ymvUlfZCrbw&list                                   Mandopop Hotlist   \n",
       "4        S-gxNYXogKU  Winter Night Jazz Music - Stress relief - Rela...   \n",
       "5        UJkS26Pn1cs  20首寶麗金經典粵語歌曲 | 張學友《祗想一生跟你走》| 李克勤 《月半小夜曲》| 陳慧嫻 ...   \n",
       "6        xIEhVH7wQw4  Top English Acoustic Love Songs 2020 - Greates...   \n",
       "7        ncjuqj0WN6s  Instrumental Christmas Music: Christmas Piano ...   \n",
       "8        kPcu_5RkJpU  🤠周杰倫歌曲🎧40首精選集🎼年份順序【可自選歌曲】Songs of the Most Pop...   \n",
       "9        Qz6XNSB0F3E  Dua Lipa, Coldplay, Martin Garrix & Kygo, The ...   \n",
       "10       jgDe-6WovPw  Best Music Mix 2020 ♫ Best Of No Copyright ♫ G...   \n",
       "11       7XaSva2zQ0g  #2020不能不聽的100首歌 ( #少年 , Ice Paper - 心如止水 , 音闕詩...   \n",
       "12       kLBxjzYF37c  2020 KKBOX 華語單曲排行月榜 - 2020快手上最火的歌曲: G.E.M鄧紫棋、A...   \n",
       "13       9uIk_91GQYI  Beautiful Relaxing Music - Calm Piano Music & ...   \n",
       "14       A8tl4cZq7V0                                         陳奕迅精選歌曲30首   \n",
       "15       oPVte6aMprI  Deep Focus - Music For Studying, Concentration...   \n",
       "16       c8ijHgTvv9I  Dua Lipa, Coldplay, Martin Garrix & Kygo, The ...   \n",
       "17       6SRbA97EaEk  2021不能不聽的100首歌 ( 少年 - 夢然 , 說好不哭 Won't Cry, 阿冗 ...   \n",
       "18       XMgxfkwZL4k  O Holy Night (Looped Album) • Instrumental Chr...   \n",
       "19       ptWv5AnUCyc  3小時50首特選最佳抒情歌   阿冗   你的答案 , 少年   夢然 , 大泫   靜悄悄...   \n",
       "\n",
       "                         CHANNEL  \n",
       "0                         那些好听的歌  \n",
       "1                        YouTube  \n",
       "2           古典音樂 - Chinese Music  \n",
       "3                  YouTube Music  \n",
       "4         Cafe Music BGM channel  \n",
       "5                   PolyGram 寶麗金  \n",
       "6      Acoustic Songs Collection  \n",
       "7            Soothing Relaxation  \n",
       "8   大俠人生旅途Hero's Life Travelling  \n",
       "9                  Miracle Music  \n",
       "10                   7even Cloud  \n",
       "11               kkbox- 最佳歌曲2020  \n",
       "12                  KKBOX 華語流行歌曲  \n",
       "13           Soothing Relaxation  \n",
       "14                        那些好听的歌  \n",
       "15     Quiet Quest - Study Music  \n",
       "16                 Miracle Music  \n",
       "17               KKBOX 華語新歌 2020  \n",
       "18           Soothing Relaxation  \n",
       "19             Love kkbox. 甜美的旋律  "
      ]
     },
     "execution_count": 14,
     "metadata": {},
     "output_type": "execute_result"
    }
   ],
   "source": [
    "yt.getrecommend()"
   ]
  },
  {
   "cell_type": "code",
   "execution_count": 53,
   "metadata": {},
   "outputs": [],
   "source": [
    "text = yt.transcript('xi6r3hZe5Tg')"
   ]
  },
  {
   "cell_type": "code",
   "execution_count": 55,
   "metadata": {
    "scrolled": false
   },
   "outputs": [
    {
     "data": {
      "text/plain": [
       "\"The paradigm has shifted, the world is accelerating. The science fiction of yesterday is rapidly becoming the science fiction's of right. Now, how do we withstand the tectonic shifts in the world around us? How does a society thrive where the world economy is undergoing constant disruption? When information is moving at the speed of light, there are places that are ahead of the curve. City is building the tools for tomorrow, . We want to create innovations that have a real way impact. One day single pole can be self-sustained in food production. You are looking at the development of Singapore 40 years ahead of time. This city could be a model that wants to come. This is the city of the future. Singapore. The future of the world lies in its urban environments. More than half the world's population live in cities, and that number is growing. This rapid influx of people creates possibility, but it also creates challenges. How can the cities of today grow and thrive to become the places we want to live in tomorrow? Creating sustainable, manageable human spaces in the world's ever-expanding cities is a challenge facing governments across the globe and no one understands the complexity of this challenge better than the planners at Singapore's. Housing and Development board. The agency in charge of creating living spaces for about 80 % of the resident households in one of the most densely populated cities, I'm an architect by training, and I also have a master's degree in planning. So I'm an architect planner since 2010, dr. Chang's vision and guidance has helped usher in a new era of smart public housing for the HDB allowing the city she loves to grow and thrive. Despite significant challenges, as an island city state were only about half the size of metropolitan London, we have to house 5.7 million people and we have caused very land and resource constrained. So that is the big challenge. But having said that, over the years we have managed to develop Singapore in a pretty sustainable way and we are one of the most livable cities in Asia. Dr. Cheung was a little girl. Singapore was a vastly different City. It had 1/3 of today's population, less than 1 % of the current GDP, and little to no infrastructure in just over five decades, though, this tiny city-state has undergone a remarkable transformation. Singapore's HDB has built a million flats creating one of the most successful public housing programs. In the world, HDB is now looking to high-tech, innovative solutions to not only provide enough living spaces for Singapore citizens, but also improved quality of life for decades to come. We have very sophisticated computer models that help the architect planner to improve the environmental quality in the town. So, for example, the Singapore is in the tropics, so we want to encourage the breezes to come true through computer simulation. You can actually position the blocks and the public spaces in the parks in such a way to help you achieve this  Cinco does very long-term, comprehensive planning, and that is very important. You are looking at the development of Singapore 40 years ahead of time, and this is important because it ensures that we have sufficient land safeguarded to meet all our development needs. Singapore is planning decades ahead in such a land scarce nation. The question is often not what to build, but where to build Singapore's Urban Redevelopment Authority is in charge of identifying the future needs of all Singapore's land. It'S the kind of challenge that draws in the adventurous and the curious I'm very much an urban person. The city is close to my heart and even more so having worked in detail on the plans over the last 2000 years for Andrew and the URA, sometimes that work means creating land from nothing, a process known as land reclamation. Since independence in 1965, Singapore has used reclamation to increase its land mass by about 23 percent. One of the most striking examples of this, and perhaps a vision that cities across the world may adopt is Singapore's Marina Bay, a vast engineering project that has been decades in the making . When I first started work with you, RA Marina Bay was just a vacant tract of land. It was only maybe 10 to 15 years ago too. We actively started development of the area. Andrew was part of the team that drew up the plan from Marina Bay and translated it into reality. It'S a betterment dramatically increased the footprint of Singapore, but it was designed with the needs of its citizens in mind. The traditional central business district just comprises as office space, then is only used nine to five five days a week. So as we planned Marina Bay, we've always so looked to bring in complementary uses. So the idea here is you create a mixed-use precinct there. The activities carry off 24/7 seven days a week to make the round-the-clock Marina Bay model work. The you are a needed infrastructure in land, scarce Singapore that meant going underground, using precision designed layers of essential services, including water and electrical tunnels, pedestrian and commercial spaces. Transportation infrastructure, like highways and subways and even telecommunications, super highways. These hidden underground systems, have been designed to meet the needs of Singapore for the next 50 years, but some in Singapore are looking beyond that already imagining the cities of the far future. I actually think that the future of Singapore is not just about increasing the density around transportation nodes of activity. I actually think it's about exploring air rights as well. Jason Pomeroy has grand visions for his city, the award-winning architect of Singapore's, first zero-carbon house, the B house. His designs are pushing the boundaries of how Singapore might look more than 50 years from now think about creating structures over roads over motorways topping up above existing structures. The rooftops today might be sky court sky, gardens of recreation. If cities expand upwards into the skies, conventional methods of Road transportation may no longer be effective. Perhaps the future of urban transportation will play a major part in shaping the way we live, but then all of a sudden you're going to need to think about how to get people up there. You know if you were to fast-forward 50 years from now. We already see drone technology becoming so advanced. Why are we not sticking people into those drones again, a bit like Blade Runner, all of a sudden, your sky courts, your sky guards, even your private terraces to your condo, is actually a landing platform for your own personalized drone, though the idea of its flying to Work may be decades away. Drone technology is advancing rapidly and could become integral to the evolution of transportation in the cities of tomorrow in Singapore, the government has thrown its support behind an advanced program to test the limits of drone capabilities in the world's rapidly expanding urban environments.  skyways is Airbus's project that is exploring this urban air delivery domain or basically, cargo delivery with drones, project . The drone that we're using is actually fully customized were fully designed by our team here in Singapore to ensure maximum safety in the air. The drones have multiple aerospace-grade navigation systems so that, if one system malfunctions, you can rely on others to fly to its destination. , the packages that we can deliver by design today is up to four kilograms. What we understand is that four kilograms would cover, perhaps about 80 85 percent of all the packages that are a parcel deliveries that are done today. Once the package has been delivered to its slot, the mailbox automatically sends a personalized code to the customer, so they can pick up the package 24/7. Just like that also comes back  in Airbus. One of our visions is what we call urban air mobility. So flying taxis, for example, the skyways is about enabling the technology it's about looking and moving towards a future where we have then a flying transportation means in an urban setting. Singapore innovators are imagining and experimenting the what's next for urban travel. Drone technology may be the next revolution, liberating commuters from their 2-dimensional travel, but the challenges facing all of our cities may be more elemental than where we will build and how to get around providing food and water for the millions of people that will pack into our Urban environments could be the biggest challenge yet , as urban populations rise. The world will face unprecedented challenges: how to house transport and, most importantly, feed its people in the future. As rural populations decrease, ensuring food stability will be key and land scarce Singapore. It'S a challenge that is already being confronted right. Now: 93 % of produce is imported in to Singapore, and that's because there just simply is enough land to do farming practices. Benjamin Swan came to Singapore as an engineer on the Marina Bay Sands project, but having fallen in love with the city, he recognized a challenge and an opportunity to help the nation towards its goal of food. Sustainability Ben is developing a new way to grow food, not just in Singapore, but in any urban environment. Sussan air is a controlled environment. Agriculture farm we effectively replicate what's happening outside in nature, to grow impossible products in impossible places. Singapore is a trailblazer in this technology. Having opened the world's first commercial vertical farm in 2012, now sustained air through their patented processes, are able to grow produce indoors without sunlight and without soil. What we actually have done is we've come up with our own system here to introduce the Seas directly into the firm cues. So what that does is ensures. We have 100 % germination success. This broom has been specially designed to take the plant from its initial germination through to a mature state where we can introduce into the mangrove rooms. These large-scale growing rooms are astonishing feats of agricultural technology. The precision calibration of the growing environment allows these new-age farmers to optimize cultivation at every stage. In the plant's growth, we control the air temperature, the humidity the light durations, the light wavelength. We control the dissolved oxygen in the water, as well as a carbon dioxide saturation. There, in these closely monitored growing rooms, sustained air is creating food history. First, ever Singaporean grown strawberries, actually growing three varieties in this room. What we've learned through controlled environment agriculture? We can actually emphasize certain characteristics to plants so without using GMO. We can make our kale softer. We can actually make it sweet a lot of the Singaporeans, don't like their products to be bitter. So we took it into our R & D lab and what we found was by manipulating the air temperature and humidity in the rest of the wavelength of light and the growth cycles, we were able to create a spray product of a growing scale. Not only is this farm able to produce vegetables perfectly calibrated for Singaporeans, but techniques could provide vital farming areas for the densely populated cities of the future.  traditional land farming grows produce outside on a flat linear area. Sicinius system grows food inside in any building expanding Agriculture's footprint up into the sky. So what vertical farming means for places like Singapore that has very little or has land scarcity is that we can leverage buildings to grow products and with the efficiency that we have within our footprint. We believe one day that we could actually produce enough produce indoors to stay in Singapore's map.  fresh available food will be a necessity in our cities not only to feed citizens, but also to keep them healthy as populations age and the incidence of diabetes continues to rise across the developed world. Singapore, like all cities, needs to encourage its citizens to eat smart and well. We wanted to deploy food and beverages. Okay, as a tool to manage it could be health, it could be wellness, it could be performance and, of course, also for fitness as well. Believe it or not, these colorful sculptures are edible. They are the creations of dr. Lehmann. Why a scientists at Singapore, polytechnics, food innovation and resource center using the latest breakthroughs in technology? She is creating food tailored to the exact calorie and nutrition needs of Singapore's senior citizens. We wanted to look at personalized nutrition for a target group to pull so what we started off is basically looking at people with different lifestyles or otherwise looking at people with different health conditions to realize her vision, dr. Lee collaborated with bioengineer mark Wang to build a Piece of wearable tech that can monitor a person's nutritional requirements - Orion developed here at Sonoma Polytechnic, is what we call the inter sent system is a no-fun factor for watch the app it's pulling data from the from the wearable, so this data can be fed to algorithms To compute specialized individual nutrients that are customized for the individual, so a 3d printer could then use this data and print out the appropriate nutrient values suitable for the individual. Dr. Lee's system is one of the first of its kind in Singapore. Perhaps the world 2 pair wearable tech with 3d printing to create food with personalized nutritional values. This particular printer actually has a beautiful way of allowing us to customize nutrition, so there should be probably a chicken rice that is actually high in calcium. Some de is actually good for potassium and different types of vitamins and minerals. There is a custom while still an experimental prototype. The potential is staggering. This jelly packs a punch with the necessary nutrients for optimizing health and even preventing diseases with greater sets of data from each individual. We can now create a whole library or database and identify trends by using machine learning or using AI, so that is extremely powerful in the near future to be able to predict potential health issues and mitigate those health issues in population centers before events through imaginative planning And technological innovation, Singapore is finding new ways to house and feed its growing population by perhaps one of the biggest challenges facing any global city will be ensuring a constant, safe supply of that most precious of resources. Water Singapore currently uses 2 billion litres of water a day. The most efficient source of fresh water is rain and to capitalize on this resource. The nation is criss-crossed with an extensive network of rivers and canals the channel every last precious drop of rain into 17 storage reservoirs.  about two-thirds of Singapore is what the catchment area that's about: 400 plus square kilometers, so water that falls on a catchment area. We will find its way in to our drains and canals which linked to one of our reservoirs. Singapore'S catchment system is extensive and efficient, but to collect rainwater you need land and lots of it. Singapore is a small island, so we are limited in terms of the catchment area that we have and also now, with the changing weather patterns, the quarter coming from rain. It'S a bit unpredictable, so we've moved on to more weather is zilean water sources like this alienation as the world warms. Every city will need to find fresh solutions to provide their citizens with clean water in Singapore. The Public Utilities Board is already looking to the future experimenting with new techniques to push the water potential of the little red dot. Looking ahead, our cities need to overcome a variety of challenges. Rapid urbanization will present problems of growth, housing and food sustainability, but none may be more crucial than the access to fresh water. Singapore currently imports about half of its daily water requirement in the next three decades, though, the aim is to ensure water sustainability to do so. Planners are looking to a resource. The island nation has in abundance, see what I was called this a new toy, really it's kind of a toy for us, but seriously it's a plan. That'S designed with robustness. Reliability is fully automated. You kid son, oversaw the construction of a brand new state-of-the-art water facility. The twice desalination plant we've been working on this project for the last just over two years to get it from a green field and up to the state that you see right behind me. A functional 13 million gallons per day desalination plant, the twice desalination plant, is a modern marvel of precision engineering in land, scarce Singapore. Its footprint is a mere 100 meters by 300 meters. That'S roughly the size of three football fields. This may seem large, but it is a relatively small footprint compared to plants of its kind around the world when we did the design in the construction. It was quite a challenge that you got to make sure that they are all stacked and arranged in a like. A Lego manner that it all fits nicely into a puzzle and and if it forms the plant, what you see today, despite its small footprint, the twice desalination plant houses, one of the world's most powerful technologies for producing fresh water from the sea, reverse osmosis filters. That'S actually the heart of the plan where the salt in the seawater gets, separated or removed from the water. The white tubes in there is the reverse osmosis membrane, where Hilda water will be pushed through the membrane. This high-tech process is a key part of preparing Singapore for the future. A conventional water desalination is energy intensive, the electricity you would need to disallow Nate enough water for just one day of Singapore's needs, could power a Singaporean household for a thousand years to save energy and reduce the cost of water. Desalination. The pob is now investing in new research. Evoque WA is a company working on the desalination process of tomorrow. We are demonstrating our next IDI technology for seawater. Desalination  electrodialysis uses electricity to remove salt from seawater. Pairs of electrodes are placed in a stream of salt water with one positive electrode and one negative. The positively charged sodium ions are attracted to the negative electrode and the negatively charged chlorine. Ions are attracted to the positive electrode. This concentrates the salt around the electrodes. The process is repeated until the water is salt free. Now we are building a demonstration plan with a capacity of 3,800 meter cube per day. We have plans to photosphere up this technology with a capacity of 100,000 meter cube per day. Singapore'S innovations in housing, food and water are giving us a glimpse of how a forward-thinking city might solve some of the challenges it faces, but these solutions will come at a price. Fast, secure and thriving economies will be essential for facing an uncertain future, and perhaps no nation understands this better than Singapore. The financial sector is a very, very critical sector for Singapore, almost 12 % of our GDP comes from the sector. So you understand how critical for us to ensure that this sector is a vibrant sector. It is competitive. It attracts the best possible ideas, as a chief FinTech officer of the Monetary Authority of Singapore, sup Nando mohanty needs to ensure that the nation sets a world standard for the financial sector. This boils down to one thing: technology, innovation, most of the services and financial sector, are going to be powered by technology. In 2016, Singapore announced project Ubben a new FinTech experiment using blockchain technology. Traditionally, banks keep a record of all transactions on their own, centralized ledger which is susceptible to manipulation by hackers, but project kuben keeps all records on a blockchain. This means that identical copies of the ledger are kept on a distributed network of computers around the world. These computers check in with each other to ensure that their copy of the ledger is correct and if one of the copies does not match the others, it is rejected and replaced with a copy that the majority of Ledger's agree is correct. It'S a tamper with the blockchain to steal money. A hacker would need to hack a majority of the computers on the network simultaneously. A virtual impossibility. The real killer use case is cross border transfer today, text two to three days to move money between two countries: the whole overseas transfer. So if we can apply a technology like blockchain, it may give us that opportunity to reduce that time to do cross border transfer and may also reduce the expensive way. We move money from a country to be contributing. Singapore has long been known as a financial hub home to major banks from around the world. The project urban Singapore has ensured that it will stay ahead of the pack when it comes to FinTech. In a country short on natural resources, the motto is: innovate or die, and Singapore has taken up that challenge with a startup culture catapulting the nation into the future. , you ,  ideas are one of the intangible resources at power. Cities, Singapore is capitalized on the nation's creative DNA to support and usher in a new wave of innovative companies. One of the biggest startup hubs is st engineering tech incubator in O sparks. We are focused on solving salty urban challenges, particularly solutions in spa cities. As far as health tech, medical technology is a three hundred and fifty billion dollar global industry, one that thrives on the latest ideas like Allen, goes revolutionary. Automated needle targeting system with end system, we are able to automate the entire needle alignment process, making it very stressful for the doctors we can align the needle to the target at a fraction of the time. It is more accurate, more than just a surgical assistant. Allen'S robot can actually help train the next generation of surgeons difficult for surges to be expert in terms of puncture. He has to function more than 150 times, while such a device, which is smart, automated junior surgeons, probably just required about 40 to 50 puncture, and they could be an expert in a few of puncture. I know Sparks has also been key in developing life-saving technologies to solve global health problems. My name is Jerome, I'm the head of engineering at Ennis parks and I'm also the lead engineer for a plasma mask. So we actually started the project development into zero. One three: when Singapore was hit with severe haste during the 2013 Southeast Asian haze crisis, large-scale wildfires blanketed, the region in impenetrable smog, shattering all records and pollution indexes stores sold out of high quality air filtration masks worse. Yet parents, with this main, to learn that all masks on the market were built for adults. We actually went to do a 3d facial scanning of more than 850 children and adults and then using an algorithm that we developed in-house proprietary. We came up with three sizes of master fits children, adults to the elderly, using thermal imaging the benefits of these masks leap into focus. We can see that actually the mass itself stays pretty much purple. This is a quick way to show that the ventilator is actually effective in venting heat from the mask, while a vital part of Singapore's economy. The tech scene is not just about software or hardware at its core. It is about hardware providing for its citizens. We want to create innovations that have a real way impact, so we take a very user centered approach. Singapore'S digital economy is providing real, tangible benefits to people, and some of its brightest inventors are focusing on the far future local startup transfer Phi has developed a technology that could change the way we think about electricity. Power transfer is inherently being able to transfer power wirelessly. We using radiofrequency to be able to transfer power in terms of the construct behind it is electromagnetic waves, essentially our within a wave form. The custom-built transmitter converts electrical current into electromagnetic waves using a complex algorithm. This wave is modulated and focused into a tight beam transmitted to an array of antennas using radio frequency, the receiver harvests, the radio frequency waves and converts them to direct current, which is able to power electrical devices. The system is ready now, so the signal is now generating. I think now we are ready to switch on the power amplifier  ta da ba da is on. Now I switch is on without any any wires that it to it. No battery is nothing. It'S all power through air. This simple demonstration gives a hint of the enormous potential of the system, as the technology is scaled up to further distances, it could revolutionize every industry that relies on electricity, creating the world's first long-range, safe and efficient wireless power networks. There'S a lot of uses, I mean it's ubiquitous technology, I mean you can use wireless power transfer distribution for almost anything from consumer electronics to medical devices, to offshore renewables to sensors. You know for automation, Singapore's digital startups are dreaming up ingenious new technology, proving that perhaps the greatest resource will need in the future is imagination in tomorrow's super connected smart cities. Every aspect of our lives could be affected by the constantly changing world of digital technology. Preparing the next generation for this future is top of mind for most educators of today in Singapore. That preparation starts early using tech tools to teach children the building blocks of a digital mindset, including the most basic skill needed for coding, sequential learning, sequential learning. It seems easy for us doubts, but it's actually not easy for them at all. To know who comes first and who comes next, all right, children we're going to move over there and then we're gon na find your trial ease. Then. Are we gon na put them in your basket? I feel that there's a lot of skills that they can gain from having the tech toys as well Melanie problem, solving skills, communication skills, language skills as well, and also they learn how to problem-solve sequential as well. The play maker program, there are three tech toys. The B board is something that is very friendly and very easy to operate, because there's only a few buttons for the children to use. So, for example, we have the forward and backward 10 11 10 right button.  people, I would say it's a little bit high-end order, thinking whereby children will have to sequence the blocks as pretty in order and they have to scan the barcode. So for kibo, it won't function if they don't start with a begin block and any with the end block. So during that time, children actually get to do a trial and error to see whether it works or not. These tech toys introduce children to advanced learning concepts in doing so, they are arming future generations of Singaporeans, with the skills necessary for computer programming and literacy, without exposing them to too much screen time. This dynamic new approach to education is of critical importance for parents helping to prepare their children for the workplaces of the future. I'Ve got three boys. They are 12 Levin and youngest Paul, since I'm in the finance line, the current way to go is the FinTech. The concern for how my kids are going to cope with the new change India, Korea Falls has always been there, . Definitely I feel these tools will actually help children to prepare the workforce in the future, because we actually building the foundation. For example, the foundation of language, the foundation of problem-solving, the foundation of communicating with people, tech literacy is not just a challenge for newer generations.  as populations around the world image that need to become digitally literate cuts across all age brackets. Singapore is tackling this problem head-on, with proactive efforts to provide tech education to all of its citizens. Ensuring none are left offline was any cookie father. As a woman loudly Bader Lana Lana. Is she nice actually so campus an Indian War Isaac awaiting at sinasu tea or tea person who you just a Diwali mr. towns, journey to digital fluency came at a clinic held by Singapore's info-communications Media Development Authority no boat on the reservation. Simply retract ow take a bow, Iowa Jessica, Whitman mission, FH analytical vasectomy wait at a tea party for while companion Aryan using the network, a McCoy t, new continuity, which decision today. Mama you same tag. We wrestled signal I want to saw. Do we develop our chicken de Caen her much chairman missions, I even as generosity, even toe-to-toe, colleano lesson? You have learned her income continued since we can differ by her tenacity, Tahoe , Singapore's focus on training. All of its citizens for the future is nurturing a highly educated, versatile and connected population. Connectivity and community will shape the world of tomorrow and in Singapore. That sense of community is already revealing itself in new and surprising ways. We are racing towards a future that will be dominated by technology in the decades to come. Dedicated citizens will find ways to harness that technology to make a positive impact. Enhancing lives through creative innovation in Singapore technology is already being created. That will care for the nation's most vulnerable. We try to provide sleep wellness for newborn babies and also premature babies. So what you do is that you actually put a baby on it and after you sleep for about minute, we can give you the breath, calm and know how well your baby is sleeping when a baby sleep, they have a lot of periodic breathing. That means they breathe and they be stopped debrief and stop. Now. This happened to 2 % of the newborn baby, but it happened to 60 % for premature babies.  periodic breathing dramatically reduces oxygen flow, which can have a detrimental effect on a baby's growth and even their cognitive development. The breath optic system uses fiber-optic technology to help monitor this or Frank. This project is personal. I think one of the driving force of us inventing this product, but we cost 24 years ago I had a premature son at a point in time. I bought whatever is available to try to monitor a baby, and I Chi for for one month me and my wife didn't sleep in the same room because we took Chow our ship to stay at a baby. So we took turns to do look after my son for fall for a while, so when we were able to use the optic technology optic fiber technology to create such a sensor, we really know what we want, because I was in that position with you when your Son is okay: now, oh, my sighs, perfecto. Hmm, this life and kicking in well. The spirit of using technological ingenuity to improve lives has been built into the city itself, with green corridors and protected parkland. Keep in Singapore from becoming a concrete jungle in its efforts. Conserve and protected status as a city in a garden and Parks is employing the power of technology. So one of the tools that we use is called the SU by OLS app. It'S a free citizen science base at where everybody can download, and you could make hot boy outside things that you see in Singapore. It could be at your park, it could be in a forest in Singapore and using this data you can develop some conservation or management strategies where we could consider them. Heavy threats are for Texas and green spaces. The app is empowering Singapore citizens to play a meaningful role in the conservation and protection of the city's incredible biodiversity. , those of us over there, the other junk awful and they're like chickens about yeah, technically, not chickens, right,  walking home in the daytime, whether you should be working by the nighttime I'll, be probably down on my couch and watching television. I spend most of my time on the phone watching YouTube playing games. Not only is the citizen science program healthy and parks, maintain Singapore's, rich ecosystem, but also helping people build connections with green spaces and each other. Singapore is our schedule, and so what we need is to preserve what we have now and using the technology. We are able to provide feedback to national paper on the species that we still have a cell phone as the modern world, rapidly marches towards urbanization. Our future cities will face unprecedented pressures. Innovation and technological advancements will help bring pork down to how we move. How we work and how we learn in Singapore, that change is already underway. It feels like we are part of building and creating a Singapore that is vibrant, safe and also sustainable for the people now and also for the future. If we can do it here in Singapore, we can literally do it anywhere in the world and we are excited almost on a everyday basis. We are motivated by the fact that we can make a difference. I heard from one Nobel Prize winner only a prepared mind can see opportunity and we are using this opportunity by getting us who prepared. You seem a ho guys. Look kikuchi, vermin, come father, Logan is objective term has a tsunami. It intended even funny  \""
      ]
     },
     "execution_count": 55,
     "metadata": {},
     "output_type": "execute_result"
    }
   ],
   "source": [
    "re.sub(r'\\[[a-zA-Z0-9,.:\\s]*\\]','',text)"
   ]
  },
  {
   "cell_type": "code",
   "execution_count": null,
   "metadata": {},
   "outputs": [],
   "source": []
  },
  {
   "cell_type": "code",
   "execution_count": 13,
   "metadata": {},
   "outputs": [],
   "source": [
    "html = etree.HTML(yt.driver.page_source)"
   ]
  },
  {
   "cell_type": "code",
   "execution_count": 14,
   "metadata": {},
   "outputs": [
    {
     "data": {
      "text/plain": [
       "['yLTycPjm0nk',\n",
       " 'OwpRfRzkS7o',\n",
       " 'bgPDW0ZpgJU',\n",
       " '6ApDLXFPuYQ',\n",
       " 'kfhgbZBWgBE',\n",
       " '9zTa3cAuKLo',\n",
       " 'xi6r3hZe5Tg',\n",
       " 'YBH6JjRoPT4',\n",
       " 'ixIzimI35SE',\n",
       " '_ZDEWVJan0s',\n",
       " 'C65iqOSCZOY',\n",
       " 'p8ngIL4noF4',\n",
       " 'OuF9weSkS68',\n",
       " 'hmrZrw3Ni2s',\n",
       " 'MNKX1J2iS0k',\n",
       " 'LWVZK52AA0I',\n",
       " 'sIO5PwiByLo',\n",
       " 'kyj2o_Bc22E',\n",
       " 'yvaSVkb9ykc',\n",
       " 'ap668oPKAUg']"
      ]
     },
     "execution_count": 14,
     "metadata": {},
     "output_type": "execute_result"
    }
   ],
   "source": [
    "## Get the IDs from all the anchors\n",
    "[str.split(x.attrib['href'],'=')[1] for x in html.findall(\".//a[@id='thumbnail']\") if ('href' in x.attrib.keys())]"
   ]
  },
  {
   "cell_type": "code",
   "execution_count": 15,
   "metadata": {},
   "outputs": [
    {
     "data": {
      "text/plain": [
       "['POPtravel',\n",
       " 'Kumaar Family',\n",
       " 'Plot11',\n",
       " 'Spark',\n",
       " 'Bloomberg Markets and Finance',\n",
       " 'CNA Insider',\n",
       " 'National Geographic',\n",
       " 'Best Ever Food Review Show',\n",
       " 'Ryan Shirley',\n",
       " 'Bloomberg Quicktake',\n",
       " 'Netflix',\n",
       " 'Spark',\n",
       " 'ColdFusion',\n",
       " 'CNA Insider',\n",
       " 'The Food Ranger',\n",
       " 'Just Planes',\n",
       " 'CNA',\n",
       " 'イーノさん【Logistics YouTuber - IINO san】',\n",
       " 'SCM Southern Corridor Malaysia',\n",
       " 'Wall Street Journal']"
      ]
     },
     "execution_count": 15,
     "metadata": {},
     "output_type": "execute_result"
    }
   ],
   "source": [
    "# Recommended Video Channels\n",
    "[x.text for x in html.findall(\".//div[@id='metadata']/div/ytd-channel-name/div/div/yt-formatted-string\")]"
   ]
  },
  {
   "cell_type": "code",
   "execution_count": 11,
   "metadata": {},
   "outputs": [
    {
     "data": {
      "text/plain": [
       "['Yi0rhFFXzfA', 'H9zsQ1gjnwI', 'icgV42UPbig', 'hM7ZiyHhCB4']"
      ]
     },
     "execution_count": 11,
     "metadata": {},
     "output_type": "execute_result"
    }
   ],
   "source": [
    "# Recommended Video IDs\n",
    "[str.split(x.attrib['href'],'=')[1] for x in html.findall(\".//span[@id='video-title']/../..\")]"
   ]
  },
  {
   "cell_type": "code",
   "execution_count": 11,
   "metadata": {},
   "outputs": [
    {
     "data": {
      "text/plain": [
       "['5 Awesome Free Apps to Find Undervalued Properties',\n",
       " \"Dreams Came Through For This Couple When They Thought It's Impossible!\",\n",
       " 'Can You Really Sell HDB Buy 2 Condo? 🤦\\u200d♂️ (\"Asset Progression\" Explained)',\n",
       " 'Deep Focus - Music For Studying, Concentration and Work',\n",
       " '2020 EXECUTIVE CONDO CAN BUY?',\n",
       " 'Penrose Review! Will it be Launch of the Year?',\n",
       " 'How HDB Negative Sale Can Own 2 Condos!',\n",
       " 'How to Double Your Property Portfolio When You have 2 Condos!',\n",
       " 'Revealing My Entire $21M Property Investment Portfolio by 33 Years Old',\n",
       " 'Handel: Messiah | Barnaby Smith, AAM, VOCES8, Apollo5 and VOCES8 Foundation Choir',\n",
       " 'The New Enhanced CPF Housing Grant | Investors Ep 22',\n",
       " \"Don't Regret Wrong Property Decisions! How To Buy Your First Real Estate Investment In Singapore\",\n",
       " 'Millionaire HDB Owner! REVEALING the NETWORTH of the SELLER!',\n",
       " 'BIGGEST mistake by 1st time property buyers!',\n",
       " 'Sell HDB And buy Condo',\n",
       " '99% Failed To Do This!',\n",
       " 'Launching my Livestream',\n",
       " \"Don't Buy Woodleigh Residences Before Watching This Video - PLBnewProjects_IR | Investors Ep 27\",\n",
       " 'CPF Accrued Interest and how it is related to your property (Facebook Live Episode 3)',\n",
       " 'Simple off grid Cabin that anyone can build & afford']"
      ]
     },
     "execution_count": 11,
     "metadata": {},
     "output_type": "execute_result"
    }
   ],
   "source": [
    "# Recommended Video Titles\n",
    "[x.attrib['title'] for x in html.findall(\".//span[@id='video-title']\")]"
   ]
  },
  {
   "cell_type": "code",
   "execution_count": 12,
   "metadata": {},
   "outputs": [
    {
     "data": {
      "text/html": [
       "<div>\n",
       "<style scoped>\n",
       "    .dataframe tbody tr th:only-of-type {\n",
       "        vertical-align: middle;\n",
       "    }\n",
       "\n",
       "    .dataframe tbody tr th {\n",
       "        vertical-align: top;\n",
       "    }\n",
       "\n",
       "    .dataframe thead th {\n",
       "        text-align: right;\n",
       "    }\n",
       "</style>\n",
       "<table border=\"1\" class=\"dataframe\">\n",
       "  <thead>\n",
       "    <tr style=\"text-align: right;\">\n",
       "      <th></th>\n",
       "      <th>ID</th>\n",
       "      <th>TITLE</th>\n",
       "      <th>CHANNEL</th>\n",
       "    </tr>\n",
       "  </thead>\n",
       "  <tbody>\n",
       "    <tr>\n",
       "      <th>0</th>\n",
       "      <td>33MLF_I4PTw</td>\n",
       "      <td>5 Awesome Free Apps to Find Undervalued Proper...</td>\n",
       "      <td>Eric Chiew</td>\n",
       "    </tr>\n",
       "    <tr>\n",
       "      <th>1</th>\n",
       "      <td>GJDsTfUoOho</td>\n",
       "      <td>Dreams Came Through For This Couple When They ...</td>\n",
       "      <td>Eric Chiew</td>\n",
       "    </tr>\n",
       "    <tr>\n",
       "      <th>2</th>\n",
       "      <td>OH2pPiQeUac</td>\n",
       "      <td>Can You Really Sell HDB Buy 2 Condo? 🤦‍♂️ (\"As...</td>\n",
       "      <td>Josh Tan - TheAstuteParent</td>\n",
       "    </tr>\n",
       "    <tr>\n",
       "      <th>3</th>\n",
       "      <td>oPVte6aMprI</td>\n",
       "      <td>Deep Focus - Music For Studying, Concentration...</td>\n",
       "      <td>Quiet Quest - Study Music</td>\n",
       "    </tr>\n",
       "    <tr>\n",
       "      <th>4</th>\n",
       "      <td>0M676WcRdws</td>\n",
       "      <td>2020 EXECUTIVE CONDO CAN BUY?</td>\n",
       "      <td>Aaron Lin</td>\n",
       "    </tr>\n",
       "    <tr>\n",
       "      <th>5</th>\n",
       "      <td>ryLRkWPIB0Y</td>\n",
       "      <td>Penrose Review! Will it be Launch of the Year?</td>\n",
       "      <td>Eric Chiew</td>\n",
       "    </tr>\n",
       "    <tr>\n",
       "      <th>6</th>\n",
       "      <td>8q1-eRYrpfo</td>\n",
       "      <td>How HDB Negative Sale Can Own 2 Condos!</td>\n",
       "      <td>Eric Chiew</td>\n",
       "    </tr>\n",
       "    <tr>\n",
       "      <th>7</th>\n",
       "      <td>fImbMoc6sjM</td>\n",
       "      <td>How to Double Your Property Portfolio When You...</td>\n",
       "      <td>Eric Chiew</td>\n",
       "    </tr>\n",
       "    <tr>\n",
       "      <th>8</th>\n",
       "      <td>uyR1NH78b4I</td>\n",
       "      <td>Revealing My Entire $21M Property Investment P...</td>\n",
       "      <td>Eric Chiew</td>\n",
       "    </tr>\n",
       "    <tr>\n",
       "      <th>9</th>\n",
       "      <td>lFjQ77ol2DI</td>\n",
       "      <td>Handel: Messiah | Barnaby Smith, AAM, VOCES8, ...</td>\n",
       "      <td>Academy of Ancient Music</td>\n",
       "    </tr>\n",
       "    <tr>\n",
       "      <th>10</th>\n",
       "      <td>djp_Zpigmsc</td>\n",
       "      <td>The New Enhanced CPF Housing Grant | Investors...</td>\n",
       "      <td>PropertyLimBrothers</td>\n",
       "    </tr>\n",
       "    <tr>\n",
       "      <th>11</th>\n",
       "      <td>rRr1BGCK-SQ</td>\n",
       "      <td>Don't Regret Wrong Property Decisions! How To ...</td>\n",
       "      <td>AffinityMotions</td>\n",
       "    </tr>\n",
       "    <tr>\n",
       "      <th>12</th>\n",
       "      <td>ORj1ikvwxsc</td>\n",
       "      <td>Millionaire HDB Owner! REVEALING the NETWORTH ...</td>\n",
       "      <td>Eric Chiew</td>\n",
       "    </tr>\n",
       "    <tr>\n",
       "      <th>13</th>\n",
       "      <td>DLGbZ22SW84</td>\n",
       "      <td>BIGGEST mistake by 1st time property buyers!</td>\n",
       "      <td>Aaron Lin</td>\n",
       "    </tr>\n",
       "    <tr>\n",
       "      <th>14</th>\n",
       "      <td>hnyBkYBl5rM</td>\n",
       "      <td>Sell HDB And buy Condo</td>\n",
       "      <td>PropertyMadeSimple</td>\n",
       "    </tr>\n",
       "    <tr>\n",
       "      <th>15</th>\n",
       "      <td>GfhOuQXadC4</td>\n",
       "      <td>99% Failed To Do This!</td>\n",
       "      <td>Eric Chiew</td>\n",
       "    </tr>\n",
       "    <tr>\n",
       "      <th>16</th>\n",
       "      <td>OZqrTSyGkXY</td>\n",
       "      <td>Launching my Livestream</td>\n",
       "      <td>NepFinity Vlog</td>\n",
       "    </tr>\n",
       "    <tr>\n",
       "      <th>17</th>\n",
       "      <td>IY86lS1pCfw</td>\n",
       "      <td>Don't Buy Woodleigh Residences Before Watching...</td>\n",
       "      <td>PropertyLimBrothers</td>\n",
       "    </tr>\n",
       "    <tr>\n",
       "      <th>18</th>\n",
       "      <td>yIYf87MPiOE</td>\n",
       "      <td>CPF Accrued Interest and how it is related to ...</td>\n",
       "      <td>PropertyMadeSimple</td>\n",
       "    </tr>\n",
       "    <tr>\n",
       "      <th>19</th>\n",
       "      <td>bOOXmfkXpkM</td>\n",
       "      <td>Simple off grid Cabin that anyone can build &amp; ...</td>\n",
       "      <td>Bushradical</td>\n",
       "    </tr>\n",
       "  </tbody>\n",
       "</table>\n",
       "</div>"
      ],
      "text/plain": [
       "             ID                                              TITLE  \\\n",
       "0   33MLF_I4PTw  5 Awesome Free Apps to Find Undervalued Proper...   \n",
       "1   GJDsTfUoOho  Dreams Came Through For This Couple When They ...   \n",
       "2   OH2pPiQeUac  Can You Really Sell HDB Buy 2 Condo? 🤦‍♂️ (\"As...   \n",
       "3   oPVte6aMprI  Deep Focus - Music For Studying, Concentration...   \n",
       "4   0M676WcRdws                      2020 EXECUTIVE CONDO CAN BUY?   \n",
       "5   ryLRkWPIB0Y     Penrose Review! Will it be Launch of the Year?   \n",
       "6   8q1-eRYrpfo            How HDB Negative Sale Can Own 2 Condos!   \n",
       "7   fImbMoc6sjM  How to Double Your Property Portfolio When You...   \n",
       "8   uyR1NH78b4I  Revealing My Entire $21M Property Investment P...   \n",
       "9   lFjQ77ol2DI  Handel: Messiah | Barnaby Smith, AAM, VOCES8, ...   \n",
       "10  djp_Zpigmsc  The New Enhanced CPF Housing Grant | Investors...   \n",
       "11  rRr1BGCK-SQ  Don't Regret Wrong Property Decisions! How To ...   \n",
       "12  ORj1ikvwxsc  Millionaire HDB Owner! REVEALING the NETWORTH ...   \n",
       "13  DLGbZ22SW84       BIGGEST mistake by 1st time property buyers!   \n",
       "14  hnyBkYBl5rM                             Sell HDB And buy Condo   \n",
       "15  GfhOuQXadC4                             99% Failed To Do This!   \n",
       "16  OZqrTSyGkXY                            Launching my Livestream   \n",
       "17  IY86lS1pCfw  Don't Buy Woodleigh Residences Before Watching...   \n",
       "18  yIYf87MPiOE  CPF Accrued Interest and how it is related to ...   \n",
       "19  bOOXmfkXpkM  Simple off grid Cabin that anyone can build & ...   \n",
       "\n",
       "                       CHANNEL  \n",
       "0                   Eric Chiew  \n",
       "1                   Eric Chiew  \n",
       "2   Josh Tan - TheAstuteParent  \n",
       "3    Quiet Quest - Study Music  \n",
       "4                    Aaron Lin  \n",
       "5                   Eric Chiew  \n",
       "6                   Eric Chiew  \n",
       "7                   Eric Chiew  \n",
       "8                   Eric Chiew  \n",
       "9     Academy of Ancient Music  \n",
       "10         PropertyLimBrothers  \n",
       "11             AffinityMotions  \n",
       "12                  Eric Chiew  \n",
       "13                   Aaron Lin  \n",
       "14          PropertyMadeSimple  \n",
       "15                  Eric Chiew  \n",
       "16              NepFinity Vlog  \n",
       "17         PropertyLimBrothers  \n",
       "18          PropertyMadeSimple  \n",
       "19                 Bushradical  "
      ]
     },
     "execution_count": 12,
     "metadata": {},
     "output_type": "execute_result"
    }
   ],
   "source": [
    "id = [str.split(x.attrib['href'],'=')[1] for x in html.findall(\".//a[@id='thumbnail']\") if ('href' in x.attrib.keys())]\n",
    "title = [x.attrib['title'] for x in html.findall(\".//span[@id='video-title']\")]\n",
    "channel = [x.text for x in html.findall(\".//div[@id='metadata']/div/ytd-channel-name/div/div/yt-formatted-string\")]\n",
    "pd.DataFrame(zip(id,title,channel),columns=['ID','TITLE','CHANNEL'])"
   ]
  },
  {
   "cell_type": "code",
   "execution_count": 37,
   "metadata": {},
   "outputs": [
    {
     "data": {
      "text/plain": [
       "\"This is John and Jill. They are about to get married and start a family, but first they have to plan for their future and it's not buying the perfect home. Both John and Jill are working polygraph and the earn a combined monthly salary of $ 4,000. Ideally, they would like to live near their parents in the ground, so many options is easy to get confused now. Do you know what options you have, how welcome number option? 1, a 3-bedroom easy in some balance, a 3-bedroom easy and the balance will cost you about. Seven hundred ninety thousand dollars there's a monthly household income of four thousand dollars. You will be able to take a bank loan of up to two hundred and twenty thousand dollars. Next, let's start by it, you can receive a CPF housing grant releases of up to $ 30,000. This review is four hundred ninety thousand dollars, which has to be paid up front and and resupply suspend for thirty. Nine thousand five hundred dollars has to be paid cash, while the rest can be covered by CPM. I can see there your concern with the figures and EC may not be the most financially sound option. Don'T worry? Here's another option option to a foreign refill in Samoa. The price of a forum, resale flat in Subang, is about three hundred sixty thousand dollars, but lucky you. The government has just announced that the CCS housing grants will be raised from $ 30,000 to $ 50,000 for couples to purchase for room, flash or smaller from the retail market and in forty thousand dollars for those who fight black. There are five groups or figures. This means, as first-time buyers, buying a forum initial plan in a non mature estate. You will receive up to fifty five thousand dollars in grants because you are buying a hope to list on unity apparent. You will receive an additional $ 20,000 in proximity. Housing run these make up a total up to eighty five thousand dollars in grant. So you're left with a sum of $ 275,000 after the initial ten percent of $ 36,000 that you can change using TANF. You can pick up an HPV load for the balance of around two hundred and thirty-nine thousand dollars to financial. Oh, you will need to make monthly installments of about one thousand and ninety dollars on which about nine hundred and twenty dollars can be paid. Yes, this means you need to fork out a total of a hundred and seventy dollars in cash monthly and better. Yet resale flats are available in many locations around Singapore and you can move into your home immediately that it's not too bad right, but I have an even more affordable option if you are able to plan ahead and wait a little longer, a forum GTO flat in Shambhala, the cost of the BPO is two hundred seventy thousand dollars, but because you are a first-time buyer and the bow is in a non mature estate, you'll receive $ 55,000 in grunts. The down payment for the home is twenty-seven thousand dollars, which is fully deductible from the CPF after housing grants for $ 55,000, there will be a balance, purchase price off $ 188,000 city finance to housing, learn from PCB. This will mean a monthly installment of $ 850, but fret not. This is also fully payable through your PBS. This means that you be without zeros on half or your home. Now this sounds more manageable right. So have you made your decision? Yet home is a big ticket purchase and you have to consider all your cash. We ask yourself if you need to move in illegally or are you evil plan ahead? See me in the private property of Irish Life in a location from the city center? Why not choose a small flat that houses the family come up with? Why not stay in non-maturity, because as well connected and equipped with amenities that you will need for some clever planning, you can get a great home and the flexibility using extra savings in any way. You like thank you for watching head over to APD jobs or SD for more details. \""
      ]
     },
     "execution_count": 37,
     "metadata": {},
     "output_type": "execute_result"
    }
   ],
   "source": [
    "transcript('cYtSEj1v0ew')"
   ]
  },
  {
   "cell_type": "code",
   "execution_count": 139,
   "metadata": {
    "scrolled": true
   },
   "outputs": [
    {
     "data": {
      "text/plain": [
       "\"Both of us, we plant a lot of strawberries la on each other's lands. What * screams * Hi, I'm Bolin, I'm Qing, I'm Peps Hi, I'm Leah, and this is Zula ChickChats. Okay, hi guys welcome to today's episode of ChickChats. Why Are you all very nervous? Yes, this is my first time on ChickChats Welcome And today's episode we'll be talking about being in the grey area as much requested from the comments section below. Ah So we hear you okay, we will do this episode for you guys. So my first question to you guys, then, is what happened. Okay, whoever wants can share first la What happened. Bolin, Let's start with Bolin. No Qing should start because she's the new person. Why me? Oh my god? Yes, What happened. I met the person through an app Okay, So we hit off like we talk, then after that move to Telegram. But the thing right we went out for so many times right. The places we go to right were like-, not the kind of place that you and your friends would go to. For example, For example, I need to say where Yes, for example - Oh my god Wah, I nervous - I can see her mouth shaking eh. What is happening? You'Ll go the-, I know The shopping centre, the handicapped toilet. No, Oh my god! You go right. You go! That's why you know right Walao, eh! No, I think too far. Sorry! Okay, we like go picnic. We go like Christmas. Wonderland, Like a lot of date, places Right, But the thing is like nothing happened out of it, So it became from like having feelings to become a little bit more like annoyed and like frustrated of what is happening between the both of us. Like till a point where, okay, if nothing is going to happen, then like-, I don't want to waste your time. Neither should I waste my time So like I ended it la Huh. You never attack. No, I won't So that's the thing I won't When you go out with this person right. Did you all do anything Like hold hands la or like all these kind of thing. We only got hug when we leave that's the thing Walao eh, So it's very-, Don't walao eh You're in this panel. Also, okay Shut the fuck up. How did you end it? So I ended it through text. Wait. The funniest thing is that you ended it as if it was something you know what I mean. No so the thing was- She closed the chapter. For that What did say to close said chapter Like um ``. I don't know where this is going. .'' ``. I don't know what are we .'' ``? Let'S just not waste each other's times, .'' Yeah, something like that ``, So like-''. The reply from him was `` Yeah. I also feel the same way .'' Then some of my friends' perspective is like a bit different. It'S like is it because you showed him this way. That'S why he too scared to like say his real feelings and then ran away, Or it's like he really might have felt the same way, and then nobody said it If he had said that actually like he treats me more than just a friend, then I won't Like just let it go like that- because I feel like after spending like so many months together, hanging out and talking everyday to me, it's more than just a friend la Yeah, Or maybe he tried to attack but but then, like you too, dumb already, Maybe eh. No wait: Okay, wait! So I'm someone who's damn- Like blur, Ah yeah So like if this person hint something right, I might not get it Aiya, you don't know how to attack la walao, eh Bolin. How about you teach me how to- Yeah? How about Bolin? You explain your story. Tell me about the guy's point of view. No, you explain you story. First Bolin, then we see whether you know how to attack or not, Ah correct. What are you doing on this episode? Can you tell me Er, Okay, so uh So like about 5 years ago, I studied in Taiwan for like one year plus One of my classmate she's, like an asian french. So we just call her the French girl Everytime after class right. We will go. Makan ( eat ). Together then, after that she will come over to my dorm, then we study, Oh, Is it really `` study''? Really, You know like the 日久生情? No, I don't understand. Okay, English call the. If you work together for a very long time, then suddenly got the- got the feeling Spark I'll keep asking her to come over la and study. Ah, even though got some days, she didn't ask for help, So this is this'bam' isit Like a'boop' like that, Then I increase my attack a bit. So I'm like `` There's a bar nearby. Quite nice, Want to go together. ?'' Then she's like ``, Okay. Ah, let's go !'' For guys right when you jio a girl out. Ah then the girl is like ``. Should we call the rest ?''? Ah, then you know the attack fail. She say ``, It's just us right! ?'', I'm like ``, Yes, .'', ``! Okay, let's go !'', It became like a norm thing Then one night she drink. She a bit drunk She's, actually hanging out with a group of French people, her classmates la But her classmates like don't know that she keep coming to my place. That'S when I start to confuse already Like if we got- slowly got something you should tell your friends So, okay back to the drunk story, So that night she tell me that ``. Can I sleep at your dorm ?'', Ladies and gentlemen, don't think too far. First, okay, I'm like ``, Okay, you sleep on my bed. Then I sleep outside .'' The next day. I wake up. Ah she sleeping beside me. You know on the sofa, Then I'm like ``. Oh my god, What happened? ?''? No, we didn't do anything. We didn't. Do anything, Then she tell me that she lonely she want to sleep with me. That means if I- say my feelings ah confirm 100 %. We together already, Then, when u suka ( like ) each other and you keep drinking what will happen next? No, they like'BAM' already. Oh okay. Sorry la Our'BAM' ah, is not the'BAM BAM', It's like a- -'BABABABAM'. Is it No * screams *, So we didn't'BAM BAM', Then you'bam bam' We'BAM'. What That means. We never go all the way, Then hor the last month of her internship. Ah then, I confess already I'm like ``. Actually I, like you .'', Then she a bit shocked. Then I'm like `` Wah, siao liao. You shocked. That means not a good reaction already .''. Then she tell me that actually, the French group of friends - ah one of them, is actually sort of seeing her Nani. Okay, Then I'm like what the f- Before she go to Paris. She will fly to Hong Kong. First Then, I booked a flight to Hong Kong and find her Okay. I think this one stupid already Sorry. I know I stupid, I agree, So I went to her hotel and want to like try my last try already. Ah Then, it ended very badly. She changed to another hotel, then I don't know where to go. Then I alone at Shenzhen kena dump. Then she delete me everywhere. She blocked me everywhere: Okay, Peps, your turn, So it was when I was in poly year, one He was in my class, but we started getting close- because we took the same bus to school. Then I started like questioning myself like `` Eh. Is it friends always like that ?'' Because he started getting physically affectionate towards me, So I have this thing right. Okay, all my friends know that- He will like `` Eh. You can touch mine .'', That kind, So the bus ride will be like that. That kind, Obviously our friends started, asking like `` Eh are y'all like dating ?''. That was when I know I was in the grey area, because I didn't know how to answer. Then my friends were like `` Huh. Then you don't want to like ask him about it, meh ?'', But then at the same time I'm also like her I'm like ``. No thank you .''. It went on for like one whole semester. I think. But basically what happened was we just started drifting apart? Okay, so Peps is labelled queen of grey areas for a reason By the entire office by the way. So how many other times has this happened with other people? Qing will know When I know her la I think like around 5. Oh, my god, I forgot Wait. So the other ones also end up like the just drift for no reason or what Just end Just end or like we just became good friends Like did you try anything different after learning your lesson from the first one? No okay! So because after this 18-year-old Peps right after the first grey, I got into a relationship And then after that relationship I got into a second relationship And then after this relationship, then I was really single for like one entire year. Then, when I started like getting back into the arena of dating right, then I'm back to the square one. Then the square one Peps was when this shenanigan happen. So obviously I didn't learn from that la I feel like for both of us right when it comes to this kind of things. It'S like. If the person don't say anything, we will just leave it hanging and then we are very comfortable with hanging one to one. So maybe to the other person, it's like `` Aiya. I think she's, just comfortable hanging with me as a friend .'', As in like some of them is not because I'm waiting for their answer. You know It's like. I think then I realise I don't want After awhile I realised that like `` Eh, I don't really have to wait for their answer. I can ownself answer myself and then just go on from there la .'' Like it can go two ways. What Like- Can I ask one question Because for both of you right, your grey area, hor, the guy, never really attack attack. You know What, if, ah you guys- you and the guy hor, like you, * slurps, sound *, already Damn gross leh. Why every episode you slurping noodles, one Bolin, Okay, do more than just like hold hands, And then they still don't want to confirm anything. Would you tak buleh tahan ( cannot stand it ) already `` Eh, what the fuck man .'' Okay and then you go and confront .'' `` Eh, you kiss me already. So what is it ?''? I have self respect So when they coming to me right-. They already coming, I'm just like `` Woah, okay, what is this .'' Eh mai, lai (? Don'T like that? ) la Aiya, all talk cock, one la you I feel like. I will also When the planter want to plant the strawberry. You will let him plant one. No, That's what you think, Because, like I'm not going to give you boyfriend privilege- when you're, just like that, Damn girl, Okay, a lot of my relationships start with grey area- and the grey area, usually very long one, Because I'm the kind of person that, like you, Don'T want to say anything, I don't really care because to me it's like `` Woohoo party. I don't care about you Whatever. I don't need this guy in my life, .'', Okay, so this is with my ex boyfriend. Okay, but before he was my ex boyfriend, we were just friends and we met through mutual friends because we work at the same work place And then because my friends are the kind that they- keep want to party. So after work, they always like `` Eh Leah. We go this bar drink, .'', `` Leah. We go here and drink .'', So he always happens to be there, also la because he very free that period. It happened a few times- and then every time we go club. It'S always like the same thing Like we will dance to each other or whatever, then what That's about it Like? We never really do anything else. So this period of like the clubbing or the meet with group of friends- and then we just like- act like we are a thing. But not a thing happened for like a few months to one year Like a few months to one year kind: The heck Yeah, but then everybody like question mark at us that kind. So that's why I consider it like grey area la The turning point was when-. This one time I went back in a cab with his close friend this girl, Okay, my friends always ask `` Eh you and him how ah .'', Then I say ``, Nothing, nothing, .'', It's always very casual. They never ask me seriously Only in the cab, then the girl ask me seriously like `` Eh, what are y'all. Ah ?'', Then I say `` I don't know leh .'', Then she like ``. I think u should ask leh .'' `` Like y'all already so long already like that, then never do anything .'' Then I think about it. Then I say: ``: Okay, lor. What'S the harm in asking Just ask lor .'', So I just text that night in the cab, then I said He read then the next day he reply, then it was like something about like ``. Oh, I don't really want .'' Like something something Blah blah. Then I just like, Like I okay, that kind of thing, But then ah after that, still want to continue, And the worse thing is that after that thing it wasn't just clubbing. It'S like he ask me out individually, then we go out one-on-one. Only Then he want to hold my hand all this kind of thing in public. Also, When I asked him was like maybe a few months in like 8 months in already Then the next year like in the middle of the year, then he asked me to be his girlfriend. It was a one and a half year period of like-. We just never establish what are we, So it was just like this person in my life and that's about it. So I think when the grey areas becomes very serious right, it's always when you start to communicate a lot more with the person- and like talk one-on-one with the person, I think we didn't reach that point until later on. I think I guess we talked a bit about our stories already right. Do you all think that being in a grey area has its pros and cons, Or do you feel like it's just like? No, like you don't even want to be in this grey area? I think it depends on how much you're willing to tolerate For me right. I think the pros usually last like within the early stages-, so it will last for very short only Before I catch feelings, I'll be like ``, Okay, this seems fun, .'', `` And I'm getting to know you .'', But then once it gets confusing. Usually, that's when I already catch feelings And then, like I realise, like I question, every single thing that he does right I'll, be like ``. Oh my god does this mean that he likes me ?'' ``. Does this mean something ?''? I feel like once you already like the person right. There are a lot more cons than there are pros. I think it changes the feeling from `` I like you'', to become like- ``, What the heck are we'' like angry. I think- Okay la it's, a very clear pros and cons in that sense la, But I think what our audience would like to know right is like how to handle these kinds of situations. So we posted up a Q & A on our Zula Instagram la For people who you know are not sure about certain things when they are in the grey area. So I'm gon na pull it out now and then see whether you can answer these questions. Oh okay, this person say- they fuck on the first date, Wah Good job Because he's supposed to be FWB, ( Friends With Benefits ) because he's supposed to be FWB, that's what she said, But then catch feelings and dating Then she say-. This wasn't meant to be a commitment thing, but I want to give it a shot anyway. So the question is how I feel like hor 80 %. Don'T try Why, When you are FWB with someone you don't care whether the person got red flag or whether she got do this got. Do that or whether you like this or like that You don't care one, what correct Confirm got chance also, but high chance. Is it won't end? Well, one, You know, Okay, I think know yourself. First, la Like know what kind of person you are because like for me right, I think if let's say I have feelings for the person, I wouldn't do all those things, because it will confuse me and my decisions Exactly So. This might be confusing your decision. I would say you can give it a period of X number of months right At the end of X number of months. You see whether your feelings for the person is real feelings for the person or you just like infatuated. That kind of thing So by the deadline. If I feel that I, like the person even more, that kind of thing, then I'll make it clear. If not right, then it will just make you very upset in the long run, Hanging out and being all touchy with each other-, and yet he hangs out with many other girls-. Despite knowing my feelings for him Before you drop right, maybe you ask first No, but he knows about the feelings. What But, okay, how explicit were you with your feelings? Did you say like ``, I want you to be my boyfriend ?''. I think it's more of like clearing it with him Like ``. Oh who are they ?''? That kind of thing Like ask it very casually, instead of like guessing that it's like-, Don't assume Yeah, don't assume Someone said ``. I feel like it's just an excuse for the other party to not commit or be responsible for their actions .''. I dont necessarily think that it's an excuse, eh, I don't think so also Because I feel sometimes it takes time for people to get to know the other party right- and in dating it never jumps straight into like ``, Okay, we're dating .''. You know what I mean As a girl. You guys also paiseh, to ask right, I mean I'm pretty sure out. There got a lot of guys, also paiseh, to ask Of course, So this one, you must really see how one Like, okay, you can think to yourself la. Do you want this to progress further? If you want it to progress further, then just take the freaking shot and ask The worst thing he's going to say is ``. I don't really feel the same way. .'' Then move on la, because the thing is that if you don't ask- and you just like Qing decide to like `` - Oh, I think it's not going anywhere So like yeah .'', Then the person may just assume that like ``. Oh, I guess it's not going anywhere so I'll just say no also .''. I agree. I think a lot of people think that it's on the guys to say something- but actually like in this day and age. I don't think girls should wait for the guys. Also. So, like girls can also say, If it will make your mind more clearer, right- and like not so confused right, then like just do it la You changed a lot. You know, I think so. Also You changed a lot Eh. Thank you, leh, No serious, because it's like not based on what they want. Also It's based on what you want. Also what Okay, I feel like right, grey areas right inevitably will happen with any relationships at the start. Okay, But it's not for you to see. Who cares less It's for you to see whether you all are compatible So in a sense? Why you're questioning yourself about ``, Should I care more ?'' ``? Should I text this person ?'' ``? What if the person never reply me should I continue texting ?''. That kind of thing right, It's an indicator of the interest of the other party, actually Because it's very normal for people to play hard to get It's fun like I get it trust me, I get it To me. You cannot fault the other person for playing because that's their own choice. You can only trust yourself to do the best response to their actions. I hope we covered everyone's concerns in the comments below. Hopefully, our video has directed you in some sense Yeah, And if you liked this video leave in the comments down below what you liked about it- and tell us what to talk about next time And don't forget to like share and subscribe Bye. Why you never say bye, Bye, \""
      ]
     },
     "execution_count": 139,
     "metadata": {},
     "output_type": "execute_result"
    }
   ],
   "source": [
    "transcript('rb_adz0tkOw')"
   ]
  },
  {
   "cell_type": "code",
   "execution_count": 122,
   "metadata": {
    "scrolled": true
   },
   "outputs": [
    {
     "data": {
      "text/plain": [
       "\"On one of the days um, we were supposed to have a date .... He came to my house like downstairs. Then I no time to draw eyebrows no time to draw anything right. Then we [ sat ] at the lamp post. There [, I made ] sure to choose the dimmest lamppost Hi. I ’ m Julian Hi. I ’ m Amanda Hi. I ’ m John Hi. I ’ m Leah and this is Zula ChickChats Hi guys welcome to today. ’ s, episode of Zula ChickChats And today we ’ re gon na be talking about- the honeymoon phase in relationships. We have 3 people over here to share uh- their honeymoon phases in their relationships. So…. The first Can you: why Can you explain what the honeymoon phase is I ...? What do you mean You don, ’ t know I ’ m married. I forgot about it. It ’ s been a long time ago. Okay, so the honeymoon phase, I guess, would be the period before your relationship starts getting serious, All the butterflies, all the romantic gestures, Oh ..., For the first question: maybe we ’ ll, let the audience know for you guys. How long have you been in your relationships? Almost 6 years You know almost 6 years. Mine is uh. 3 years plus Mine is 7 months. Ooo! Okay, Mine is about 2 years, So the honeymoon phase for y. ’ all was it very like? Was it a very long period for you guys, or I would say a few months, like maybe 2 to 3 months? Strangely enough, I did ask my boyfriend this question recently. Then he said that he still feels like [. We ’ re in the ] honeymoon phase. Now, But for me when I see him now it ’ s like a calm and like “, Oh, I know this person very well And I can be safe with this person. ” Not that it went downhill after that lah. But you know the whole. It stagnated Ya the whole like “ ehh, ” thing was about 2 to 3 months. I would say that it ’ s similar to mine. Personally right, I feel, like I ’ m, a very chill person So like the “ ehh, ” phase. Didn, ’ t! Last! Very long also, I know he was in his honeymoon phase when we were in Mongolia. Oh really, I remember Cause What happened in Mongolia because we didn ’ t we didn. ’ t have reception right when we were in Mongolia, But when, when we came back to the like, the lodging place right ..., He was like. I was like giggly and everything. Oh, my god ... And then I like, send video message all and I ’ m, like “ Hehehe., ” I mean that ’ s, that ’ s. Basically, the like the more intense you know like every moment is like… Ya. Must text Is like excitement, Butterflies? Is it coming back to you, Julian Yea, ...? Okay, what Share It? ’ s the entire first year, Because when we started dating she didn, ’ t she put me on hold for like 3 months, Damn MJ The 3 months were kind of like the test. You know Like the first month, I ’ ll, go to her office and I ’ ll, be like “ Uh, hey MJ, um .... Do you want me to drive you home, ” It? ’! S like this is point A point B. This is my house. This is her office [ And it ’ s ] like this, But you ’ re like “, Ya, ya, ya, It ’ s on the way. ”, But I still insisted For my relationship. The the honeymoon period right is like before we got together. We were already friends, then we already dated before, But then cause he like flew overseas and stuff. So we didn, ’ t continue. So when he came back then we started dating again. I think I remember that period. Why why you were like excited and very happy to meet him Got that energy. I think I also saw Leah once also [ at ] Boon, Keng MRT. Then I ’ m, like “ Eh Leah, who ’ s, that Your boyfriend? Ah ”. Then she ’ s. Like What the fuck, where got act like that sia, Which is totally not her right, Can you imagine me doing that It? ’ s so different? I never do that. Okay, It's so different! The story is that I bought him tickets to go, see Odesza. I ask him cause, I know his favourite DJ, So I asked him “ Eh, My friends got lobang for these tickets. Do you want to go ” I didn? ’ t say anything after that: [ and ]. He was like “. Oh, Can you buy the tickets? ” Then I just like `` Huh. Why you want me to buy the tickets ?''? Then he was like `` Huh, Not going with you meh ?'', Then I like, then I just Yea, but that ’ s about it. My next question is that when was the point, you realised you know your honeymoon phase like a bit ending already right…, Then what are some things that you did, then you realised “, Oh shit Like should I be doing this ” Then you like question yourself a Bit When she finally farted in front of me, Oh yea, Like shit like that, I was waiting man. She only farted like 3 years 3 years worth of fart Into the relationship. Oh, That means she like she control Wah, That ’ s how you know when the honeymoon phase is over. I think also, like the I think, for girls, it ’ s like you know you put on your appearance when you meet them Or meet someone new right, Then, at home you are a bit different, So it ’ s like [ when ] they stay over. The first time you ’ re, like fucking, stressed Cause you ’ re like “, Oh my god later I take out my makeup. They ’ re. Gon na think I ’ m fucking cui (, not so presentable. ). I need to wear my specs eh. Then I need to wear my sleeping T-shirt and all Like, oh my gosh GG. ”. So the thing is right: you just don, ’ t address it. Yea You just remove right. Then you just pretend nothing happened. Then you go out and just continue talking like nothing happened. If they want to say something about it, then they will say Yea. If I remember correctly, Justin saw me without makeup. Even before we were officially together On one of the days um, we were supposed to have a date He came to my house downstairs. Then I no time to draw eyebrows no time to draw anything right. So I just go down “ Huh shen me shi (. What happened )? What happened? ?'', Then we [ sat ] at the lamp post. There [ I made ] sure to choose the dimmest. Lamppost cannot see properly Then [. He said ] “! Oh You! ’ re! Very beautiful, today.! ”! Thank you. So, for the guys, what ’ s your…, If y ’ all had to meet somebody from her side, what ’ s the most that y? ’ all would do. For the first time I met her parents. I I definitely dressed up a bit like more presentable, Something like what I would wear to work, but not the not the James Rainier. ’ s! Spectrum! You wore this to work. Ah so so it ’ s like me like that, and then there ’ s. James Rainer And then there ’ s another spectrum, which is the jeans and normal shirt that y ’ all, never see. Ah it ’ s towards that direction. Okay, ...! I think the also like you say the first time meeting parents and everything right For me is like the first time I meet like the friends right…. Then I fucking stressed eh Yea, Like oh, my gosh. What are his friends going to think of me? Huh? Really? Ah And then they ’ re going to say, like I, ’ m, not good enough for him all this kind of thing. What if they think I damn cui looking What if they say, “ Uh Wah last time your girlfriend prettier. ” Ya Ours. Is we? ’ re just going out Ya Ya, some more. Like I ’ m meeting my childhood friend Yea cool man. Are we drinking Another thing aside from meeting all these, like friends and everything right, which I think is a very significant part of the honeymoon phase? There is the um…: What ’ s that called Like the quirks come out in the relationship? Okay, so like for me right, she likes it when I exercise She wants me to exercise If let's say that there are weeks that I never exercise right Last time she will just like “. So when [ are ] you exercising ?'', You know that kind. Then I ’ ll be just like “ Orh, okay, I ’ ll, try to do this. ”. Then she ’ ll, just “ Okay.. ” Now is the like. “, You everytime say only lorh. You say only You say, but you never do. ” In the end. Right, it becomes a lot of Basically. The crux of the argument is the like: I promise you Yea…, you say something and then you never deliver. So what are some quirks [ that ], like appeared after the honeymoon? I think it? ’ s more of my peeve because, like during the honeymoon period, you tend to be a bit more huggy huggy that kind of thing. But after the honeymoon period I feel a bit like “ Mmm. Don, ’ t need to hug so much lah. Don! ’ t touch me .'', But his his love language is physical touch, Yea, so ..., Not that I hate hugging, But on the MRT, sometimes like he will like like bear hug like that a bit, Then I ’ ll, be like “ Aiya, Uhh, ”, Okay, Julian! For you, Mine is um… Our size difference is so much that she hates she hates it. When I horse play Because there ’ s a high chance, she ’ s, either injured or like got bruised Correct. There was one time right. We were watching a movie. She was like leaning on my on my shoulder. Then I laughed like this “ Hahaha !'', So I crushed her face behind my back and then her nose was like this, the entire night. This is like after honeymoon And she was like. Oh she fucking raged already. She straight away: [ take ] the knife “. Can you be more careful next time? ?'' Can not let go one, these kind of thing. It's true It! ’ s like you know my boyfriend also like he will last time it ’ s like he annoy me. Then he will like ... Cause. I got say before, like “. If you act cute, then it ’ s my weakness. ”, But now it ’ s like he will. He will just say like “. Oh sorry, Hehehe… ” that kind. Then I like “, Sorry mean anything meh You. Never even you ’ re not going to change. ” Immunity. Then he like “, Oh fuck, ” Then he just lets the day passed. Okay, so umm… We asked on our Zula. ’ s! Ig! If people have any questions about like relationship [ during ], the honeymoon phase, So I ’ m going to read it now and maybe y ’ all can give some advice. Oh, Should I feel guilty for asking my partner to take more initiative in the relationship In order for a relationship to work right. There must be communication and compromise, So you want like “ Why you never give me roses anymore, ” Say it. Don! ’ t expect the person to read your mind, Always make sure you over-deliver in the relationship, Although I know that there ’ s a phase where you feel like “ Aiya bochup Anyway, this person will stick around and things like that. ”. Someone asked What, if my partner doesn't like how I look after-, I reveal my face and true colours, Okay. Firstly, this one is Breakup. This one is Wait. Breakup Breakup Wait. So this question is, like I mean superficial the partner don ’ t like after remove. Ah, ... Or ... Haven: ’ t remove yet scared to remove. No it ’ s like what if They scared Oh…, They scared what, if Cause, if remove already, and they don ’ t like right. The answer Amanda provide already. So if you ’ re questioning it now, maybe give it a bit more time Because yea But like at the same time right this episode right. We have provided the model answer on how to react For girls right when y, ’ all remove your makeup. They already say already: don, ’ t acknowledge Just appear: Yea, don't acknowledge, Appear like the goddess. You are and then just like “, What ’ s different, ” And then, as you can see, Instant from this conversation, also right, the guys we don ’ t know anything. One Yea guys are not as observant or like as critical as you think about your appearance. Someone has [. Also ] asked this question, which I think a lot of people face. My parents hate my boyfriend, but his parents are so accepting of me. What should I do Wah? I think this is something that a lot of people face Yea. Actually it ’ s, something ... Ya, it! ’ s very, very common. I face it on a daily basis, Not really not very accepting lah, because I think I ’ m. Not… Not traditional Because of your gongjiao ( tattoo ) lah. I think the most important thing still is your partner. Yes, If your partner really likes, you then like…, Because I think if your partner is on the fence, then all the more your opposite side will be. It becomes difficult, very insecure. You must reassure If your parents - don ’ t really like right, then you must reassure your partner that you are all for this relationship lah. Maybe another active step that you can do as the not facing conflict partner is to be the one that keeps nurturing this relationship between your partner and your parents Yea .... So I think, with that said, is like we have come to the end of the episode, But it ’ s just one last question, which is the advice to couples on having a healthy relationship even after the honeymoon period Like how do you still maintain that strong Relationship The honeymoon period should never end. Actually, it should be like popping up here and there once in a while And of course, communication is key. Umm, do not sleep without fixing an issue That will develop a bad habit of keeping problems and making them bigger than it should be, Or you sleep one day, lah at least the next morning. Ah, okay Maximum one day, But you got to solve it within the next day. Lah confirm Yea, don, ’ t, let it um ... Fester Linger for too long Yea. As what Julian said, you need to have a lot of patience. Uh. You need to have a lot of commitment When you don, ’ t have the butterflies there and when everything becomes too comfortable right .... That is when the true test of the relationship starts. Personally, I just feel that, like you just need a lot of honesty with each other, You don, ’ t want to expect your partner to understand and read your mind all the time It never ever hurts to be. To be honest about your needs, I think also it ’ s, just small things like, for example, you go out. Then you see like “ Wah, the sunset very nice.. ”. Then you just text them like “, Eh, sunset, very nice. You want, we can go, watch sunset, together. ”, So it ’ s like small things like that. The other party will like really appreciate it. I feel If they, if someone said that I ’ m, like “. Oh my god, okay lets go now. ”. So today we talked about the honeymoon phase in relationships, and we kind of concluded that you know just just have to be comfortable in front of your partner That ’ s the most important thing. So thank you. Bifesta for making this video possible And Bifesta has just launched their new sebum micellar wipes For ladies, that are looking for a convenient and refreshing makeup. Remover. If you want to find out more about the product click, the link in our description And you're also be able to try out a sample there, And let us know also in the comments what else you want us to talk about in future episodes of ChickChats And Don, ’ t forget to ... Like share and subscribe Bye. \""
      ]
     },
     "execution_count": 122,
     "metadata": {},
     "output_type": "execute_result"
    }
   ],
   "source": [
    "transcript('5L31Wbrg7tE')"
   ]
  },
  {
   "cell_type": "code",
   "execution_count": 140,
   "metadata": {},
   "outputs": [
    {
     "data": {
      "text/plain": [
       "\"This is John and Jill. They are about to get married and start a family, but first they have to plan for their future and it's not buying the perfect home. Both John and Jill are working polygraph and the earn a combined monthly salary of $ 4,000. Ideally, they would like to live near their parents in the ground, so many options is easy to get confused now. Do you know what options you have, how welcome number option? 1, a 3-bedroom easy in some balance, a 3-bedroom easy and the balance will cost you about. Seven hundred ninety thousand dollars there's a monthly household income of four thousand dollars. You will be able to take a bank loan of up to two hundred and twenty thousand dollars. Next, let's start by it, you can receive a CPF housing grant releases of up to $ 30,000. This review is four hundred ninety thousand dollars, which has to be paid up front and and resupply suspend for thirty. Nine thousand five hundred dollars has to be paid cash, while the rest can be covered by CPM. I can see there your concern with the figures and EC may not be the most financially sound option. Don'T worry? Here's another option option to a foreign refill in Samoa. The price of a forum, resale flat in Subang, is about three hundred sixty thousand dollars, but lucky you. The government has just announced that the CCS housing grants will be raised from $ 30,000 to $ 50,000 for couples to purchase for room, flash or smaller from the retail market and in forty thousand dollars for those who fight black. There are five groups or figures. This means, as first-time buyers, buying a forum initial plan in a non mature estate. You will receive up to fifty five thousand dollars in grants because you are buying a hope to list on unity apparent. You will receive an additional $ 20,000 in proximity. Housing run these make up a total up to eighty five thousand dollars in grant. So you're left with a sum of $ 275,000 after the initial ten percent of $ 36,000 that you can change using TANF. You can pick up an HPV load for the balance of around two hundred and thirty-nine thousand dollars to financial. Oh, you will need to make monthly installments of about one thousand and ninety dollars on which about nine hundred and twenty dollars can be paid. Yes, this means you need to fork out a total of a hundred and seventy dollars in cash monthly and better. Yet resale flats are available in many locations around Singapore and you can move into your home immediately that it's not too bad right, but I have an even more affordable option if you are able to plan ahead and wait a little longer, a forum GTO flat in Shambhala, the cost of the BPO is two hundred seventy thousand dollars, but because you are a first-time buyer and the bow is in a non mature estate, you'll receive $ 55,000 in grunts. The down payment for the home is twenty-seven thousand dollars, which is fully deductible from the CPF after housing grants for $ 55,000, there will be a balance, purchase price off $ 188,000 city finance to housing, learn from PCB. This will mean a monthly installment of $ 850, but fret not. This is also fully payable through your PBS. This means that you be without zeros on half or your home. Now this sounds more manageable right. So have you made your decision? Yet home is a big ticket purchase and you have to consider all your cash. We ask yourself if you need to move in illegally or are you evil plan ahead? See me in the private property of Irish Life in a location from the city center? Why not choose a small flat that houses the family come up with? Why not stay in non-maturity, because as well connected and equipped with amenities that you will need for some clever planning, you can get a great home and the flexibility using extra savings in any way. You like thank you for watching head over to APD jobs or SD for more details. \""
      ]
     },
     "execution_count": 140,
     "metadata": {},
     "output_type": "execute_result"
    }
   ],
   "source": [
    "transcript('cYtSEj1v0ew')"
   ]
  },
  {
   "cell_type": "code",
   "execution_count": 145,
   "metadata": {},
   "outputs": [
    {
     "data": {
      "text/plain": [
       "\"My name is I've been working for about two years. My name is Rob. I'Ve been working for about two years, six years, plus I think five years plus I'm very sure, let's see God my location off just nice kata-kata and they realize okay might as well. We just did I just graduated. Yes, I think two years ago yeah - and I guess it just seemed like a natural information from that February. For the column, one poet a key numbers, a thousand by hello, I'm Hansel - I just graduated from in yet last year, and now I'm doing an internship of jewelry come and your student, your tree, we have been together what six? Yes, I think with us always day. Video, what does the you need to be married before you can apply for the blueblack all controller? I mean you're gon na collect the key. Oh boss, you don't need to be married, like yeah, you can apply first, then you get true or false. It is possible to play pain, zero cash yeah. You can actually go share without paying any cash. It wasn't actually, when we first up like right like she just after working and I was do study, so the total income was like very good because we had 30,000. You can, and by the time we to make the down payment both head, like some cpsf, so you have to pay any cash for the down payment, like all the loans. That is true. I don't know there are two types of crimes for bigger place in SGA. Skgg, what these acronyms represent Loa is additional special appearance. Alexey Rachel just applied for foreign teeth locally in woodland anonymity arrested. They earn a combined money income of $ 4,000. How much grants will they be usable for married seem to be very alert? Is another side? Are you using HPV evil? Yes, yes, after visible eh, geez, fifteen thousand forty thousand, then, if you had urgent housing me what options, I think you just buy the XFL condo. If I got a money, you very much Quinn find out more when you want to do your video, because, like I've heard that we do research, but you know there was there things that we also, then she really wanted mr. Clement yeah. Are we supposed to? You? Have to pay for a house right, you don't have to that's greatly find out what grunts you're eligible its recoil of my usual video, yeah yeah. Everybody alike, applied your parents better chance of getting it. [, Music, ], \""
      ]
     },
     "execution_count": 145,
     "metadata": {},
     "output_type": "execute_result"
    }
   ],
   "source": [
    "transcript('mPHGGxZwICI')"
   ]
  },
  {
   "cell_type": "code",
   "execution_count": null,
   "metadata": {},
   "outputs": [],
   "source": []
  }
 ],
 "metadata": {
  "kernelspec": {
   "display_name": "Python 3",
   "language": "python",
   "name": "python3"
  },
  "language_info": {
   "codemirror_mode": {
    "name": "ipython",
    "version": 3
   },
   "file_extension": ".py",
   "mimetype": "text/x-python",
   "name": "python",
   "nbconvert_exporter": "python",
   "pygments_lexer": "ipython3",
   "version": "3.8.2"
  }
 },
 "nbformat": 4,
 "nbformat_minor": 4
}
