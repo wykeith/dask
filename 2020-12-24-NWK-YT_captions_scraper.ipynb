{
 "cells": [
  {
   "cell_type": "markdown",
   "metadata": {},
   "source": [
    "# youtube-dl here"
   ]
  },
  {
   "cell_type": "code",
   "execution_count": 1,
   "metadata": {
    "scrolled": true
   },
   "outputs": [],
   "source": [
    "!pip -q install lxml youtube-dl\n",
    "#!wget -c https://youtube-dl.org/downloads/latest/youtube-dl-2020.12.26.tar.gz -O - | tar -xz"
   ]
  },
  {
   "cell_type": "code",
   "execution_count": null,
   "metadata": {},
   "outputs": [],
   "source": [
    "# For google colab notebooks\n",
    "from google.colab import drive\n",
    "drive.mount('/content/drive')"
   ]
  },
  {
   "cell_type": "code",
   "execution_count": 13,
   "metadata": {},
   "outputs": [
    {
     "name": "stdout",
     "output_type": "stream",
     "text": [
      "[youtube:tab] PLv-hwRQ7MOquDiJCO3iZsrTS4_QiGQ6gz: Downloading webpage\n",
      "[download] Downloading playlist: Classic Fairy Tales\n",
      "[youtube:tab] playlist Classic Fairy Tales: Downloading 15 videos\n",
      "[download] Downloading video 1 of 15\n",
      "[youtube] BXDsucz23OA: Downloading webpage\n",
      "[download] Downloading video 2 of 15\n",
      "[youtube] YoQyyB5xvLk: Downloading webpage\n",
      "[download] Downloading video 3 of 15\n",
      "[youtube] 3QzT1sq6kCY: Downloading webpage\n",
      "[download] Downloading video 4 of 15\n",
      "[youtube] Xd97k149tvo: Downloading webpage\n",
      "[download] Downloading video 5 of 15\n",
      "[youtube] qOJ_A5tgBKM: Downloading webpage\n",
      "[download] Downloading video 6 of 15\n",
      "[youtube] gzZbtMFP-_I: Downloading webpage\n",
      "[download] Downloading video 7 of 15\n",
      "[youtube] LDMWJCrDVMI: Downloading webpage\n",
      "[download] Downloading video 8 of 15\n",
      "[youtube] X4o5_8cEAHs: Downloading webpage\n",
      "[download] Downloading video 9 of 15\n",
      "[youtube] -QdRcUeKFuQ: Downloading webpage\n",
      "[download] Downloading video 10 of 15\n",
      "[youtube] -QdRcUeKFuQ: Downloading webpage\n",
      "[download] Downloading video 11 of 15\n",
      "[youtube] -QdRcUeKFuQ: Downloading webpage\n",
      "[download] Downloading video 12 of 15\n",
      "[youtube] -QdRcUeKFuQ: Downloading webpage\n",
      "[download] Downloading video 13 of 15\n",
      "[youtube] -QdRcUeKFuQ: Downloading webpage\n",
      "[download] Downloading video 14 of 15\n",
      "[youtube] -QdRcUeKFuQ: Downloading webpage\n",
      "[download] Downloading video 15 of 15\n",
      "[youtube] -QdRcUeKFuQ: Downloading webpage\n",
      "[download] Finished downloading playlist: Classic Fairy Tales\n"
     ]
    }
   ],
   "source": [
    "import youtube_dl\n",
    "\n",
    "ydl = youtube_dl.YoutubeDL({'outtmpl': '%(id)s.%(ext)s'})\n",
    "\n",
    "with ydl:\n",
    "    result = ydl.extract_info(\n",
    "        'https://www.youtube.com/playlist?list=PLv-hwRQ7MOquDiJCO3iZsrTS4_QiGQ6gz',\n",
    "        download=False # We just want to extract the info\n",
    "    )\n",
    "\n",
    "if 'entries' in result:\n",
    "    # Can be a playlist or a list of videos\n",
    "    video = result['entries'][0]\n",
    "else:\n",
    "    # Just a video\n",
    "    video = result"
   ]
  },
  {
   "cell_type": "code",
   "execution_count": 16,
   "metadata": {},
   "outputs": [
    {
     "name": "stdout",
     "output_type": "stream",
     "text": [
      "id\n",
      "uploader\n",
      "uploader_id\n",
      "uploader_url\n",
      "channel_id\n",
      "channel_url\n",
      "upload_date\n",
      "license\n",
      "creator\n",
      "title\n",
      "alt_title\n",
      "thumbnails\n",
      "description\n",
      "categories\n",
      "tags\n",
      "subtitles\n",
      "automatic_captions\n",
      "duration\n",
      "age_limit\n",
      "annotations\n",
      "chapters\n",
      "webpage_url\n",
      "view_count\n",
      "like_count\n",
      "dislike_count\n",
      "average_rating\n",
      "formats\n",
      "is_live\n",
      "start_time\n",
      "end_time\n",
      "series\n",
      "season_number\n",
      "episode_number\n",
      "track\n",
      "artist\n",
      "album\n",
      "release_date\n",
      "release_year\n",
      "extractor\n",
      "webpage_url_basename\n",
      "extractor_key\n",
      "n_entries\n",
      "playlist\n",
      "playlist_id\n",
      "playlist_title\n",
      "playlist_uploader\n",
      "playlist_uploader_id\n",
      "playlist_index\n",
      "thumbnail\n",
      "display_id\n",
      "requested_subtitles\n",
      "requested_formats\n",
      "format\n",
      "format_id\n",
      "width\n",
      "height\n",
      "resolution\n",
      "fps\n",
      "vcodec\n",
      "vbr\n",
      "stretched_ratio\n",
      "acodec\n",
      "abr\n",
      "ext\n"
     ]
    }
   ],
   "source": [
    "## Avaliable keys for template use\n",
    "print('\\n'.join(video.keys()))"
   ]
  },
  {
   "cell_type": "code",
   "execution_count": 7,
   "metadata": {},
   "outputs": [
    {
     "name": "stdout",
     "output_type": "stream",
     "text": [
      "[youtube:tab] PLD15D38DC7AA3B737: Downloading webpage\n",
      "[download] Downloading playlist: Economics 421 - Econometrics - Winter 2011\n",
      "[youtube:tab] playlist Economics 421 - Econometrics - Winter 2011: Downloading 19 videos\n",
      "[download] Downloading video 1 of 19\n",
      "[youtube] WK03XgoVsPM: Downloading webpage\n",
      "[download] Destination: 20110106_Economics 421_521 - Econometrics - Winter 2011 - Lecture 1 (HD).f137.mp4\n",
      "[download] 100% of 676.22MiB in 00:2591MiB/s ETA 00:00known ETA\n",
      "[download] Destination: 20110106_Economics 421_521 - Econometrics - Winter 2011 - Lecture 1 (HD).f140.m4a\n",
      "[download] 100% of 71.23MiB in 00:0497MiB/s ETA 00:0052\n",
      "[ffmpeg] Merging formats into \"20110106_Economics 421_521 - Econometrics - Winter 2011 - Lecture 1 (HD).mp4\"\n",
      "Deleting original file 20110106_Economics 421_521 - Econometrics - Winter 2011 - Lecture 1 (HD).f137.mp4 (pass -k to keep)\n",
      "Deleting original file 20110106_Economics 421_521 - Econometrics - Winter 2011 - Lecture 1 (HD).f140.m4a (pass -k to keep)\n",
      "[download] Downloading video 2 of 19\n",
      "[youtube] sajXLvfolmg: Downloading webpage\n",
      "[download] Destination: 20110107_Economics 421_521 - Econometrics - Winter 2011 - Lecture 2 (HD).f137.mp4\n",
      "[download] 100% of 1.05GiB in 00:4434MiB/s ETA 00:006nown ETA\n",
      "[download] Destination: 20110107_Economics 421_521 - Econometrics - Winter 2011 - Lecture 2 (HD).f140.m4a\n",
      "[download] 100% of 69.72MiB in 00:0328MiB/s ETA 00:0031own ETA\n",
      "[ffmpeg] Merging formats into \"20110107_Economics 421_521 - Econometrics - Winter 2011 - Lecture 2 (HD).mp4\"\n",
      "Deleting original file 20110107_Economics 421_521 - Econometrics - Winter 2011 - Lecture 2 (HD).f137.mp4 (pass -k to keep)\n",
      "Deleting original file 20110107_Economics 421_521 - Econometrics - Winter 2011 - Lecture 2 (HD).f140.m4a (pass -k to keep)\n",
      "[download] Downloading video 3 of 19\n",
      "[youtube] TfuqBxRgRTU: Downloading webpage\n",
      "[download] Destination: 20110112_Economics 421_521 - Econometrics - Winter 2011 - Lecture 3 (HD).f137.mp4\n",
      "[download] 100% of 847.51MiB in 00:3792MiB/s ETA 00:004nown ETA\n",
      "[download] Destination: 20110112_Economics 421_521 - Econometrics - Winter 2011 - Lecture 3 (HD).f140.m4a\n",
      "[download] 100% of 71.97MiB in 00:0455MiB/s ETA 00:006\n",
      "[ffmpeg] Merging formats into \"20110112_Economics 421_521 - Econometrics - Winter 2011 - Lecture 3 (HD).mp4\"\n",
      "Deleting original file 20110112_Economics 421_521 - Econometrics - Winter 2011 - Lecture 3 (HD).f137.mp4 (pass -k to keep)\n",
      "Deleting original file 20110112_Economics 421_521 - Econometrics - Winter 2011 - Lecture 3 (HD).f140.m4a (pass -k to keep)\n",
      "[download] Downloading video 4 of 19\n",
      "[youtube] 6jEy5YSJd8w: Downloading webpage\n",
      "[download] Destination: 20110115_Economics 421_521 - Econometrics - Winter 2011 - Lecture 4 (HD).f137.mp4\n",
      "[download] 100% of 821.07MiB in 00:3274MiB/s ETA 00:003nown ETA\n",
      "[download] Destination: 20110115_Economics 421_521 - Econometrics - Winter 2011 - Lecture 4 (HD).f140.m4a\n",
      "[download] 100% of 71.72MiB in 00:0288MiB/s ETA 00:0003own ETA\n",
      "[ffmpeg] Merging formats into \"20110115_Economics 421_521 - Econometrics - Winter 2011 - Lecture 4 (HD).mp4\"\n",
      "Deleting original file 20110115_Economics 421_521 - Econometrics - Winter 2011 - Lecture 4 (HD).f137.mp4 (pass -k to keep)\n",
      "Deleting original file 20110115_Economics 421_521 - Econometrics - Winter 2011 - Lecture 4 (HD).f140.m4a (pass -k to keep)\n",
      "[download] Downloading video 5 of 19\n",
      "[youtube] UAjybHfYolA: Downloading webpage\n",
      "[download] Destination: 20110119_Economics 421_521 - Econometrics - Winter 2011 - Lecture 5 (HD).f137.mp4\n",
      "[download] 100% of 1.14GiB in 00:4520MiB/s ETA 00:000nown ETA\n",
      "[download] Destination: 20110119_Economics 421_521 - Econometrics - Winter 2011 - Lecture 5 (HD).f140.m4a\n",
      "[download] 100% of 67.76MiB in 00:0219MiB/s ETA 00:0049\n",
      "[ffmpeg] Merging formats into \"20110119_Economics 421_521 - Econometrics - Winter 2011 - Lecture 5 (HD).mp4\"\n",
      "Deleting original file 20110119_Economics 421_521 - Econometrics - Winter 2011 - Lecture 5 (HD).f137.mp4 (pass -k to keep)\n",
      "Deleting original file 20110119_Economics 421_521 - Econometrics - Winter 2011 - Lecture 5 (HD).f140.m4a (pass -k to keep)\n",
      "[download] Downloading video 6 of 19\n",
      "[youtube] P-7zr9YEf-8: Downloading webpage\n",
      "[download] Destination: 20110121_Economics 421_521 - Econometrics - Winter 2011 - Lecture 6 (HD).f137.mp4\n",
      "[download] 100% of 809.61MiB in 00:5129MiB/s ETA 00:001nown ETA\n",
      "[download] Destination: 20110121_Economics 421_521 - Econometrics - Winter 2011 - Lecture 6 (HD).f140.m4a\n",
      "[download] 100% of 69.44MiB in 00:0382MiB/s ETA 00:0010own ETA\n",
      "[ffmpeg] Merging formats into \"20110121_Economics 421_521 - Econometrics - Winter 2011 - Lecture 6 (HD).mp4\"\n",
      "Deleting original file 20110121_Economics 421_521 - Econometrics - Winter 2011 - Lecture 6 (HD).f137.mp4 (pass -k to keep)\n",
      "Deleting original file 20110121_Economics 421_521 - Econometrics - Winter 2011 - Lecture 6 (HD).f140.m4a (pass -k to keep)\n",
      "[download] Downloading video 7 of 19\n",
      "[youtube] 3bipJW_vuBU: Downloading webpage\n",
      "[download] Destination: 20110126_Economics 421_521 - Econometrics - Winter 2011 - Lecture 7 (HD).f137.mp4\n",
      "[download] 100% of 1.10GiB in 02:2386MiB/s ETA 00:006nown ETA\n",
      "[download] Destination: 20110126_Economics 421_521 - Econometrics - Winter 2011 - Lecture 7 (HD).f140.m4a\n",
      "[download] 100% of 65.84MiB in 00:0715MiB/s ETA 00:001nown ETA\n",
      "[ffmpeg] Merging formats into \"20110126_Economics 421_521 - Econometrics - Winter 2011 - Lecture 7 (HD).mp4\"\n",
      "Deleting original file 20110126_Economics 421_521 - Econometrics - Winter 2011 - Lecture 7 (HD).f137.mp4 (pass -k to keep)\n",
      "Deleting original file 20110126_Economics 421_521 - Econometrics - Winter 2011 - Lecture 7 (HD).f140.m4a (pass -k to keep)\n",
      "[download] Downloading video 8 of 19\n",
      "[youtube] b8yslhlIsA0: Downloading webpage\n",
      "[youtube] b8yslhlIsA0: Downloading MPD manifest\n",
      "[dashsegments] Total fragments: 864\n",
      "[download] Destination: 20110128_Economics 421_521 - Econometrics - Winter 2011 - Lecture 8 (HD).f137.mp4\n",
      "[download] 100% of 1.51GiB in 06:32.08MiB/s ETA 00:00014225\n",
      "[dashsegments] Total fragments: 463\n",
      "[download] Destination: 20110128_Economics 421_521 - Econometrics - Winter 2011 - Lecture 8 (HD).f140.m4a\n",
      "[download] 100% of 71.09MiB in 01:28.57MiB/s ETA 00:000953\n",
      "[ffmpeg] Merging formats into \"20110128_Economics 421_521 - Econometrics - Winter 2011 - Lecture 8 (HD).mp4\"\n",
      "Deleting original file 20110128_Economics 421_521 - Econometrics - Winter 2011 - Lecture 8 (HD).f137.mp4 (pass -k to keep)\n",
      "Deleting original file 20110128_Economics 421_521 - Econometrics - Winter 2011 - Lecture 8 (HD).f140.m4a (pass -k to keep)\n",
      "[download] Downloading video 9 of 19\n",
      "[youtube] hm7zi2XdtVU: Downloading webpage\n",
      "[youtube] hm7zi2XdtVU: Downloading MPD manifest\n",
      "[dashsegments] Total fragments: 847\n",
      "[download] Destination: 20110202_Economics 421_521 - Econometrics - Winter 2011 - Lecture 9 (HD).f137.mp4\n",
      "[download] 100% of 1.03GiB in 05:33.27MiB/s ETA 00:000290405\n",
      "[dashsegments] Total fragments: 453\n",
      "[download] Destination: 20110202_Economics 421_521 - Econometrics - Winter 2011 - Lecture 9 (HD).f140.m4a\n",
      "[download] 100% of 69.63MiB in 01:02.83MiB/s ETA 00:000220\n",
      "[ffmpeg] Merging formats into \"20110202_Economics 421_521 - Econometrics - Winter 2011 - Lecture 9 (HD).mp4\"\n",
      "Deleting original file 20110202_Economics 421_521 - Econometrics - Winter 2011 - Lecture 9 (HD).f137.mp4 (pass -k to keep)\n",
      "Deleting original file 20110202_Economics 421_521 - Econometrics - Winter 2011 - Lecture 9 (HD).f140.m4a (pass -k to keep)\n",
      "[download] Downloading video 10 of 19\n",
      "[youtube] hX9dBODrX4Y: Downloading webpage\n",
      "[download] Destination: 20110209_Economics 421_521 - Econometrics - Winter 2011 - Lecture 10 (HD).f137.mp4\n",
      "[download] 100% of 1.39GiB in 02:1983MiB/s ETA 00:004nown ETA\n",
      "[download] Destination: 20110209_Economics 421_521 - Econometrics - Winter 2011 - Lecture 10 (HD).f140.m4a\n",
      "[download] 100% of 70.61MiB in 00:0334MiB/s ETA 00:002\n",
      "[ffmpeg] Merging formats into \"20110209_Economics 421_521 - Econometrics - Winter 2011 - Lecture 10 (HD).mp4\"\n",
      "Deleting original file 20110209_Economics 421_521 - Econometrics - Winter 2011 - Lecture 10 (HD).f137.mp4 (pass -k to keep)\n",
      "Deleting original file 20110209_Economics 421_521 - Econometrics - Winter 2011 - Lecture 10 (HD).f140.m4a (pass -k to keep)\n",
      "[download] Downloading video 11 of 19\n",
      "[youtube] brTmzHE9Gvw: Downloading webpage\n"
     ]
    },
    {
     "name": "stderr",
     "output_type": "stream",
     "text": [
      "WARNING: Requested formats are incompatible for merge and will be merged into mkv.\n"
     ]
    },
    {
     "name": "stdout",
     "output_type": "stream",
     "text": [
      "[download] Destination: 20110211_Economics 421_521 - Econometrics - Winter 2011 - Lecture 11 (HD).f137.mp4\n",
      "[download] 100% of 1.41GiB in 01:4089MiB/s ETA 00:0036own ETA\n",
      "[download] Destination: 20110211_Economics 421_521 - Econometrics - Winter 2011 - Lecture 11 (HD).f251.webm\n",
      "[download] 100% of 66.19MiB in 00:0502MiB/s ETA 00:008\n",
      "[ffmpeg] Merging formats into \"20110211_Economics 421_521 - Econometrics - Winter 2011 - Lecture 11 (HD).mkv\"\n",
      "Deleting original file 20110211_Economics 421_521 - Econometrics - Winter 2011 - Lecture 11 (HD).f137.mp4 (pass -k to keep)\n",
      "Deleting original file 20110211_Economics 421_521 - Econometrics - Winter 2011 - Lecture 11 (HD).f251.webm (pass -k to keep)\n",
      "[download] Downloading video 12 of 19\n",
      "[youtube] Kb4LvSguwjg: Downloading webpage\n"
     ]
    },
    {
     "name": "stderr",
     "output_type": "stream",
     "text": [
      "WARNING: Requested formats are incompatible for merge and will be merged into mkv.\n"
     ]
    },
    {
     "name": "stdout",
     "output_type": "stream",
     "text": [
      "[download] Destination: 20110216_Economics 421_521 - Econometrics - Winter 2011 - Lecture 12 (HD).f137.mp4\n",
      "[download] 100% of 1.18GiB in 02:5978MiB/s ETA 00:005nown ETA\n",
      "[download] Destination: 20110216_Economics 421_521 - Econometrics - Winter 2011 - Lecture 12 (HD).f251.webm\n",
      "[download] 100% of 65.51MiB in 00:0665MiB/s ETA 00:001\n",
      "[ffmpeg] Merging formats into \"20110216_Economics 421_521 - Econometrics - Winter 2011 - Lecture 12 (HD).mkv\"\n",
      "Deleting original file 20110216_Economics 421_521 - Econometrics - Winter 2011 - Lecture 12 (HD).f137.mp4 (pass -k to keep)\n",
      "Deleting original file 20110216_Economics 421_521 - Econometrics - Winter 2011 - Lecture 12 (HD).f251.webm (pass -k to keep)\n",
      "[download] Downloading video 13 of 19\n",
      "[youtube] ZDwSPiBaDco: Downloading webpage\n",
      "[download] Destination: 20110218_Economics 421_521 - Econometrics - Winter 2011 - Lecture 13 (HD).f137.mp4\n",
      "[download] 100% of 1.19GiB in 02:5668MiB/s ETA 00:008:41\n",
      "[download] Destination: 20110218_Economics 421_521 - Econometrics - Winter 2011 - Lecture 13 (HD).f140.m4a\n",
      "[download] 100% of 70.65MiB in 00:1131MiB/s ETA 00:0021\n",
      "[ffmpeg] Merging formats into \"20110218_Economics 421_521 - Econometrics - Winter 2011 - Lecture 13 (HD).mp4\"\n",
      "Deleting original file 20110218_Economics 421_521 - Econometrics - Winter 2011 - Lecture 13 (HD).f137.mp4 (pass -k to keep)\n",
      "Deleting original file 20110218_Economics 421_521 - Econometrics - Winter 2011 - Lecture 13 (HD).f140.m4a (pass -k to keep)\n",
      "[download] Downloading video 14 of 19\n",
      "[youtube] WlOtUA8Rqw8: Downloading webpage\n",
      "[download] Destination: 20110223_Economics 421_521 - Econometrics - Winter 2011 - Lecture 14 (HD).f137.mp4\n",
      "[download] 100% of 1.38GiB in 03:0823MiB/s ETA 00:0041own ETA\n",
      "[download] Destination: 20110223_Economics 421_521 - Econometrics - Winter 2011 - Lecture 14 (HD).f140.m4a\n",
      "[download] 100% of 70.67MiB in 00:0941MiB/s ETA 00:003\n",
      "[ffmpeg] Merging formats into \"20110223_Economics 421_521 - Econometrics - Winter 2011 - Lecture 14 (HD).mp4\"\n",
      "Deleting original file 20110223_Economics 421_521 - Econometrics - Winter 2011 - Lecture 14 (HD).f137.mp4 (pass -k to keep)\n",
      "Deleting original file 20110223_Economics 421_521 - Econometrics - Winter 2011 - Lecture 14 (HD).f140.m4a (pass -k to keep)\n",
      "[download] Downloading video 15 of 19\n",
      "[youtube] D5lt9bhOshc: Downloading webpage\n",
      "[download] Destination: 20110226_Economics 421_521 - Econometrics - Winter 2011 - Lecture 15 (HD).f137.mp4\n",
      "[download] 100% of 1.20GiB in 02:3269MiB/s ETA 00:002325\n",
      "[download] Destination: 20110226_Economics 421_521 - Econometrics - Winter 2011 - Lecture 15 (HD).f140.m4a\n",
      "[download] 100% of 70.06MiB in 00:0548MiB/s ETA 00:001\n",
      "[ffmpeg] Merging formats into \"20110226_Economics 421_521 - Econometrics - Winter 2011 - Lecture 15 (HD).mp4\"\n",
      "Deleting original file 20110226_Economics 421_521 - Econometrics - Winter 2011 - Lecture 15 (HD).f137.mp4 (pass -k to keep)\n",
      "Deleting original file 20110226_Economics 421_521 - Econometrics - Winter 2011 - Lecture 15 (HD).f140.m4a (pass -k to keep)\n",
      "[download] Downloading video 16 of 19\n",
      "[youtube] K8eFiMIb8qo: Downloading webpage\n",
      "[download] Destination: 20110302_Economics 421_521 - Econometrics - Winter 2011 - Lecture 16 (HD).f264.mp4\n",
      "[download] 100% of 2.38GiB in 05:5153MiB/s ETA 00:001nown ETA\n",
      "[download] Destination: 20110302_Economics 421_521 - Econometrics - Winter 2011 - Lecture 16 (HD).f140.m4a\n",
      "[download] 100% of 70.53MiB in 00:0582MiB/s ETA 00:002\n",
      "[ffmpeg] Merging formats into \"20110302_Economics 421_521 - Econometrics - Winter 2011 - Lecture 16 (HD).mp4\"\n",
      "Deleting original file 20110302_Economics 421_521 - Econometrics - Winter 2011 - Lecture 16 (HD).f264.mp4 (pass -k to keep)\n",
      "Deleting original file 20110302_Economics 421_521 - Econometrics - Winter 2011 - Lecture 16 (HD).f140.m4a (pass -k to keep)\n",
      "[download] Downloading video 17 of 19\n",
      "[youtube] JvioZoK1f4o: Downloading webpage\n",
      "[download] Destination: 20110305_Economics 421_521 - Econometrics - Winter 2011 - Lecture 17 (HD).f137.mp4\n",
      "[download] 100% of 1.10GiB in 01:5506MiB/s ETA 00:0016own ETA\n",
      "[download] Destination: 20110305_Economics 421_521 - Econometrics - Winter 2011 - Lecture 17 (HD).f140.m4a\n",
      "[download] 100% of 70.69MiB in 00:0599MiB/s ETA 00:003\n",
      "[ffmpeg] Merging formats into \"20110305_Economics 421_521 - Econometrics - Winter 2011 - Lecture 17 (HD).mp4\"\n",
      "Deleting original file 20110305_Economics 421_521 - Econometrics - Winter 2011 - Lecture 17 (HD).f137.mp4 (pass -k to keep)\n",
      "Deleting original file 20110305_Economics 421_521 - Econometrics - Winter 2011 - Lecture 17 (HD).f140.m4a (pass -k to keep)\n",
      "[download] Downloading video 18 of 19\n",
      "[youtube] r8dthdP1OZU: Downloading webpage\n",
      "[download] Destination: 20110309_Economics 421_521 - Econometrics - Winter 2011 - Lecture 18 (HD).f137.mp4\n",
      "[download] 100% of 1.07GiB in 02:4381MiB/s ETA 00:0017own ETA\n",
      "[download] Destination: 20110309_Economics 421_521 - Econometrics - Winter 2011 - Lecture 18 (HD).f140.m4a\n",
      "[download] 100% of 65.76MiB in 00:0803MiB/s ETA 00:003\n",
      "[ffmpeg] Merging formats into \"20110309_Economics 421_521 - Econometrics - Winter 2011 - Lecture 18 (HD).mp4\"\n",
      "Deleting original file 20110309_Economics 421_521 - Econometrics - Winter 2011 - Lecture 18 (HD).f137.mp4 (pass -k to keep)\n",
      "Deleting original file 20110309_Economics 421_521 - Econometrics - Winter 2011 - Lecture 18 (HD).f140.m4a (pass -k to keep)\n",
      "[download] Downloading video 19 of 19\n",
      "[youtube] Qocnk2vjHII: Downloading webpage\n"
     ]
    },
    {
     "name": "stderr",
     "output_type": "stream",
     "text": [
      "WARNING: Requested formats are incompatible for merge and will be merged into mkv.\n"
     ]
    },
    {
     "name": "stdout",
     "output_type": "stream",
     "text": [
      "[download] Destination: 20110311_Economics 421_521 - Econometrics - Winter 2011 - Lecture 19 (HD).f137.mp4\n",
      "[download] 100% of 1.10GiB in 02:1922MiB/s ETA 00:006nown ETA\n",
      "[download] Destination: 20110311_Economics 421_521 - Econometrics - Winter 2011 - Lecture 19 (HD).f251.webm\n",
      "[download] 100% of 62.04MiB in 00:0579MiB/s ETA 00:006\n",
      "[ffmpeg] Merging formats into \"20110311_Economics 421_521 - Econometrics - Winter 2011 - Lecture 19 (HD).mkv\"\n",
      "Deleting original file 20110311_Economics 421_521 - Econometrics - Winter 2011 - Lecture 19 (HD).f137.mp4 (pass -k to keep)\n",
      "Deleting original file 20110311_Economics 421_521 - Econometrics - Winter 2011 - Lecture 19 (HD).f251.webm (pass -k to keep)\n",
      "[download] Finished downloading playlist: Economics 421 - Econometrics - Winter 2011\n"
     ]
    }
   ],
   "source": [
    "#ydl_opts = {\n",
    "#    'format': 'bestaudio/best',\n",
    "#    'download_archive': 'downloaded_songs.txt',\n",
    "#    'outtmpl': '%(title)s.%(ext)s', #/content/drive/MyDrive/Fast.io/learnportal.imfast.io/uploads/%(uploader)_\n",
    "#    'postprocessors': [{\n",
    "#        'key': 'FFmpegExtractAudio',\n",
    "#        'preferredcodec': 'mp3',\n",
    "#        'preferredquality': '192',\n",
    "#        }]\n",
    "#}\n",
    "\n",
    "ydl_opts = {\n",
    "    'outtmpl': '%(upload_date)s_%(title)s.%(ext)s', #/content/drive/MyDrive/Fast.io/learnportal.imfast.io/uploads/%(uploader)s/\n",
    "    'format': 'best',\n",
    "    'postprocessors': [{\n",
    "        'key': 'FFmpegVideoConvertor',\n",
    "        'preferedformat': 'mp4'\n",
    "        }]    \n",
    "}\n",
    "with youtube_dl.YoutubeDL(ydl_opts) as ydl:\n",
    "    ydl.download(['https://www.youtube.com/playlist?list=PLv-hwRQ7MOquDiJCO3iZsrTS4_QiGQ6gz'])"
   ]
  },
  {
   "cell_type": "code",
   "execution_count": 26,
   "metadata": {},
   "outputs": [
    {
     "name": "stdout",
     "output_type": "stream",
     "text": [
      "[youtube] cSER5tjagqE: Downloading webpage\n",
      "[download] Destination: Goodie Bag 8 - Reactions (Intro to Solid-State Chemistry)-cSER5tjagqE.mp4\n",
      "[download] 100% of 6.58MiB in 00:0085MiB/s ETA 00:007\n"
     ]
    }
   ],
   "source": [
    "# Show avalible formats\n",
    "with youtube_dl.YoutubeDL({'listformats':True,'format':'best[filesize<50M]'}) as ydl:\n",
    "    ydl.download(['https://www.youtube.com/watch?v=cSER5tjagqE'])"
   ]
  },
  {
   "cell_type": "code",
   "execution_count": null,
   "metadata": {},
   "outputs": [],
   "source": []
  },
  {
   "cell_type": "code",
   "execution_count": 15,
   "metadata": {},
   "outputs": [
    {
     "name": "stdout",
     "output_type": "stream",
     "text": [
      "Adding 20140911_罗辑思维  23  击溃牛顿的钟表匠.mkv\n",
      "Adding 20140911_罗辑思维  22  奸臣指南.mkv\n",
      "Adding 20140911_罗辑思维 10  成名的代价.webm\n",
      "Adding 20140911_罗辑思维  58  五问互联网(番外篇).mkv\n",
      "Adding 20140911_罗辑思维  34  躺倒也能当英雄.mkv\n",
      "Adding 20140911_罗辑思维 41  大公司：和蚂蚁一起舞蹈.mkv\n",
      "Adding 20140911_罗辑思维  56 奇葩陪审团.mkv\n",
      "Adding 20140911_罗辑思维  20 为泡妞之成功而读书.mkv\n",
      "Adding 20140911_罗辑思维  26  一个被吃掉的少年.mkv\n",
      "Adding 20140911_罗辑思维  36  大家都有拖延症.mkv\n",
      "Adding 20140911_罗辑思维  18  腐败黑箱必被砸爆.mkv\n",
      "Adding 20140911_罗辑思维  39  被排斥的中国人.mkv\n",
      "Adding 20140911_罗辑思维  31 你的女神你不懂.mp4\n",
      "Adding 20140911_罗辑思维  15  大国不能认死理.mkv\n",
      "Adding 20140911_罗辑思维  43  土地私有,到底有多痛？.mkv\n",
      "Adding 20140911_罗辑思维  16  杀死上帝的达尔文.mkv\n",
      "Adding 20140911_罗辑思维 05  歪理邪说一“罗”筐.webm\n",
      "Adding 20140911_罗辑思维 01 向死而生.webm\n",
      "Adding 20140911_罗辑思维  33 官僚为什么当骗子.mkv\n",
      "Adding 20140911_罗辑思维 07 夹缝中的80后.mkv\n",
      "Adding 20140911_罗辑思维  38 一个公务员的海市蜃楼  Online Thinking Course.webm\n",
      "Adding 20140911_罗辑思维  45  你怎么知道他该死.mkv\n",
      "Adding 20140911_罗辑思维  21 岳飞为什么必须死.mp4\n",
      "Adding 20140911_罗辑思维  37  政客林肯.mkv\n",
      "Adding 20140911_罗辑思维  42  离开达尔文的日子.webm\n",
      "Adding 20140911_罗辑思维 11  权力之下无真相.webm\n",
      "Adding 20140911_罗辑思维  57  中国为什么有前途？.mkv\n",
      "Adding 20140911_罗辑思维  53  反腐到底反什么.mkv\n",
      "Adding 20140911_罗辑思维 06 治不好的地域歧视.mkv\n",
      "Adding 20140911_罗辑思维  50  失控的天朝.webm\n",
      "Adding 20140911_罗辑思维 03  中日贸易：如何爱国.mkv\n",
      "Adding 20140911_罗辑思维 40  法治国什么样.webm\n",
      "Adding 20140911_罗辑思维 09  慈善的善与恶.webm\n",
      "Adding 20140911_罗辑思维  48  未来脑世界.mkv\n",
      "Adding 20140911_罗辑思维  49 一次成功的政治体制改革.mkv\n",
      "Adding 20140911_罗辑思维  46 一次大国崛起背影.webm\n",
      "Adding 20140911_罗辑思维  24  南北战争：这场架不白打.mp4\n",
      "Adding 20140911_罗辑思维  51  怎么当个明白人.mkv\n",
      "Adding 20140911_罗辑思维  19  在一起 有后代.mkv\n",
      "Adding 20140911_罗辑思维  44  中国窄门.webm\n",
      "Adding 20140911_罗辑思维  17  反腐的曙光.webm\n",
      "Adding 20140911_罗辑思维 08  房产税与地沟油.webm\n",
      "Adding 20140911_罗辑思维  52  谁杀死了罗马.mkv\n",
      "Adding 20140911_罗辑思维  30  和你赛跑的不是人.mkv\n",
      "Adding 20140911_罗辑思维  25  这一代人的怕与爱.mp4\n",
      "Adding 20140911_罗辑思维 04 回应网友质疑：罗胖的歪理和歪嘴.mp4\n",
      "Adding 20140911_罗辑思维  55 读书人的新活法.mkv\n",
      "Adding 20140911_罗辑思维  54  阴谋,是可能的吗.mkv\n",
      "Adding 20140911_罗辑思维  32 假如再给光绪一次机会.mkv\n",
      "Adding 20140911_罗辑思维 02 逃离北上广的另类解读.mkv\n",
      "Adding 20140911_罗辑思维  29  慈禧，这个婆娘咋疯的.mkv\n",
      "Adding 20140911_罗辑思维  47  教育难题的意外答案.mkv\n",
      "Adding 20140911_罗辑思维  13  剩女照亮未来.mkv\n",
      "Adding 20140911_罗辑思维  27  说英雄，谁是英雄.mkv\n",
      "Adding 20140911_罗辑思维  14  我和左派谈谈心.mkv\n",
      "Adding 20140911_罗辑思维  12 民意真的可信吗.mkv\n",
      "Adding 20140911_罗辑思维  28  康有为：光绪皇帝的野蛮网友.mkv\n"
     ]
    }
   ],
   "source": [
    "for i,filelist in enumerate(filemultilist):\n",
    "    with zipfile.ZipFile(f'showluo_{i}.zip', 'w') as zipMe:\n",
    "        print('Part',i)\n",
    "        for file in filelist:\n",
    "            print('Adding',file)\n",
    "            zipMe.write(file, compress_type=zipfile.ZIP_STORED) #zipfile.ZIP_DEFLATED"
   ]
  },
  {
   "cell_type": "markdown",
   "metadata": {},
   "source": [
    "folder_password = 'secret'\n",
    "\n",
    "oc = owncloud.Client.from_public_link(public_link, password=folder_password)\n",
    "oc.get_file('/sharedfile.zip', 'download/destination/sharedfile.zip')"
   ]
  },
  {
   "cell_type": "markdown",
   "metadata": {},
   "source": [
    "# Selenium Driver Here"
   ]
  },
  {
   "cell_type": "code",
   "execution_count": 7,
   "metadata": {},
   "outputs": [
    {
     "name": "stdout",
     "output_type": "stream",
     "text": [
      "Archive:  chromedriver_linux64.zip\n",
      "  inflating: ./ungoogled-chromium_67.0.3396.87-1_linux/chromedriver  \n"
     ]
    }
   ],
   "source": [
    "# Version 67\n",
    "# From https://ungoogled-software.github.io/ungoogled-chromium-binaries/releases/linux_portable/64bit/\n",
    "!wget -q https://github.com/Eloston/ungoogled-chromium-binaries/releases/download/67.0.3396.87-2/ungoogled-chromium_67.0.3396.87-2_linux.tar.xz\n",
    "!tar -xf ungoogled-chromium_67.0.3396.87-2_linux.tar.xz\n",
    "\n",
    "# From https://chromedriver.storage.googleapis.com/index.html\n",
    "!wget -q https://chromedriver.storage.googleapis.com/2.41/chromedriver_linux64.zip\n",
    "!unzip -o chromedriver_linux64.zip -d ./ungoogled-chromium_67.0.3396.87-1_linux"
   ]
  },
  {
   "cell_type": "code",
   "execution_count": 8,
   "metadata": {},
   "outputs": [
    {
     "data": {
      "text/plain": [
       "'\\nchrome_options = webdriver.ChromeOptions()\\nchrome_options.add_argument(\\'--headless\\')\\nchrome_options.add_argument(\\'--disable-gpu\\')\\nchrome_options.add_argument(\\'--incognito\\')\\nchrome_options.add_argument(\\'log-level=3\\')\\nchrome_options.add_argument(\"--disable-dev-shm-usage\")\\nchrome_options.add_argument(\"--no-sandbox\")\\nchrome_driver = os.getcwd() +\"/ungoogled-chromium_67.0.3396.87-1_linux/chromedriver\"\\nchrome_options.add_argument(\"--width=2560\")\\nchrome_options.add_argument(\"--height=1440\")\\nbrowser = webdriver.Chrome(options=chrome_options, executable_path=chrome_driver)\\n'"
      ]
     },
     "execution_count": 8,
     "metadata": {},
     "output_type": "execute_result"
    }
   ],
   "source": [
    "import requests\n",
    "from selenium import webdriver\n",
    "from selenium.webdriver.common.by import By\n",
    "from selenium.webdriver.support.ui import WebDriverWait\n",
    "from selenium.webdriver.support import expected_conditions as EC\n",
    "\n",
    "import time\n",
    "import re\n",
    "import os\n",
    "from lxml import etree\n",
    "import pandas as pd\n",
    "import numpy as np\n",
    "\n",
    "'''\n",
    "chrome_options = webdriver.ChromeOptions()\n",
    "chrome_options.add_argument('--headless')\n",
    "chrome_options.add_argument('--disable-gpu')\n",
    "chrome_options.add_argument('--incognito')\n",
    "chrome_options.add_argument('log-level=3')\n",
    "chrome_options.add_argument(\"--disable-dev-shm-usage\")\n",
    "chrome_options.add_argument(\"--no-sandbox\")\n",
    "chrome_driver = os.getcwd() +\"/ungoogled-chromium_67.0.3396.87-1_linux/chromedriver\"\n",
    "chrome_options.add_argument(\"--width=2560\")\n",
    "chrome_options.add_argument(\"--height=1440\")\n",
    "browser = webdriver.Chrome(options=chrome_options, executable_path=chrome_driver)\n",
    "'''"
   ]
  },
  {
   "cell_type": "code",
   "execution_count": 9,
   "metadata": {},
   "outputs": [],
   "source": [
    "class recommendation_panel(object):\n",
    "    \"\"\"An expectation for checking that the search tag has a minimum number in the document.\n",
    "    locator - used to find the element\n",
    "    min_recommendations - Minimum number of tags that should be found\n",
    "    returns the WebElement once it has the minimum of tags\n",
    "    \"\"\"\n",
    "    def __init__(self, locator, min_recommendations):\n",
    "        self.locator = locator\n",
    "        self.minrecmd = min_recommendations\n",
    "\n",
    "    def __call__(self, driver):\n",
    "        elements = driver.find_elements(*self.locator)   # Finding the referenced element\n",
    "        if len(elements) >= self.minrecmd:\n",
    "            return elements\n",
    "        else:\n",
    "            return False\n",
    "\n",
    "class youtube(object):\n",
    "    # init variables\n",
    "    driver = None\n",
    "    source = None\n",
    "    element = None\n",
    "    minrecmd = None\n",
    "    vid = None\n",
    "    meta = None\n",
    "    \n",
    "    def __init__(self,min_recommendations = 5):\n",
    "        chrome_options = webdriver.ChromeOptions()\n",
    "        chrome_options.add_argument('--headless')\n",
    "        chrome_options.add_argument('--disable-gpu')\n",
    "        chrome_options.add_argument('--incognito')\n",
    "        chrome_options.add_argument('log-level=3')\n",
    "        chrome_options.add_argument(\"--disable-dev-shm-usage\")\n",
    "        chrome_options.add_argument(\"--no-sandbox\")\n",
    "        chrome_driver = os.getcwd() +\"/ungoogled-chromium_67.0.3396.87-1_linux/chromedriver\"\n",
    "        self.driver = webdriver.Chrome(options=chrome_options, executable_path=chrome_driver)\n",
    "        self.minrecmd = min_recommendations\n",
    "        \n",
    "    def fetch(self, vid):\n",
    "        # Ask browser to go to url\n",
    "        #self.driver.execute_script(\"window.open('');\")\n",
    "        #self.driver.switch_to.window(self.driver.window_handles[1])\n",
    "        self.vid = vid\n",
    "        self.driver.set_window_position(0, 0)\n",
    "        self.driver.set_window_size(1968, 1000)\n",
    "        self.driver.get(f'https://www.youtube.com/watch?v={vid}')\n",
    "        #self.driver.switch_to.window(driver.window_handles[1])\n",
    "        # Wait until we have the recommendation panel\n",
    "        self.element = WebDriverWait(self.driver, 10).until(\n",
    "            recommendation_panel((By.CSS_SELECTOR, 'span#video-title'),self.minrecmd))\n",
    "        self.source = self.driver.page_source\n",
    "        meta = {}\n",
    "        meta.update({y:x for x,y in zip([x.get_attribute('content') for x in self.driver.find_elements(By.CSS_SELECTOR,\"meta\") if x.get_attribute('name') in ['title','description','keywords']],[x.get_attribute('name') for x in self.driver.find_elements(By.CSS_SELECTOR,\"meta\") if x.get_attribute('name') in ['title','description','keywords']])})\n",
    "        meta.update({y:x for x,y in zip([x.get_attribute('content') for x in self.driver.find_elements(By.CSS_SELECTOR,\"meta\") if x.get_attribute('itemprop') in ['duration','interactionCount','datePublished','genre']],[x.get_attribute('itemprop') for x in self.driver.find_elements(By.CSS_SELECTOR,\"meta\") if x.get_attribute('itemprop') in ['duration','interactionCount','datePublished','genre']])})\n",
    "        meta.update({'thumbnail': x for x in [x.get_attribute('content') for x in self.driver.find_elements(By.CSS_SELECTOR,\"meta\") if x.get_attribute('property') in ['og:image']]})\n",
    "        # {'property': 'og:image', 'content': 'https://i.ytimg.com/vi/5L31Wbrg7tE/maxresdefault.jpg'},})\n",
    "        self.meta = meta\n",
    "        \n",
    "        #self.getscreenshot()\n",
    "        #self.driver.close()\n",
    "        #self.driver.switch_to.window(self.driver.window_handles[0])\n",
    "        return self.element is not None\n",
    "    \n",
    "    def getsource(self):\n",
    "        if self.source:\n",
    "            return self.source\n",
    "        else:\n",
    "            return 'Empty buffer'#self.driver.page_source\n",
    "    \n",
    "    def getscreenshot(self):\n",
    "        self.driver.save_screenshot('screenshot.png')\n",
    "        return 'Done'\n",
    "  \n",
    "    def getrecommend(self):\n",
    "        html = etree.HTML(self.source)\n",
    "        vid = [str.split(x.attrib['href'],'=')[1] for x in html.findall(\".//a[@id='thumbnail']\") if ('href' in x.attrib.keys())]\n",
    "        title = [x.attrib['title'] for x in html.findall(\".//span[@id='video-title']\")]\n",
    "        channel = [x.text for x in html.findall(\".//div[@id='metadata']/div/ytd-channel-name/div/div/yt-formatted-string\")]\n",
    "        views = [x.getchildren()[0].text.replace(' views','') if (len(x.getchildren()) > 1) else x.getchildren()[0].text for x in html.findall(\".//div[@id='metadata-line']\")]\n",
    "        created = [x.getchildren()[1].text if (len(x.getchildren()) > 1) else 0 for x in html.findall(\".//div[@id='metadata-line']\")]\n",
    "        result = pd.DataFrame(zip(vid,title,channel,views,created),columns=['ID','TITLE','CHANNEL','VIEWS','CREATED'])\n",
    "        return result\n",
    "    \n",
    "    def transcript(self,vid=''):\n",
    "        if vid == '':\n",
    "            vid = self.vid\n",
    "        resp = requests.get(f'https://hierogly.ph/api/transcribe?v={vid}',headers={'User-Agent':'Mozilla/5.0'})\n",
    "        result = re.sub(r'\\[[a-zA-Z0-9,.:\\s]*\\]','',resp.json()['text'])\n",
    "        return result\n"
   ]
  },
  {
   "cell_type": "code",
   "execution_count": 13,
   "metadata": {},
   "outputs": [],
   "source": [
    "yt = youtube(20)"
   ]
  },
  {
   "cell_type": "code",
   "execution_count": 14,
   "metadata": {},
   "outputs": [
    {
     "ename": "TimeoutException",
     "evalue": "Message: \n",
     "output_type": "error",
     "traceback": [
      "\u001b[0;31m---------------------------------------------------------------------------\u001b[0m",
      "\u001b[0;31mTimeoutException\u001b[0m                          Traceback (most recent call last)",
      "\u001b[0;32m<ipython-input-14-063207f13729>\u001b[0m in \u001b[0;36m<module>\u001b[0;34m\u001b[0m\n\u001b[0;32m----> 1\u001b[0;31m \u001b[0myt\u001b[0m\u001b[0;34m.\u001b[0m\u001b[0mfetch\u001b[0m\u001b[0;34m(\u001b[0m\u001b[0;34m'r6UDVAWtihA'\u001b[0m\u001b[0;34m)\u001b[0m\u001b[0;34m\u001b[0m\u001b[0;34m\u001b[0m\u001b[0m\n\u001b[0m",
      "\u001b[0;32m<ipython-input-9-a145be102d5f>\u001b[0m in \u001b[0;36mfetch\u001b[0;34m(self, vid)\u001b[0m\n\u001b[1;32m     47\u001b[0m         \u001b[0;31m#self.driver.switch_to.window(driver.window_handles[1])\u001b[0m\u001b[0;34m\u001b[0m\u001b[0;34m\u001b[0m\u001b[0;34m\u001b[0m\u001b[0m\n\u001b[1;32m     48\u001b[0m         \u001b[0;31m# Wait until we have the recommendation panel\u001b[0m\u001b[0;34m\u001b[0m\u001b[0;34m\u001b[0m\u001b[0;34m\u001b[0m\u001b[0m\n\u001b[0;32m---> 49\u001b[0;31m         self.element = WebDriverWait(self.driver, 10).until(\n\u001b[0m\u001b[1;32m     50\u001b[0m             recommendation_panel((By.CSS_SELECTOR, 'span#video-title'),self.minrecmd))\n\u001b[1;32m     51\u001b[0m         \u001b[0mself\u001b[0m\u001b[0;34m.\u001b[0m\u001b[0msource\u001b[0m \u001b[0;34m=\u001b[0m \u001b[0mself\u001b[0m\u001b[0;34m.\u001b[0m\u001b[0mdriver\u001b[0m\u001b[0;34m.\u001b[0m\u001b[0mpage_source\u001b[0m\u001b[0;34m\u001b[0m\u001b[0;34m\u001b[0m\u001b[0m\n",
      "\u001b[0;32m/srv/conda/envs/notebook/lib/python3.8/site-packages/selenium/webdriver/support/wait.py\u001b[0m in \u001b[0;36muntil\u001b[0;34m(self, method, message)\u001b[0m\n\u001b[1;32m     78\u001b[0m             \u001b[0;32mif\u001b[0m \u001b[0mtime\u001b[0m\u001b[0;34m.\u001b[0m\u001b[0mtime\u001b[0m\u001b[0;34m(\u001b[0m\u001b[0;34m)\u001b[0m \u001b[0;34m>\u001b[0m \u001b[0mend_time\u001b[0m\u001b[0;34m:\u001b[0m\u001b[0;34m\u001b[0m\u001b[0;34m\u001b[0m\u001b[0m\n\u001b[1;32m     79\u001b[0m                 \u001b[0;32mbreak\u001b[0m\u001b[0;34m\u001b[0m\u001b[0;34m\u001b[0m\u001b[0m\n\u001b[0;32m---> 80\u001b[0;31m         \u001b[0;32mraise\u001b[0m \u001b[0mTimeoutException\u001b[0m\u001b[0;34m(\u001b[0m\u001b[0mmessage\u001b[0m\u001b[0;34m,\u001b[0m \u001b[0mscreen\u001b[0m\u001b[0;34m,\u001b[0m \u001b[0mstacktrace\u001b[0m\u001b[0;34m)\u001b[0m\u001b[0;34m\u001b[0m\u001b[0;34m\u001b[0m\u001b[0m\n\u001b[0m\u001b[1;32m     81\u001b[0m \u001b[0;34m\u001b[0m\u001b[0m\n\u001b[1;32m     82\u001b[0m     \u001b[0;32mdef\u001b[0m \u001b[0muntil_not\u001b[0m\u001b[0;34m(\u001b[0m\u001b[0mself\u001b[0m\u001b[0;34m,\u001b[0m \u001b[0mmethod\u001b[0m\u001b[0;34m,\u001b[0m \u001b[0mmessage\u001b[0m\u001b[0;34m=\u001b[0m\u001b[0;34m''\u001b[0m\u001b[0;34m)\u001b[0m\u001b[0;34m:\u001b[0m\u001b[0;34m\u001b[0m\u001b[0;34m\u001b[0m\u001b[0m\n",
      "\u001b[0;31mTimeoutException\u001b[0m: Message: \n"
     ]
    }
   ],
   "source": [
    "yt.fetch('r6UDVAWtihA')"
   ]
  },
  {
   "cell_type": "code",
   "execution_count": null,
   "metadata": {},
   "outputs": [],
   "source": [
    "from IPython.display import Image, HTML\n",
    "yt.getscreenshot()\n",
    "Image('screenshot.png')"
   ]
  },
  {
   "cell_type": "code",
   "execution_count": null,
   "metadata": {},
   "outputs": [],
   "source": [
    "Image(yt.meta['thumbnail'])"
   ]
  },
  {
   "cell_type": "code",
   "execution_count": null,
   "metadata": {},
   "outputs": [],
   "source": [
    "yt.getrecommend()"
   ]
  },
  {
   "cell_type": "code",
   "execution_count": null,
   "metadata": {
    "scrolled": false
   },
   "outputs": [],
   "source": [
    "yt.transcript()"
   ]
  },
  {
   "cell_type": "code",
   "execution_count": 24,
   "metadata": {},
   "outputs": [
    {
     "data": {
      "text/plain": [
       "{'title': 'Handling The Honeymoon Phase In Relationships | ZULA ChickChats | EP 100',\n",
       " 'description': \"It's our 100th episode of Zula Chickchats! And in this episode, we discuss couples' honeymoon phases and what happened after that.Thank you Bifesta for makin...\",\n",
       " 'keywords': 'honeymoon phase, singapore, relationship, pda, being comfortable around partner, boyfriend, girlfriend, bifesta, removing makeup, insecurities, bare face, revealing bare face'}"
      ]
     },
     "execution_count": 24,
     "metadata": {},
     "output_type": "execute_result"
    }
   ],
   "source": [
    "# Get Video Properties\n",
    "{y:x for x,y in zip([x.get_attribute('content') for x in yt.driver.find_elements(By.CSS_SELECTOR,\"meta\") if x.get_attribute('name') in ['title','description','keywords']],[x.get_attribute('name') for x in yt.driver.find_elements(By.CSS_SELECTOR,\"meta\") if x.get_attribute('name') in ['title','description','keywords']])}"
   ]
  },
  {
   "cell_type": "code",
   "execution_count": 23,
   "metadata": {},
   "outputs": [
    {
     "data": {
      "text/plain": [
       "{'duration': 'PT11M44S',\n",
       " 'interactionCount': '75185',\n",
       " 'datePublished': '2020-08-21',\n",
       " 'genre': 'People & Blogs'}"
      ]
     },
     "execution_count": 23,
     "metadata": {},
     "output_type": "execute_result"
    }
   ],
   "source": [
    "{y:x for x,y in zip([x.get_attribute('content') for x in yt.driver.find_elements(By.CSS_SELECTOR,\"meta\") if x.get_attribute('itemprop') in ['duration','interactionCount','datePublished','genre']],[x.get_attribute('itemprop') for x in yt.driver.find_elements(By.CSS_SELECTOR,\"meta\") if x.get_attribute('itemprop') in ['duration','interactionCount','datePublished','genre']])}"
   ]
  },
  {
   "cell_type": "code",
   "execution_count": 15,
   "metadata": {},
   "outputs": [],
   "source": [
    "html = etree.HTML(yt.driver.page_source)"
   ]
  },
  {
   "cell_type": "code",
   "execution_count": 16,
   "metadata": {},
   "outputs": [
    {
     "data": {
      "text/plain": [
       "[{'http-equiv': 'X-UA-Compatible', 'content': 'IE=edge'},\n",
       " {'name': 'theme-color', 'content': 'rgba(255,255,255,0.98)'},\n",
       " {'charset': 'UTF-8'},\n",
       " {'name': 'title', 'content': 'Handling The Honeymoon Phase In Relationships | ZULA ChickChats | EP 100'},\n",
       " {'name': 'description', 'content': \"It's our 100th episode of Zula Chickchats! And in this episode, we discuss couples' honeymoon phases and what happened after that.Thank you Bifesta for makin...\"},\n",
       " {'name': 'keywords', 'content': 'honeymoon phase, singapore, relationship, pda, being comfortable around partner, boyfriend, girlfriend, bifesta, removing makeup, insecurities, bare face, revealing bare face'},\n",
       " {'property': 'og:site_name', 'content': 'YouTube'},\n",
       " {'property': 'og:url', 'content': 'https://www.youtube.com/watch?v=5L31Wbrg7tE'},\n",
       " {'property': 'og:title', 'content': 'Handling The Honeymoon Phase In Relationships | ZULA ChickChats | EP 100'},\n",
       " {'property': 'og:image', 'content': 'https://i.ytimg.com/vi/5L31Wbrg7tE/maxresdefault.jpg'},\n",
       " {'property': 'og:image:width', 'content': '1280'},\n",
       " {'property': 'og:image:height', 'content': '720'},\n",
       " {'property': 'og:description', 'content': \"It's our 100th episode of Zula Chickchats! And in this episode, we discuss couples' honeymoon phases and what happened after that.Thank you Bifesta for makin...\"},\n",
       " {'property': 'al:ios:app_store_id', 'content': '544007664'},\n",
       " {'property': 'al:ios:app_name', 'content': 'YouTube'},\n",
       " {'property': 'al:ios:url', 'content': 'vnd.youtube://www.youtube.com/watch?v=5L31Wbrg7tE&feature=applinks'},\n",
       " {'property': 'al:android:url', 'content': 'vnd.youtube://www.youtube.com/watch?v=5L31Wbrg7tE&feature=applinks'},\n",
       " {'property': 'al:web:url', 'content': 'http://www.youtube.com/watch?v=5L31Wbrg7tE&feature=applinks'},\n",
       " {'property': 'og:type', 'content': 'video.other'},\n",
       " {'property': 'og:video:url', 'content': 'https://www.youtube.com/embed/5L31Wbrg7tE'},\n",
       " {'property': 'og:video:secure_url', 'content': 'https://www.youtube.com/embed/5L31Wbrg7tE'},\n",
       " {'property': 'og:video:type', 'content': 'text/html'},\n",
       " {'property': 'og:video:width', 'content': '1280'},\n",
       " {'property': 'og:video:height', 'content': '720'},\n",
       " {'property': 'al:android:app_name', 'content': 'YouTube'},\n",
       " {'property': 'al:android:package', 'content': 'com.google.android.youtube'},\n",
       " {'property': 'og:video:tag', 'content': 'honeymoon phase'},\n",
       " {'property': 'og:video:tag', 'content': 'singapore'},\n",
       " {'property': 'og:video:tag', 'content': 'relationship'},\n",
       " {'property': 'og:video:tag', 'content': 'pda'},\n",
       " {'property': 'og:video:tag', 'content': 'being comfortable around partner'},\n",
       " {'property': 'og:video:tag', 'content': 'boyfriend'},\n",
       " {'property': 'og:video:tag', 'content': 'girlfriend'},\n",
       " {'property': 'og:video:tag', 'content': 'bifesta'},\n",
       " {'property': 'og:video:tag', 'content': 'removing makeup'},\n",
       " {'property': 'og:video:tag', 'content': 'insecurities'},\n",
       " {'property': 'og:video:tag', 'content': 'bare face'},\n",
       " {'property': 'og:video:tag', 'content': 'revealing bare face'},\n",
       " {'property': 'fb:app_id', 'content': '87741124305'},\n",
       " {'name': 'twitter:card', 'content': 'player'},\n",
       " {'name': 'twitter:site', 'content': '@youtube'},\n",
       " {'name': 'twitter:url', 'content': 'https://www.youtube.com/watch?v=5L31Wbrg7tE'},\n",
       " {'name': 'twitter:title', 'content': 'Handling The Honeymoon Phase In Relationships | ZULA ChickChats | EP 100'},\n",
       " {'name': 'twitter:description', 'content': \"It's our 100th episode of Zula Chickchats! And in this episode, we discuss couples' honeymoon phases and what happened after that.Thank you Bifesta for makin...\"},\n",
       " {'name': 'twitter:image', 'content': 'https://i.ytimg.com/vi/5L31Wbrg7tE/maxresdefault.jpg'},\n",
       " {'name': 'twitter:app:name:iphone', 'content': 'YouTube'},\n",
       " {'name': 'twitter:app:id:iphone', 'content': '544007664'},\n",
       " {'name': 'twitter:app:name:ipad', 'content': 'YouTube'},\n",
       " {'name': 'twitter:app:id:ipad', 'content': '544007664'},\n",
       " {'name': 'twitter:app:url:iphone', 'content': 'vnd.youtube://www.youtube.com/watch?v=5L31Wbrg7tE&feature=applinks'},\n",
       " {'name': 'twitter:app:url:ipad', 'content': 'vnd.youtube://www.youtube.com/watch?v=5L31Wbrg7tE&feature=applinks'},\n",
       " {'name': 'twitter:app:name:googleplay', 'content': 'YouTube'},\n",
       " {'name': 'twitter:app:id:googleplay', 'content': 'com.google.android.youtube'},\n",
       " {'name': 'twitter:app:url:googleplay', 'content': 'https://www.youtube.com/watch?v=5L31Wbrg7tE'},\n",
       " {'name': 'twitter:player', 'content': 'https://www.youtube.com/embed/5L31Wbrg7tE'},\n",
       " {'name': 'twitter:player:width', 'content': '1280'},\n",
       " {'name': 'twitter:player:height', 'content': '720'},\n",
       " {'itemprop': 'name', 'content': 'Handling The Honeymoon Phase In Relationships | ZULA ChickChats | EP 100'},\n",
       " {'itemprop': 'description', 'content': \"It's our 100th episode of Zula Chickchats! And in this episode, we discuss couples' honeymoon phases and what happened after that.Thank you Bifesta for makin...\"},\n",
       " {'itemprop': 'paid', 'content': 'False'},\n",
       " {'itemprop': 'channelId', 'content': 'UCmLH91Sri-NyfI6Cgq5ydAQ'},\n",
       " {'itemprop': 'videoId', 'content': '5L31Wbrg7tE'},\n",
       " {'itemprop': 'duration', 'content': 'PT11M44S'},\n",
       " {'itemprop': 'unlisted', 'content': 'False'},\n",
       " {'itemprop': 'width', 'content': '1280'},\n",
       " {'itemprop': 'height', 'content': '720'},\n",
       " {'itemprop': 'playerType', 'content': 'HTML5 Flash'},\n",
       " {'itemprop': 'width', 'content': '1280'},\n",
       " {'itemprop': 'height', 'content': '720'},\n",
       " {'itemprop': 'isFamilyFriendly', 'content': 'true'},\n",
       " {'itemprop': 'regionsAllowed', 'content': 'AD,AE,AF,AG,AI,AL,AM,AO,AQ,AR,AS,AT,AU,AW,AX,AZ,BA,BB,BD,BE,BF,BG,BH,BI,BJ,BL,BM,BN,BO,BQ,BR,BS,BT,BV,BW,BY,BZ,CA,CC,CD,CF,CG,CH,CI,CK,CL,CM,CN,CO,CR,CU,CV,CW,CX,CY,CZ,DE,DJ,DK,DM,DO,DZ,EC,EE,EG,EH,ER,ES,ET,FI,FJ,FK,FM,FO,FR,GA,GB,GD,GE,GF,GG,GH,GI,GL,GM,GN,GP,GQ,GR,GS,GT,GU,GW,GY,HK,HM,HN,HR,HT,HU,ID,IE,IL,IM,IN,IO,IQ,IR,IS,IT,JE,JM,JO,JP,KE,KG,KH,KI,KM,KN,KP,KR,KW,KY,KZ,LA,LB,LC,LI,LK,LR,LS,LT,LU,LV,LY,MA,MC,MD,ME,MF,MG,MH,MK,ML,MM,MN,MO,MP,MQ,MR,MS,MT,MU,MV,MW,MX,MY,MZ,NA,NC,NE,NF,NG,NI,NL,NO,NP,NR,NU,NZ,OM,PA,PE,PF,PG,PH,PK,PL,PM,PN,PR,PS,PT,PW,PY,QA,RE,RO,RS,RU,RW,SA,SB,SC,SD,SE,SG,SH,SI,SJ,SK,SL,SM,SN,SO,SR,SS,ST,SV,SX,SY,SZ,TC,TD,TF,TG,TH,TJ,TK,TL,TM,TN,TO,TR,TT,TV,TW,TZ,UA,UG,UM,US,UY,UZ,VA,VC,VE,VG,VI,VN,VU,WF,WS,YE,YT,ZA,ZM,ZW'},\n",
       " {'itemprop': 'interactionCount', 'content': '75185'},\n",
       " {'itemprop': 'datePublished', 'content': '2020-08-21'},\n",
       " {'itemprop': 'uploadDate', 'content': '2020-08-21'},\n",
       " {'itemprop': 'genre', 'content': 'People & Blogs'}]"
      ]
     },
     "execution_count": 16,
     "metadata": {},
     "output_type": "execute_result"
    }
   ],
   "source": [
    "[x.attrib for x in html.findall(\".//meta\")]"
   ]
  },
  {
   "cell_type": "code",
   "execution_count": 73,
   "metadata": {},
   "outputs": [
    {
     "data": {
      "text/plain": [
       "['YSFvMJ7Sr9A',\n",
       " 'nLOvDD9Bs1A&list',\n",
       " 'xRk3XCYlSno',\n",
       " '-H9XpDHhLfM',\n",
       " 'ikdbeBDAfzg',\n",
       " 'xgAKV96pFbk',\n",
       " 'SpSNmPKZOmk',\n",
       " 'P8Ur0Yi38Sw',\n",
       " 'i4Nn6Gx2Uv8',\n",
       " 'xIEhVH7wQw4',\n",
       " 'GMnwea3nfcg',\n",
       " '2zz8kP7Jf94',\n",
       " 'tsIDyQPHLhs',\n",
       " 'TZsJvY_FRMY',\n",
       " 'O1Jkz9AXNTg',\n",
       " 'YXJ8u16iEVI',\n",
       " '96J0qDggwOg',\n",
       " '25DOmcjbGAk',\n",
       " 'o0jefVloo0o',\n",
       " 'DdnSlF7x9oc']"
      ]
     },
     "execution_count": 73,
     "metadata": {},
     "output_type": "execute_result"
    }
   ],
   "source": [
    "## Get the IDs from all the anchors\n",
    "[str.split(x.attrib['href'],'=')[1] for x in html.findall(\".//a[@id='thumbnail']\") if ('href' in x.attrib.keys())]"
   ]
  },
  {
   "cell_type": "code",
   "execution_count": 74,
   "metadata": {},
   "outputs": [
    {
     "data": {
      "text/plain": [
       "['Denpurna Nightcore',\n",
       " 'YouTube',\n",
       " 'Cool Nightcore',\n",
       " 'Nightcore Cloud',\n",
       " 'Shiro',\n",
       " 'VvinChan Nightcore',\n",
       " 'Kuna Unbrella',\n",
       " 'Nightcore Disciple',\n",
       " 'Legendary Nightcore',\n",
       " 'Acoustic Songs Collection',\n",
       " 'Trending TikTok',\n",
       " 'Hazzard Overtake',\n",
       " 'Sachi',\n",
       " 'Acoustic Songs Collection',\n",
       " 'JINIE',\n",
       " 'Zein Nightcore',\n",
       " 'Cool Nightcore',\n",
       " 'Nightcore Cloud',\n",
       " 'Anirose',\n",
       " \"Xavi's Nightcore Lab\"]"
      ]
     },
     "execution_count": 74,
     "metadata": {},
     "output_type": "execute_result"
    }
   ],
   "source": [
    "# Recommended Video Channels\n",
    "[x.text for x in html.findall(\".//div[@id='metadata']/div/ytd-channel-name/div/div/yt-formatted-string\")]"
   ]
  },
  {
   "cell_type": "code",
   "execution_count": 75,
   "metadata": {},
   "outputs": [
    {
     "data": {
      "text/plain": [
       "['YSFvMJ7Sr9A',\n",
       " 'nLOvDD9Bs1A&list',\n",
       " 'xRk3XCYlSno',\n",
       " '-H9XpDHhLfM',\n",
       " 'ikdbeBDAfzg',\n",
       " 'xgAKV96pFbk',\n",
       " 'SpSNmPKZOmk',\n",
       " 'P8Ur0Yi38Sw',\n",
       " 'i4Nn6Gx2Uv8',\n",
       " 'xIEhVH7wQw4',\n",
       " 'GMnwea3nfcg',\n",
       " '2zz8kP7Jf94',\n",
       " 'tsIDyQPHLhs',\n",
       " 'TZsJvY_FRMY',\n",
       " 'O1Jkz9AXNTg',\n",
       " 'YXJ8u16iEVI',\n",
       " '96J0qDggwOg',\n",
       " '25DOmcjbGAk',\n",
       " 'o0jefVloo0o',\n",
       " 'DdnSlF7x9oc']"
      ]
     },
     "execution_count": 75,
     "metadata": {},
     "output_type": "execute_result"
    }
   ],
   "source": [
    "# Recommended Video IDs\n",
    "[str.split(x.attrib['href'],'=')[1] for x in html.findall(\".//span[@id='video-title']/../..\")]"
   ]
  },
  {
   "cell_type": "code",
   "execution_count": 76,
   "metadata": {},
   "outputs": [
    {
     "data": {
      "text/plain": [
       "['Best Nightcore Switching Vocals Mix 2018 ✪ 1 Hour Special ✪',\n",
       " 'Mix - Nightcore Romantic MIX 2020 - Best Nightcore Switching Vocals Couple Romantic Song Mix',\n",
       " 'New Nightcore Songs Mix 2020 - Top Nightcore Songs Hour Music 2020 - Best Nightcore Song Remix #6',\n",
       " 'Best  Love Songs 2020 - Best Hits English  Cover Of Popular Songs /',\n",
       " '30 Minutes Nightcore Couple - Switching Vocals Mix (1k Subs Special)',\n",
       " 'Best Nightcore 2020 - New OPM Nightcore Songs 2020 - New Tagalog Songs 2020 Playlist',\n",
       " '❤1Hour Romance Nightcore Mix ❤ #1',\n",
       " 'Nightcore Opm love songs | New Opm Nightcore 2020',\n",
       " 'Sad Nightcore 1 Hour Mix! (You must watch) Best Songs!',\n",
       " 'Top English Acoustic Love Songs 2020 - Greatest Hits Ballad Acoustic Guitar Cover Of Popular Songs',\n",
       " 'Tik Tok Songs 2020 * TikTok Music 2020 * TikTok Hits 2020 * Tik Tok Hot Trending 2020',\n",
       " '★ 30 minutes ♪ Nightcore Couple  Mix #3 💘',\n",
       " '30 Minutes Switching Vocals ↬ Nightcore  (Lyrics) (100 Subscribers Special)',\n",
       " 'Best English Acoustic Love Songs 2020 - Greatest Hits Ballad Acoustic Guitar Cover Of Popular Songs',\n",
       " 'Best Nightcore Switching Vocals Mix | 1 hour',\n",
       " 'Nightcore - Before You Go ( lyrics )',\n",
       " 'New Nightcore Songs Mix 2020 - Top Nightcore Songs Hour Music 2020 - Best Nightcore Song Remix #1',\n",
       " 'Nightcore - Top 20 Song This Week - New Songs 2019 ( Vevo Hot This Week)',\n",
       " '🌻 1 Hour Best Nightcore Couple Romantic Love Song Mix | Switching Vocals',\n",
       " 'Depresive / Sad「1h mix」  ♫NIGHTCORE♫  ★Legendary Nightcore Mix★']"
      ]
     },
     "execution_count": 76,
     "metadata": {},
     "output_type": "execute_result"
    }
   ],
   "source": [
    "# Recommended Video Titles\n",
    "[x.attrib['title'] for x in html.findall(\".//span[@id='video-title']\")]"
   ]
  },
  {
   "cell_type": "code",
   "execution_count": 80,
   "metadata": {},
   "outputs": [
    {
     "data": {
      "text/plain": [
       "['1M views',\n",
       " None,\n",
       " '358K views',\n",
       " '24K views',\n",
       " '816K views',\n",
       " '1.9K views',\n",
       " '303K views',\n",
       " '192K views',\n",
       " '2.5M views',\n",
       " '5M views',\n",
       " '336K views',\n",
       " '741K views',\n",
       " '668 views',\n",
       " '2.9M views',\n",
       " '137K views',\n",
       " '908K views',\n",
       " '94K views',\n",
       " '1.6M views',\n",
       " '368K views',\n",
       " '2.5K views']"
      ]
     },
     "execution_count": 80,
     "metadata": {},
     "output_type": "execute_result"
    }
   ],
   "source": [
    "# Get Popularity views\n",
    "[x.getchildren()[0].text for x in html.findall(\".//div[@id='metadata-line']\")] # .replace(' views','')\n",
    "# df['Val'].replace({'K': '*1e3', 'M': '*1e6'}, regex=True).map(pd.eval).astype(int)"
   ]
  },
  {
   "cell_type": "code",
   "execution_count": 42,
   "metadata": {},
   "outputs": [
    {
     "data": {
      "text/plain": [
       "0      392000\n",
       "1     8100000\n",
       "2     1200000\n",
       "3     1200000\n",
       "4     3100000\n",
       "5     4099999\n",
       "6     8100000\n",
       "7     3500000\n",
       "8     2000000\n",
       "9      335000\n",
       "10      93000\n",
       "11     898000\n",
       "12    1700000\n",
       "13     362000\n",
       "14    3000000\n",
       "15     548000\n",
       "16    5400000\n",
       "17    2900000\n",
       "18    5200000\n",
       "19      80000\n",
       "Name: VIEWS, dtype: int64"
      ]
     },
     "execution_count": 42,
     "metadata": {},
     "output_type": "execute_result"
    }
   ],
   "source": [
    "pd.DataFrame(zip(vid,title,channel,views),columns=['ID','TITLE','CHANNEL','VIEWS'])['VIEWS'].replace({'K': '*1e3', 'M': '*1e6'}, regex=True).map(pd.eval).astype(int)"
   ]
  },
  {
   "cell_type": "code",
   "execution_count": 91,
   "metadata": {},
   "outputs": [
    {
     "data": {
      "text/plain": [
       "['2 years ago',\n",
       " 'None',\n",
       " '4 months ago',\n",
       " '3 months ago',\n",
       " '3 years ago',\n",
       " '2 weeks ago',\n",
       " '1 year ago',\n",
       " '2 months ago',\n",
       " '3 years ago',\n",
       " '1 month ago',\n",
       " '1 month ago',\n",
       " '2 years ago',\n",
       " '2 months ago',\n",
       " '1 month ago',\n",
       " '4 months ago',\n",
       " '3 months ago',\n",
       " '5 months ago',\n",
       " '1 year ago',\n",
       " '1 year ago',\n",
       " '2 years ago']"
      ]
     },
     "execution_count": 91,
     "metadata": {},
     "output_type": "execute_result"
    }
   ],
   "source": [
    "# Get Created data\n",
    "[x.getchildren()[1].text if (len(x.getchildren()) > 1) else 'None' for x in html.findall(\".//div[@id='metadata-line']\")]"
   ]
  },
  {
   "cell_type": "code",
   "execution_count": 81,
   "metadata": {},
   "outputs": [
    {
     "ename": "IndexError",
     "evalue": "list index out of range",
     "output_type": "error",
     "traceback": [
      "\u001b[0;31m---------------------------------------------------------------------------\u001b[0m",
      "\u001b[0;31mIndexError\u001b[0m                                Traceback (most recent call last)",
      "\u001b[0;32m<ipython-input-81-111e5590e4d4>\u001b[0m in \u001b[0;36m<module>\u001b[0;34m\u001b[0m\n\u001b[1;32m      3\u001b[0m \u001b[0mchannel\u001b[0m \u001b[0;34m=\u001b[0m \u001b[0;34m[\u001b[0m\u001b[0mx\u001b[0m\u001b[0;34m.\u001b[0m\u001b[0mtext\u001b[0m \u001b[0;32mfor\u001b[0m \u001b[0mx\u001b[0m \u001b[0;32min\u001b[0m \u001b[0mhtml\u001b[0m\u001b[0;34m.\u001b[0m\u001b[0mfindall\u001b[0m\u001b[0;34m(\u001b[0m\u001b[0;34m\".//div[@id='metadata']/div/ytd-channel-name/div/div/yt-formatted-string\"\u001b[0m\u001b[0;34m)\u001b[0m\u001b[0;34m]\u001b[0m\u001b[0;34m\u001b[0m\u001b[0;34m\u001b[0m\u001b[0m\n\u001b[1;32m      4\u001b[0m \u001b[0mviews\u001b[0m \u001b[0;34m=\u001b[0m \u001b[0;34m[\u001b[0m\u001b[0mx\u001b[0m\u001b[0;34m.\u001b[0m\u001b[0mgetchildren\u001b[0m\u001b[0;34m(\u001b[0m\u001b[0;34m)\u001b[0m\u001b[0;34m[\u001b[0m\u001b[0;36m0\u001b[0m\u001b[0;34m]\u001b[0m\u001b[0;34m.\u001b[0m\u001b[0mtext\u001b[0m \u001b[0;32mfor\u001b[0m \u001b[0mx\u001b[0m \u001b[0;32min\u001b[0m \u001b[0mhtml\u001b[0m\u001b[0;34m.\u001b[0m\u001b[0mfindall\u001b[0m\u001b[0;34m(\u001b[0m\u001b[0;34m\".//div[@id='metadata-line']\"\u001b[0m\u001b[0;34m)\u001b[0m\u001b[0;34m]\u001b[0m\u001b[0;34m\u001b[0m\u001b[0;34m\u001b[0m\u001b[0m\n\u001b[0;32m----> 5\u001b[0;31m \u001b[0mcreated\u001b[0m \u001b[0;34m=\u001b[0m \u001b[0;34m[\u001b[0m\u001b[0mx\u001b[0m\u001b[0;34m.\u001b[0m\u001b[0mgetchildren\u001b[0m\u001b[0;34m(\u001b[0m\u001b[0;34m)\u001b[0m\u001b[0;34m[\u001b[0m\u001b[0;36m1\u001b[0m\u001b[0;34m]\u001b[0m\u001b[0;34m.\u001b[0m\u001b[0mtext\u001b[0m \u001b[0;32mfor\u001b[0m \u001b[0mx\u001b[0m \u001b[0;32min\u001b[0m \u001b[0mhtml\u001b[0m\u001b[0;34m.\u001b[0m\u001b[0mfindall\u001b[0m\u001b[0;34m(\u001b[0m\u001b[0;34m\".//div[@id='metadata-line']\"\u001b[0m\u001b[0;34m)\u001b[0m\u001b[0;34m]\u001b[0m\u001b[0;34m\u001b[0m\u001b[0;34m\u001b[0m\u001b[0m\n\u001b[0m\u001b[1;32m      6\u001b[0m \u001b[0mpd\u001b[0m\u001b[0;34m.\u001b[0m\u001b[0mDataFrame\u001b[0m\u001b[0;34m(\u001b[0m\u001b[0mzip\u001b[0m\u001b[0;34m(\u001b[0m\u001b[0mvid\u001b[0m\u001b[0;34m,\u001b[0m\u001b[0mtitle\u001b[0m\u001b[0;34m,\u001b[0m\u001b[0mchannel\u001b[0m\u001b[0;34m,\u001b[0m\u001b[0mviews\u001b[0m\u001b[0;34m,\u001b[0m\u001b[0mcreated\u001b[0m\u001b[0;34m)\u001b[0m\u001b[0;34m,\u001b[0m\u001b[0mcolumns\u001b[0m\u001b[0;34m=\u001b[0m\u001b[0;34m[\u001b[0m\u001b[0;34m'ID'\u001b[0m\u001b[0;34m,\u001b[0m\u001b[0;34m'TITLE'\u001b[0m\u001b[0;34m,\u001b[0m\u001b[0;34m'CHANNEL'\u001b[0m\u001b[0;34m,\u001b[0m\u001b[0;34m'VIEWS'\u001b[0m\u001b[0;34m,\u001b[0m\u001b[0;34m'CREATED'\u001b[0m\u001b[0;34m]\u001b[0m\u001b[0;34m)\u001b[0m\u001b[0;34m\u001b[0m\u001b[0;34m\u001b[0m\u001b[0m\n",
      "\u001b[0;32m<ipython-input-81-111e5590e4d4>\u001b[0m in \u001b[0;36m<listcomp>\u001b[0;34m(.0)\u001b[0m\n\u001b[1;32m      3\u001b[0m \u001b[0mchannel\u001b[0m \u001b[0;34m=\u001b[0m \u001b[0;34m[\u001b[0m\u001b[0mx\u001b[0m\u001b[0;34m.\u001b[0m\u001b[0mtext\u001b[0m \u001b[0;32mfor\u001b[0m \u001b[0mx\u001b[0m \u001b[0;32min\u001b[0m \u001b[0mhtml\u001b[0m\u001b[0;34m.\u001b[0m\u001b[0mfindall\u001b[0m\u001b[0;34m(\u001b[0m\u001b[0;34m\".//div[@id='metadata']/div/ytd-channel-name/div/div/yt-formatted-string\"\u001b[0m\u001b[0;34m)\u001b[0m\u001b[0;34m]\u001b[0m\u001b[0;34m\u001b[0m\u001b[0;34m\u001b[0m\u001b[0m\n\u001b[1;32m      4\u001b[0m \u001b[0mviews\u001b[0m \u001b[0;34m=\u001b[0m \u001b[0;34m[\u001b[0m\u001b[0mx\u001b[0m\u001b[0;34m.\u001b[0m\u001b[0mgetchildren\u001b[0m\u001b[0;34m(\u001b[0m\u001b[0;34m)\u001b[0m\u001b[0;34m[\u001b[0m\u001b[0;36m0\u001b[0m\u001b[0;34m]\u001b[0m\u001b[0;34m.\u001b[0m\u001b[0mtext\u001b[0m \u001b[0;32mfor\u001b[0m \u001b[0mx\u001b[0m \u001b[0;32min\u001b[0m \u001b[0mhtml\u001b[0m\u001b[0;34m.\u001b[0m\u001b[0mfindall\u001b[0m\u001b[0;34m(\u001b[0m\u001b[0;34m\".//div[@id='metadata-line']\"\u001b[0m\u001b[0;34m)\u001b[0m\u001b[0;34m]\u001b[0m\u001b[0;34m\u001b[0m\u001b[0;34m\u001b[0m\u001b[0m\n\u001b[0;32m----> 5\u001b[0;31m \u001b[0mcreated\u001b[0m \u001b[0;34m=\u001b[0m \u001b[0;34m[\u001b[0m\u001b[0mx\u001b[0m\u001b[0;34m.\u001b[0m\u001b[0mgetchildren\u001b[0m\u001b[0;34m(\u001b[0m\u001b[0;34m)\u001b[0m\u001b[0;34m[\u001b[0m\u001b[0;36m1\u001b[0m\u001b[0;34m]\u001b[0m\u001b[0;34m.\u001b[0m\u001b[0mtext\u001b[0m \u001b[0;32mfor\u001b[0m \u001b[0mx\u001b[0m \u001b[0;32min\u001b[0m \u001b[0mhtml\u001b[0m\u001b[0;34m.\u001b[0m\u001b[0mfindall\u001b[0m\u001b[0;34m(\u001b[0m\u001b[0;34m\".//div[@id='metadata-line']\"\u001b[0m\u001b[0;34m)\u001b[0m\u001b[0;34m]\u001b[0m\u001b[0;34m\u001b[0m\u001b[0;34m\u001b[0m\u001b[0m\n\u001b[0m\u001b[1;32m      6\u001b[0m \u001b[0mpd\u001b[0m\u001b[0;34m.\u001b[0m\u001b[0mDataFrame\u001b[0m\u001b[0;34m(\u001b[0m\u001b[0mzip\u001b[0m\u001b[0;34m(\u001b[0m\u001b[0mvid\u001b[0m\u001b[0;34m,\u001b[0m\u001b[0mtitle\u001b[0m\u001b[0;34m,\u001b[0m\u001b[0mchannel\u001b[0m\u001b[0;34m,\u001b[0m\u001b[0mviews\u001b[0m\u001b[0;34m,\u001b[0m\u001b[0mcreated\u001b[0m\u001b[0;34m)\u001b[0m\u001b[0;34m,\u001b[0m\u001b[0mcolumns\u001b[0m\u001b[0;34m=\u001b[0m\u001b[0;34m[\u001b[0m\u001b[0;34m'ID'\u001b[0m\u001b[0;34m,\u001b[0m\u001b[0;34m'TITLE'\u001b[0m\u001b[0;34m,\u001b[0m\u001b[0;34m'CHANNEL'\u001b[0m\u001b[0;34m,\u001b[0m\u001b[0;34m'VIEWS'\u001b[0m\u001b[0;34m,\u001b[0m\u001b[0;34m'CREATED'\u001b[0m\u001b[0;34m]\u001b[0m\u001b[0;34m)\u001b[0m\u001b[0;34m\u001b[0m\u001b[0;34m\u001b[0m\u001b[0m\n",
      "\u001b[0;31mIndexError\u001b[0m: list index out of range"
     ]
    }
   ],
   "source": [
    "vid = [str.split(x.attrib['href'],'=')[1] for x in html.findall(\".//a[@id='thumbnail']\") if ('href' in x.attrib.keys())]\n",
    "title = [x.attrib['title'] for x in html.findall(\".//span[@id='video-title']\")]\n",
    "channel = [x.text for x in html.findall(\".//div[@id='metadata']/div/ytd-channel-name/div/div/yt-formatted-string\")]\n",
    "views = [x.getchildren()[0].text for x in html.findall(\".//div[@id='metadata-line']\")]\n",
    "created = [x.getchildren()[1].text for x in html.findall(\".//div[@id='metadata-line']\")]\n",
    "pd.DataFrame(zip(vid,title,channel,views,created),columns=['ID','TITLE','CHANNEL','VIEWS','CREATED'])"
   ]
  },
  {
   "cell_type": "code",
   "execution_count": null,
   "metadata": {},
   "outputs": [],
   "source": []
  },
  {
   "cell_type": "markdown",
   "metadata": {},
   "source": [
    "## BTO Transcripts"
   ]
  },
  {
   "cell_type": "code",
   "execution_count": 37,
   "metadata": {},
   "outputs": [
    {
     "data": {
      "text/plain": [
       "\"This is John and Jill. They are about to get married and start a family, but first they have to plan for their future and it's not buying the perfect home. Both John and Jill are working polygraph and the earn a combined monthly salary of $ 4,000. Ideally, they would like to live near their parents in the ground, so many options is easy to get confused now. Do you know what options you have, how welcome number option? 1, a 3-bedroom easy in some balance, a 3-bedroom easy and the balance will cost you about. Seven hundred ninety thousand dollars there's a monthly household income of four thousand dollars. You will be able to take a bank loan of up to two hundred and twenty thousand dollars. Next, let's start by it, you can receive a CPF housing grant releases of up to $ 30,000. This review is four hundred ninety thousand dollars, which has to be paid up front and and resupply suspend for thirty. Nine thousand five hundred dollars has to be paid cash, while the rest can be covered by CPM. I can see there your concern with the figures and EC may not be the most financially sound option. Don'T worry? Here's another option option to a foreign refill in Samoa. The price of a forum, resale flat in Subang, is about three hundred sixty thousand dollars, but lucky you. The government has just announced that the CCS housing grants will be raised from $ 30,000 to $ 50,000 for couples to purchase for room, flash or smaller from the retail market and in forty thousand dollars for those who fight black. There are five groups or figures. This means, as first-time buyers, buying a forum initial plan in a non mature estate. You will receive up to fifty five thousand dollars in grants because you are buying a hope to list on unity apparent. You will receive an additional $ 20,000 in proximity. Housing run these make up a total up to eighty five thousand dollars in grant. So you're left with a sum of $ 275,000 after the initial ten percent of $ 36,000 that you can change using TANF. You can pick up an HPV load for the balance of around two hundred and thirty-nine thousand dollars to financial. Oh, you will need to make monthly installments of about one thousand and ninety dollars on which about nine hundred and twenty dollars can be paid. Yes, this means you need to fork out a total of a hundred and seventy dollars in cash monthly and better. Yet resale flats are available in many locations around Singapore and you can move into your home immediately that it's not too bad right, but I have an even more affordable option if you are able to plan ahead and wait a little longer, a forum GTO flat in Shambhala, the cost of the BPO is two hundred seventy thousand dollars, but because you are a first-time buyer and the bow is in a non mature estate, you'll receive $ 55,000 in grunts. The down payment for the home is twenty-seven thousand dollars, which is fully deductible from the CPF after housing grants for $ 55,000, there will be a balance, purchase price off $ 188,000 city finance to housing, learn from PCB. This will mean a monthly installment of $ 850, but fret not. This is also fully payable through your PBS. This means that you be without zeros on half or your home. Now this sounds more manageable right. So have you made your decision? Yet home is a big ticket purchase and you have to consider all your cash. We ask yourself if you need to move in illegally or are you evil plan ahead? See me in the private property of Irish Life in a location from the city center? Why not choose a small flat that houses the family come up with? Why not stay in non-maturity, because as well connected and equipped with amenities that you will need for some clever planning, you can get a great home and the flexibility using extra savings in any way. You like thank you for watching head over to APD jobs or SD for more details. \""
      ]
     },
     "execution_count": 37,
     "metadata": {},
     "output_type": "execute_result"
    }
   ],
   "source": [
    "transcript('cYtSEj1v0ew')"
   ]
  },
  {
   "cell_type": "code",
   "execution_count": 139,
   "metadata": {
    "scrolled": true
   },
   "outputs": [
    {
     "data": {
      "text/plain": [
       "\"Both of us, we plant a lot of strawberries la on each other's lands. What * screams * Hi, I'm Bolin, I'm Qing, I'm Peps Hi, I'm Leah, and this is Zula ChickChats. Okay, hi guys welcome to today's episode of ChickChats. Why Are you all very nervous? Yes, this is my first time on ChickChats Welcome And today's episode we'll be talking about being in the grey area as much requested from the comments section below. Ah So we hear you okay, we will do this episode for you guys. So my first question to you guys, then, is what happened. Okay, whoever wants can share first la What happened. Bolin, Let's start with Bolin. No Qing should start because she's the new person. Why me? Oh my god? Yes, What happened. I met the person through an app Okay, So we hit off like we talk, then after that move to Telegram. But the thing right we went out for so many times right. The places we go to right were like-, not the kind of place that you and your friends would go to. For example, For example, I need to say where Yes, for example - Oh my god Wah, I nervous - I can see her mouth shaking eh. What is happening? You'Ll go the-, I know The shopping centre, the handicapped toilet. No, Oh my god! You go right. You go! That's why you know right Walao, eh! No, I think too far. Sorry! Okay, we like go picnic. We go like Christmas. Wonderland, Like a lot of date, places Right, But the thing is like nothing happened out of it, So it became from like having feelings to become a little bit more like annoyed and like frustrated of what is happening between the both of us. Like till a point where, okay, if nothing is going to happen, then like-, I don't want to waste your time. Neither should I waste my time So like I ended it la Huh. You never attack. No, I won't So that's the thing I won't When you go out with this person right. Did you all do anything Like hold hands la or like all these kind of thing. We only got hug when we leave that's the thing Walao eh, So it's very-, Don't walao eh You're in this panel. Also, okay Shut the fuck up. How did you end it? So I ended it through text. Wait. The funniest thing is that you ended it as if it was something you know what I mean. No so the thing was- She closed the chapter. For that What did say to close said chapter Like um ``. I don't know where this is going. .'' ``. I don't know what are we .'' ``? Let'S just not waste each other's times, .'' Yeah, something like that ``, So like-''. The reply from him was `` Yeah. I also feel the same way .'' Then some of my friends' perspective is like a bit different. It'S like is it because you showed him this way. That'S why he too scared to like say his real feelings and then ran away, Or it's like he really might have felt the same way, and then nobody said it If he had said that actually like he treats me more than just a friend, then I won't Like just let it go like that- because I feel like after spending like so many months together, hanging out and talking everyday to me, it's more than just a friend la Yeah, Or maybe he tried to attack but but then, like you too, dumb already, Maybe eh. No wait: Okay, wait! So I'm someone who's damn- Like blur, Ah yeah So like if this person hint something right, I might not get it Aiya, you don't know how to attack la walao, eh Bolin. How about you teach me how to- Yeah? How about Bolin? You explain your story. Tell me about the guy's point of view. No, you explain you story. First Bolin, then we see whether you know how to attack or not, Ah correct. What are you doing on this episode? Can you tell me Er, Okay, so uh So like about 5 years ago, I studied in Taiwan for like one year plus One of my classmate she's, like an asian french. So we just call her the French girl Everytime after class right. We will go. Makan ( eat ). Together then, after that she will come over to my dorm, then we study, Oh, Is it really `` study''? Really, You know like the 日久生情? No, I don't understand. Okay, English call the. If you work together for a very long time, then suddenly got the- got the feeling Spark I'll keep asking her to come over la and study. Ah, even though got some days, she didn't ask for help, So this is this'bam' isit Like a'boop' like that, Then I increase my attack a bit. So I'm like `` There's a bar nearby. Quite nice, Want to go together. ?'' Then she's like ``, Okay. Ah, let's go !'' For guys right when you jio a girl out. Ah then the girl is like ``. Should we call the rest ?''? Ah, then you know the attack fail. She say ``, It's just us right! ?'', I'm like ``, Yes, .'', ``! Okay, let's go !'', It became like a norm thing Then one night she drink. She a bit drunk She's, actually hanging out with a group of French people, her classmates la But her classmates like don't know that she keep coming to my place. That'S when I start to confuse already Like if we got- slowly got something you should tell your friends So, okay back to the drunk story, So that night she tell me that ``. Can I sleep at your dorm ?'', Ladies and gentlemen, don't think too far. First, okay, I'm like ``, Okay, you sleep on my bed. Then I sleep outside .'' The next day. I wake up. Ah she sleeping beside me. You know on the sofa, Then I'm like ``. Oh my god, What happened? ?''? No, we didn't do anything. We didn't. Do anything, Then she tell me that she lonely she want to sleep with me. That means if I- say my feelings ah confirm 100 %. We together already, Then, when u suka ( like ) each other and you keep drinking what will happen next? No, they like'BAM' already. Oh okay. Sorry la Our'BAM' ah, is not the'BAM BAM', It's like a- -'BABABABAM'. Is it No * screams *, So we didn't'BAM BAM', Then you'bam bam' We'BAM'. What That means. We never go all the way, Then hor the last month of her internship. Ah then, I confess already I'm like ``. Actually I, like you .'', Then she a bit shocked. Then I'm like `` Wah, siao liao. You shocked. That means not a good reaction already .''. Then she tell me that actually, the French group of friends - ah one of them, is actually sort of seeing her Nani. Okay, Then I'm like what the f- Before she go to Paris. She will fly to Hong Kong. First Then, I booked a flight to Hong Kong and find her Okay. I think this one stupid already Sorry. I know I stupid, I agree, So I went to her hotel and want to like try my last try already. Ah Then, it ended very badly. She changed to another hotel, then I don't know where to go. Then I alone at Shenzhen kena dump. Then she delete me everywhere. She blocked me everywhere: Okay, Peps, your turn, So it was when I was in poly year, one He was in my class, but we started getting close- because we took the same bus to school. Then I started like questioning myself like `` Eh. Is it friends always like that ?'' Because he started getting physically affectionate towards me, So I have this thing right. Okay, all my friends know that- He will like `` Eh. You can touch mine .'', That kind, So the bus ride will be like that. That kind, Obviously our friends started, asking like `` Eh are y'all like dating ?''. That was when I know I was in the grey area, because I didn't know how to answer. Then my friends were like `` Huh. Then you don't want to like ask him about it, meh ?'', But then at the same time I'm also like her I'm like ``. No thank you .''. It went on for like one whole semester. I think. But basically what happened was we just started drifting apart? Okay, so Peps is labelled queen of grey areas for a reason By the entire office by the way. So how many other times has this happened with other people? Qing will know When I know her la I think like around 5. Oh, my god, I forgot Wait. So the other ones also end up like the just drift for no reason or what Just end Just end or like we just became good friends Like did you try anything different after learning your lesson from the first one? No okay! So because after this 18-year-old Peps right after the first grey, I got into a relationship And then after that relationship I got into a second relationship And then after this relationship, then I was really single for like one entire year. Then, when I started like getting back into the arena of dating right, then I'm back to the square one. Then the square one Peps was when this shenanigan happen. So obviously I didn't learn from that la I feel like for both of us right when it comes to this kind of things. It'S like. If the person don't say anything, we will just leave it hanging and then we are very comfortable with hanging one to one. So maybe to the other person, it's like `` Aiya. I think she's, just comfortable hanging with me as a friend .'', As in like some of them is not because I'm waiting for their answer. You know It's like. I think then I realise I don't want After awhile I realised that like `` Eh, I don't really have to wait for their answer. I can ownself answer myself and then just go on from there la .'' Like it can go two ways. What Like- Can I ask one question Because for both of you right, your grey area, hor, the guy, never really attack attack. You know What, if, ah you guys- you and the guy hor, like you, * slurps, sound *, already Damn gross leh. Why every episode you slurping noodles, one Bolin, Okay, do more than just like hold hands, And then they still don't want to confirm anything. Would you tak buleh tahan ( cannot stand it ) already `` Eh, what the fuck man .'' Okay and then you go and confront .'' `` Eh, you kiss me already. So what is it ?''? I have self respect So when they coming to me right-. They already coming, I'm just like `` Woah, okay, what is this .'' Eh mai, lai (? Don'T like that? ) la Aiya, all talk cock, one la you I feel like. I will also When the planter want to plant the strawberry. You will let him plant one. No, That's what you think, Because, like I'm not going to give you boyfriend privilege- when you're, just like that, Damn girl, Okay, a lot of my relationships start with grey area- and the grey area, usually very long one, Because I'm the kind of person that, like you, Don'T want to say anything, I don't really care because to me it's like `` Woohoo party. I don't care about you Whatever. I don't need this guy in my life, .'', Okay, so this is with my ex boyfriend. Okay, but before he was my ex boyfriend, we were just friends and we met through mutual friends because we work at the same work place And then because my friends are the kind that they- keep want to party. So after work, they always like `` Eh Leah. We go this bar drink, .'', `` Leah. We go here and drink .'', So he always happens to be there, also la because he very free that period. It happened a few times- and then every time we go club. It'S always like the same thing Like we will dance to each other or whatever, then what That's about it Like? We never really do anything else. So this period of like the clubbing or the meet with group of friends- and then we just like- act like we are a thing. But not a thing happened for like a few months to one year Like a few months to one year kind: The heck Yeah, but then everybody like question mark at us that kind. So that's why I consider it like grey area la The turning point was when-. This one time I went back in a cab with his close friend this girl, Okay, my friends always ask `` Eh you and him how ah .'', Then I say ``, Nothing, nothing, .'', It's always very casual. They never ask me seriously Only in the cab, then the girl ask me seriously like `` Eh, what are y'all. Ah ?'', Then I say `` I don't know leh .'', Then she like ``. I think u should ask leh .'' `` Like y'all already so long already like that, then never do anything .'' Then I think about it. Then I say: ``: Okay, lor. What'S the harm in asking Just ask lor .'', So I just text that night in the cab, then I said He read then the next day he reply, then it was like something about like ``. Oh, I don't really want .'' Like something something Blah blah. Then I just like, Like I okay, that kind of thing, But then ah after that, still want to continue, And the worse thing is that after that thing it wasn't just clubbing. It'S like he ask me out individually, then we go out one-on-one. Only Then he want to hold my hand all this kind of thing in public. Also, When I asked him was like maybe a few months in like 8 months in already Then the next year like in the middle of the year, then he asked me to be his girlfriend. It was a one and a half year period of like-. We just never establish what are we, So it was just like this person in my life and that's about it. So I think when the grey areas becomes very serious right, it's always when you start to communicate a lot more with the person- and like talk one-on-one with the person, I think we didn't reach that point until later on. I think I guess we talked a bit about our stories already right. Do you all think that being in a grey area has its pros and cons, Or do you feel like it's just like? No, like you don't even want to be in this grey area? I think it depends on how much you're willing to tolerate For me right. I think the pros usually last like within the early stages-, so it will last for very short only Before I catch feelings, I'll be like ``, Okay, this seems fun, .'', `` And I'm getting to know you .'', But then once it gets confusing. Usually, that's when I already catch feelings And then, like I realise, like I question, every single thing that he does right I'll, be like ``. Oh my god does this mean that he likes me ?'' ``. Does this mean something ?''? I feel like once you already like the person right. There are a lot more cons than there are pros. I think it changes the feeling from `` I like you'', to become like- ``, What the heck are we'' like angry. I think- Okay la it's, a very clear pros and cons in that sense la, But I think what our audience would like to know right is like how to handle these kinds of situations. So we posted up a Q & A on our Zula Instagram la For people who you know are not sure about certain things when they are in the grey area. So I'm gon na pull it out now and then see whether you can answer these questions. Oh okay, this person say- they fuck on the first date, Wah Good job Because he's supposed to be FWB, ( Friends With Benefits ) because he's supposed to be FWB, that's what she said, But then catch feelings and dating Then she say-. This wasn't meant to be a commitment thing, but I want to give it a shot anyway. So the question is how I feel like hor 80 %. Don'T try Why, When you are FWB with someone you don't care whether the person got red flag or whether she got do this got. Do that or whether you like this or like that You don't care one, what correct Confirm got chance also, but high chance. Is it won't end? Well, one, You know, Okay, I think know yourself. First, la Like know what kind of person you are because like for me right, I think if let's say I have feelings for the person, I wouldn't do all those things, because it will confuse me and my decisions Exactly So. This might be confusing your decision. I would say you can give it a period of X number of months right At the end of X number of months. You see whether your feelings for the person is real feelings for the person or you just like infatuated. That kind of thing So by the deadline. If I feel that I, like the person even more, that kind of thing, then I'll make it clear. If not right, then it will just make you very upset in the long run, Hanging out and being all touchy with each other-, and yet he hangs out with many other girls-. Despite knowing my feelings for him Before you drop right, maybe you ask first No, but he knows about the feelings. What But, okay, how explicit were you with your feelings? Did you say like ``, I want you to be my boyfriend ?''. I think it's more of like clearing it with him Like ``. Oh who are they ?''? That kind of thing Like ask it very casually, instead of like guessing that it's like-, Don't assume Yeah, don't assume Someone said ``. I feel like it's just an excuse for the other party to not commit or be responsible for their actions .''. I dont necessarily think that it's an excuse, eh, I don't think so also Because I feel sometimes it takes time for people to get to know the other party right- and in dating it never jumps straight into like ``, Okay, we're dating .''. You know what I mean As a girl. You guys also paiseh, to ask right, I mean I'm pretty sure out. There got a lot of guys, also paiseh, to ask Of course, So this one, you must really see how one Like, okay, you can think to yourself la. Do you want this to progress further? If you want it to progress further, then just take the freaking shot and ask The worst thing he's going to say is ``. I don't really feel the same way. .'' Then move on la, because the thing is that if you don't ask- and you just like Qing decide to like `` - Oh, I think it's not going anywhere So like yeah .'', Then the person may just assume that like ``. Oh, I guess it's not going anywhere so I'll just say no also .''. I agree. I think a lot of people think that it's on the guys to say something- but actually like in this day and age. I don't think girls should wait for the guys. Also. So, like girls can also say, If it will make your mind more clearer, right- and like not so confused right, then like just do it la You changed a lot. You know, I think so. Also You changed a lot Eh. Thank you, leh, No serious, because it's like not based on what they want. Also It's based on what you want. Also what Okay, I feel like right, grey areas right inevitably will happen with any relationships at the start. Okay, But it's not for you to see. Who cares less It's for you to see whether you all are compatible So in a sense? Why you're questioning yourself about ``, Should I care more ?'' ``? Should I text this person ?'' ``? What if the person never reply me should I continue texting ?''. That kind of thing right, It's an indicator of the interest of the other party, actually Because it's very normal for people to play hard to get It's fun like I get it trust me, I get it To me. You cannot fault the other person for playing because that's their own choice. You can only trust yourself to do the best response to their actions. I hope we covered everyone's concerns in the comments below. Hopefully, our video has directed you in some sense Yeah, And if you liked this video leave in the comments down below what you liked about it- and tell us what to talk about next time And don't forget to like share and subscribe Bye. Why you never say bye, Bye, \""
      ]
     },
     "execution_count": 139,
     "metadata": {},
     "output_type": "execute_result"
    }
   ],
   "source": [
    "transcript('rb_adz0tkOw')"
   ]
  },
  {
   "cell_type": "code",
   "execution_count": 122,
   "metadata": {
    "scrolled": true
   },
   "outputs": [
    {
     "data": {
      "text/plain": [
       "\"On one of the days um, we were supposed to have a date .... He came to my house like downstairs. Then I no time to draw eyebrows no time to draw anything right. Then we [ sat ] at the lamp post. There [, I made ] sure to choose the dimmest lamppost Hi. I ’ m Julian Hi. I ’ m Amanda Hi. I ’ m John Hi. I ’ m Leah and this is Zula ChickChats Hi guys welcome to today. ’ s, episode of Zula ChickChats And today we ’ re gon na be talking about- the honeymoon phase in relationships. We have 3 people over here to share uh- their honeymoon phases in their relationships. So…. The first Can you: why Can you explain what the honeymoon phase is I ...? What do you mean You don, ’ t know I ’ m married. I forgot about it. It ’ s been a long time ago. Okay, so the honeymoon phase, I guess, would be the period before your relationship starts getting serious, All the butterflies, all the romantic gestures, Oh ..., For the first question: maybe we ’ ll, let the audience know for you guys. How long have you been in your relationships? Almost 6 years You know almost 6 years. Mine is uh. 3 years plus Mine is 7 months. Ooo! Okay, Mine is about 2 years, So the honeymoon phase for y. ’ all was it very like? Was it a very long period for you guys, or I would say a few months, like maybe 2 to 3 months? Strangely enough, I did ask my boyfriend this question recently. Then he said that he still feels like [. We ’ re in the ] honeymoon phase. Now, But for me when I see him now it ’ s like a calm and like “, Oh, I know this person very well And I can be safe with this person. ” Not that it went downhill after that lah. But you know the whole. It stagnated Ya the whole like “ ehh, ” thing was about 2 to 3 months. I would say that it ’ s similar to mine. Personally right, I feel, like I ’ m, a very chill person So like the “ ehh, ” phase. Didn, ’ t! Last! Very long also, I know he was in his honeymoon phase when we were in Mongolia. Oh really, I remember Cause What happened in Mongolia because we didn ’ t we didn. ’ t have reception right when we were in Mongolia, But when, when we came back to the like, the lodging place right ..., He was like. I was like giggly and everything. Oh, my god ... And then I like, send video message all and I ’ m, like “ Hehehe., ” I mean that ’ s, that ’ s. Basically, the like the more intense you know like every moment is like… Ya. Must text Is like excitement, Butterflies? Is it coming back to you, Julian Yea, ...? Okay, what Share It? ’ s the entire first year, Because when we started dating she didn, ’ t she put me on hold for like 3 months, Damn MJ The 3 months were kind of like the test. You know Like the first month, I ’ ll, go to her office and I ’ ll, be like “ Uh, hey MJ, um .... Do you want me to drive you home, ” It? ’! S like this is point A point B. This is my house. This is her office [ And it ’ s ] like this, But you ’ re like “, Ya, ya, ya, It ’ s on the way. ”, But I still insisted For my relationship. The the honeymoon period right is like before we got together. We were already friends, then we already dated before, But then cause he like flew overseas and stuff. So we didn, ’ t continue. So when he came back then we started dating again. I think I remember that period. Why why you were like excited and very happy to meet him Got that energy. I think I also saw Leah once also [ at ] Boon, Keng MRT. Then I ’ m, like “ Eh Leah, who ’ s, that Your boyfriend? Ah ”. Then she ’ s. Like What the fuck, where got act like that sia, Which is totally not her right, Can you imagine me doing that It? ’ s so different? I never do that. Okay, It's so different! The story is that I bought him tickets to go, see Odesza. I ask him cause, I know his favourite DJ, So I asked him “ Eh, My friends got lobang for these tickets. Do you want to go ” I didn? ’ t say anything after that: [ and ]. He was like “. Oh, Can you buy the tickets? ” Then I just like `` Huh. Why you want me to buy the tickets ?''? Then he was like `` Huh, Not going with you meh ?'', Then I like, then I just Yea, but that ’ s about it. My next question is that when was the point, you realised you know your honeymoon phase like a bit ending already right…, Then what are some things that you did, then you realised “, Oh shit Like should I be doing this ” Then you like question yourself a Bit When she finally farted in front of me, Oh yea, Like shit like that, I was waiting man. She only farted like 3 years 3 years worth of fart Into the relationship. Oh, That means she like she control Wah, That ’ s how you know when the honeymoon phase is over. I think also, like the I think, for girls, it ’ s like you know you put on your appearance when you meet them Or meet someone new right, Then, at home you are a bit different, So it ’ s like [ when ] they stay over. The first time you ’ re, like fucking, stressed Cause you ’ re like “, Oh my god later I take out my makeup. They ’ re. Gon na think I ’ m fucking cui (, not so presentable. ). I need to wear my specs eh. Then I need to wear my sleeping T-shirt and all Like, oh my gosh GG. ”. So the thing is right: you just don, ’ t address it. Yea You just remove right. Then you just pretend nothing happened. Then you go out and just continue talking like nothing happened. If they want to say something about it, then they will say Yea. If I remember correctly, Justin saw me without makeup. Even before we were officially together On one of the days um, we were supposed to have a date He came to my house downstairs. Then I no time to draw eyebrows no time to draw anything right. So I just go down “ Huh shen me shi (. What happened )? What happened? ?'', Then we [ sat ] at the lamp post. There [ I made ] sure to choose the dimmest. Lamppost cannot see properly Then [. He said ] “! Oh You! ’ re! Very beautiful, today.! ”! Thank you. So, for the guys, what ’ s your…, If y ’ all had to meet somebody from her side, what ’ s the most that y? ’ all would do. For the first time I met her parents. I I definitely dressed up a bit like more presentable, Something like what I would wear to work, but not the not the James Rainier. ’ s! Spectrum! You wore this to work. Ah so so it ’ s like me like that, and then there ’ s. James Rainer And then there ’ s another spectrum, which is the jeans and normal shirt that y ’ all, never see. Ah it ’ s towards that direction. Okay, ...! I think the also like you say the first time meeting parents and everything right For me is like the first time I meet like the friends right…. Then I fucking stressed eh Yea, Like oh, my gosh. What are his friends going to think of me? Huh? Really? Ah And then they ’ re going to say, like I, ’ m, not good enough for him all this kind of thing. What if they think I damn cui looking What if they say, “ Uh Wah last time your girlfriend prettier. ” Ya Ours. Is we? ’ re just going out Ya Ya, some more. Like I ’ m meeting my childhood friend Yea cool man. Are we drinking Another thing aside from meeting all these, like friends and everything right, which I think is a very significant part of the honeymoon phase? There is the um…: What ’ s that called Like the quirks come out in the relationship? Okay, so like for me right, she likes it when I exercise She wants me to exercise If let's say that there are weeks that I never exercise right Last time she will just like “. So when [ are ] you exercising ?'', You know that kind. Then I ’ ll be just like “ Orh, okay, I ’ ll, try to do this. ”. Then she ’ ll, just “ Okay.. ” Now is the like. “, You everytime say only lorh. You say only You say, but you never do. ” In the end. Right, it becomes a lot of Basically. The crux of the argument is the like: I promise you Yea…, you say something and then you never deliver. So what are some quirks [ that ], like appeared after the honeymoon? I think it? ’ s more of my peeve because, like during the honeymoon period, you tend to be a bit more huggy huggy that kind of thing. But after the honeymoon period I feel a bit like “ Mmm. Don, ’ t need to hug so much lah. Don! ’ t touch me .'', But his his love language is physical touch, Yea, so ..., Not that I hate hugging, But on the MRT, sometimes like he will like like bear hug like that a bit, Then I ’ ll, be like “ Aiya, Uhh, ”, Okay, Julian! For you, Mine is um… Our size difference is so much that she hates she hates it. When I horse play Because there ’ s a high chance, she ’ s, either injured or like got bruised Correct. There was one time right. We were watching a movie. She was like leaning on my on my shoulder. Then I laughed like this “ Hahaha !'', So I crushed her face behind my back and then her nose was like this, the entire night. This is like after honeymoon And she was like. Oh she fucking raged already. She straight away: [ take ] the knife “. Can you be more careful next time? ?'' Can not let go one, these kind of thing. It's true It! ’ s like you know my boyfriend also like he will last time it ’ s like he annoy me. Then he will like ... Cause. I got say before, like “. If you act cute, then it ’ s my weakness. ”, But now it ’ s like he will. He will just say like “. Oh sorry, Hehehe… ” that kind. Then I like “, Sorry mean anything meh You. Never even you ’ re not going to change. ” Immunity. Then he like “, Oh fuck, ” Then he just lets the day passed. Okay, so umm… We asked on our Zula. ’ s! Ig! If people have any questions about like relationship [ during ], the honeymoon phase, So I ’ m going to read it now and maybe y ’ all can give some advice. Oh, Should I feel guilty for asking my partner to take more initiative in the relationship In order for a relationship to work right. There must be communication and compromise, So you want like “ Why you never give me roses anymore, ” Say it. Don! ’ t expect the person to read your mind, Always make sure you over-deliver in the relationship, Although I know that there ’ s a phase where you feel like “ Aiya bochup Anyway, this person will stick around and things like that. ”. Someone asked What, if my partner doesn't like how I look after-, I reveal my face and true colours, Okay. Firstly, this one is Breakup. This one is Wait. Breakup Breakup Wait. So this question is, like I mean superficial the partner don ’ t like after remove. Ah, ... Or ... Haven: ’ t remove yet scared to remove. No it ’ s like what if They scared Oh…, They scared what, if Cause, if remove already, and they don ’ t like right. The answer Amanda provide already. So if you ’ re questioning it now, maybe give it a bit more time Because yea But like at the same time right this episode right. We have provided the model answer on how to react For girls right when y, ’ all remove your makeup. They already say already: don, ’ t acknowledge Just appear: Yea, don't acknowledge, Appear like the goddess. You are and then just like “, What ’ s different, ” And then, as you can see, Instant from this conversation, also right, the guys we don ’ t know anything. One Yea guys are not as observant or like as critical as you think about your appearance. Someone has [. Also ] asked this question, which I think a lot of people face. My parents hate my boyfriend, but his parents are so accepting of me. What should I do Wah? I think this is something that a lot of people face Yea. Actually it ’ s, something ... Ya, it! ’ s very, very common. I face it on a daily basis, Not really not very accepting lah, because I think I ’ m. Not… Not traditional Because of your gongjiao ( tattoo ) lah. I think the most important thing still is your partner. Yes, If your partner really likes, you then like…, Because I think if your partner is on the fence, then all the more your opposite side will be. It becomes difficult, very insecure. You must reassure If your parents - don ’ t really like right, then you must reassure your partner that you are all for this relationship lah. Maybe another active step that you can do as the not facing conflict partner is to be the one that keeps nurturing this relationship between your partner and your parents Yea .... So I think, with that said, is like we have come to the end of the episode, But it ’ s just one last question, which is the advice to couples on having a healthy relationship even after the honeymoon period Like how do you still maintain that strong Relationship The honeymoon period should never end. Actually, it should be like popping up here and there once in a while And of course, communication is key. Umm, do not sleep without fixing an issue That will develop a bad habit of keeping problems and making them bigger than it should be, Or you sleep one day, lah at least the next morning. Ah, okay Maximum one day, But you got to solve it within the next day. Lah confirm Yea, don, ’ t, let it um ... Fester Linger for too long Yea. As what Julian said, you need to have a lot of patience. Uh. You need to have a lot of commitment When you don, ’ t have the butterflies there and when everything becomes too comfortable right .... That is when the true test of the relationship starts. Personally, I just feel that, like you just need a lot of honesty with each other, You don, ’ t want to expect your partner to understand and read your mind all the time It never ever hurts to be. To be honest about your needs, I think also it ’ s, just small things like, for example, you go out. Then you see like “ Wah, the sunset very nice.. ”. Then you just text them like “, Eh, sunset, very nice. You want, we can go, watch sunset, together. ”, So it ’ s like small things like that. The other party will like really appreciate it. I feel If they, if someone said that I ’ m, like “. Oh my god, okay lets go now. ”. So today we talked about the honeymoon phase in relationships, and we kind of concluded that you know just just have to be comfortable in front of your partner That ’ s the most important thing. So thank you. Bifesta for making this video possible And Bifesta has just launched their new sebum micellar wipes For ladies, that are looking for a convenient and refreshing makeup. Remover. If you want to find out more about the product click, the link in our description And you're also be able to try out a sample there, And let us know also in the comments what else you want us to talk about in future episodes of ChickChats And Don, ’ t forget to ... Like share and subscribe Bye. \""
      ]
     },
     "execution_count": 122,
     "metadata": {},
     "output_type": "execute_result"
    }
   ],
   "source": [
    "transcript('5L31Wbrg7tE')"
   ]
  },
  {
   "cell_type": "code",
   "execution_count": 140,
   "metadata": {},
   "outputs": [
    {
     "data": {
      "text/plain": [
       "\"This is John and Jill. They are about to get married and start a family, but first they have to plan for their future and it's not buying the perfect home. Both John and Jill are working polygraph and the earn a combined monthly salary of $ 4,000. Ideally, they would like to live near their parents in the ground, so many options is easy to get confused now. Do you know what options you have, how welcome number option? 1, a 3-bedroom easy in some balance, a 3-bedroom easy and the balance will cost you about. Seven hundred ninety thousand dollars there's a monthly household income of four thousand dollars. You will be able to take a bank loan of up to two hundred and twenty thousand dollars. Next, let's start by it, you can receive a CPF housing grant releases of up to $ 30,000. This review is four hundred ninety thousand dollars, which has to be paid up front and and resupply suspend for thirty. Nine thousand five hundred dollars has to be paid cash, while the rest can be covered by CPM. I can see there your concern with the figures and EC may not be the most financially sound option. Don'T worry? Here's another option option to a foreign refill in Samoa. The price of a forum, resale flat in Subang, is about three hundred sixty thousand dollars, but lucky you. The government has just announced that the CCS housing grants will be raised from $ 30,000 to $ 50,000 for couples to purchase for room, flash or smaller from the retail market and in forty thousand dollars for those who fight black. There are five groups or figures. This means, as first-time buyers, buying a forum initial plan in a non mature estate. You will receive up to fifty five thousand dollars in grants because you are buying a hope to list on unity apparent. You will receive an additional $ 20,000 in proximity. Housing run these make up a total up to eighty five thousand dollars in grant. So you're left with a sum of $ 275,000 after the initial ten percent of $ 36,000 that you can change using TANF. You can pick up an HPV load for the balance of around two hundred and thirty-nine thousand dollars to financial. Oh, you will need to make monthly installments of about one thousand and ninety dollars on which about nine hundred and twenty dollars can be paid. Yes, this means you need to fork out a total of a hundred and seventy dollars in cash monthly and better. Yet resale flats are available in many locations around Singapore and you can move into your home immediately that it's not too bad right, but I have an even more affordable option if you are able to plan ahead and wait a little longer, a forum GTO flat in Shambhala, the cost of the BPO is two hundred seventy thousand dollars, but because you are a first-time buyer and the bow is in a non mature estate, you'll receive $ 55,000 in grunts. The down payment for the home is twenty-seven thousand dollars, which is fully deductible from the CPF after housing grants for $ 55,000, there will be a balance, purchase price off $ 188,000 city finance to housing, learn from PCB. This will mean a monthly installment of $ 850, but fret not. This is also fully payable through your PBS. This means that you be without zeros on half or your home. Now this sounds more manageable right. So have you made your decision? Yet home is a big ticket purchase and you have to consider all your cash. We ask yourself if you need to move in illegally or are you evil plan ahead? See me in the private property of Irish Life in a location from the city center? Why not choose a small flat that houses the family come up with? Why not stay in non-maturity, because as well connected and equipped with amenities that you will need for some clever planning, you can get a great home and the flexibility using extra savings in any way. You like thank you for watching head over to APD jobs or SD for more details. \""
      ]
     },
     "execution_count": 140,
     "metadata": {},
     "output_type": "execute_result"
    }
   ],
   "source": [
    "transcript('cYtSEj1v0ew')"
   ]
  },
  {
   "cell_type": "code",
   "execution_count": 145,
   "metadata": {},
   "outputs": [
    {
     "data": {
      "text/plain": [
       "\"My name is I've been working for about two years. My name is Rob. I'Ve been working for about two years, six years, plus I think five years plus I'm very sure, let's see God my location off just nice kata-kata and they realize okay might as well. We just did I just graduated. Yes, I think two years ago yeah - and I guess it just seemed like a natural information from that February. For the column, one poet a key numbers, a thousand by hello, I'm Hansel - I just graduated from in yet last year, and now I'm doing an internship of jewelry come and your student, your tree, we have been together what six? Yes, I think with us always day. Video, what does the you need to be married before you can apply for the blueblack all controller? I mean you're gon na collect the key. Oh boss, you don't need to be married, like yeah, you can apply first, then you get true or false. It is possible to play pain, zero cash yeah. You can actually go share without paying any cash. It wasn't actually, when we first up like right like she just after working and I was do study, so the total income was like very good because we had 30,000. You can, and by the time we to make the down payment both head, like some cpsf, so you have to pay any cash for the down payment, like all the loans. That is true. I don't know there are two types of crimes for bigger place in SGA. Skgg, what these acronyms represent Loa is additional special appearance. Alexey Rachel just applied for foreign teeth locally in woodland anonymity arrested. They earn a combined money income of $ 4,000. How much grants will they be usable for married seem to be very alert? Is another side? Are you using HPV evil? Yes, yes, after visible eh, geez, fifteen thousand forty thousand, then, if you had urgent housing me what options, I think you just buy the XFL condo. If I got a money, you very much Quinn find out more when you want to do your video, because, like I've heard that we do research, but you know there was there things that we also, then she really wanted mr. Clement yeah. Are we supposed to? You? Have to pay for a house right, you don't have to that's greatly find out what grunts you're eligible its recoil of my usual video, yeah yeah. Everybody alike, applied your parents better chance of getting it. [, Music, ], \""
      ]
     },
     "execution_count": 145,
     "metadata": {},
     "output_type": "execute_result"
    }
   ],
   "source": [
    "transcript('mPHGGxZwICI')"
   ]
  },
  {
   "cell_type": "code",
   "execution_count": null,
   "metadata": {},
   "outputs": [],
   "source": []
  }
 ],
 "metadata": {
  "kernelspec": {
   "display_name": "Python 3",
   "language": "python",
   "name": "python3"
  },
  "language_info": {
   "codemirror_mode": {
    "name": "ipython",
    "version": 3
   },
   "file_extension": ".py",
   "mimetype": "text/x-python",
   "name": "python",
   "nbconvert_exporter": "python",
   "pygments_lexer": "ipython3",
   "version": "3.8.2"
  }
 },
 "nbformat": 4,
 "nbformat_minor": 4
}
